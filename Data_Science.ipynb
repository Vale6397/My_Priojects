{
  "cells": [
    {
      "cell_type": "markdown",
      "metadata": {
        "id": "7fzVg3H17b7t"
      },
      "source": [
        "# Introduzione"
      ]
    },
    {
      "cell_type": "markdown",
      "metadata": {
        "id": "VJmtrpOOOrSs"
      },
      "source": [
        "L'obiettivo di questa analisi è sviluppare un modello predittivo in grado di stimare il voto finale degli studenti (G3), sulla base di una serie di informazioni raccolte durante il percorso scolastico. Utilizzando tecniche di apprendimento automatico, in particolare modelli di regressione, si cerca di comprendere quali fattori influenzino maggiormente il rendimento scolastico e quanto accuratamente tali fattori permettano di prevedere l'esito finale.\n",
        "\n",
        "Per raggiungere questo scopo, vengono esplorati diversi modelli, Random Forest e Support Vector Regression (SVR), valutando le loro prestazioni tramite opportune metriche di errore e analisi dei residui.\n",
        "\n",
        "Questa indagine può offrire spunti utili anche in ottica educativa, ad esempio per identificare in anticipo studenti a rischio lungo l’anno scolastico."
      ]
    },
    {
      "cell_type": "code",
      "execution_count": 1,
      "metadata": {
        "id": "ePh6ne5y0n82"
      },
      "outputs": [],
      "source": [
        "import numpy as np\n",
        "import pandas as pd\n",
        "import matplotlib.pyplot as plt"
      ]
    },
    {
      "cell_type": "code",
      "execution_count": 2,
      "metadata": {
        "colab": {
          "base_uri": "https://localhost:8080/"
        },
        "id": "RW6Dnlcw1LhQ",
        "outputId": "0134c20e-6ee9-47ed-c76d-d241ddd1a0a0"
      },
      "outputs": [
        {
          "output_type": "stream",
          "name": "stdout",
          "text": [
            "Mounted at /content/drive\n"
          ]
        }
      ],
      "source": [
        "from google.colab import drive\n",
        "drive.mount('/content/drive')"
      ]
    },
    {
      "cell_type": "code",
      "execution_count": 3,
      "metadata": {
        "id": "leOMp1Af1NQ1"
      },
      "outputs": [],
      "source": [
        "raw_dataset = pd.read_csv('/content/drive/MyDrive/student-por.csv', encoding='windows-1254')"
      ]
    },
    {
      "cell_type": "markdown",
      "metadata": {
        "id": "67eAYNHc4lQi"
      },
      "source": [
        "# EDA"
      ]
    },
    {
      "cell_type": "code",
      "execution_count": 4,
      "metadata": {
        "colab": {
          "base_uri": "https://localhost:8080/",
          "height": 392
        },
        "id": "tfk9xqkB6f3j",
        "outputId": "ae0457fa-dda6-4c8e-b009-4e5370ee8543"
      },
      "outputs": [
        {
          "output_type": "execute_result",
          "data": {
            "text/plain": [
              "  school sex  age address famsize Pstatus  Medu  Fedu      Mjob      Fjob  \\\n",
              "0     GP   F   18       U     GT3       A     4     4   at_home   teacher   \n",
              "1     GP   F   17       U     GT3       T     1     1   at_home     other   \n",
              "2     GP   F   15       U     LE3       T     1     1   at_home     other   \n",
              "3     GP   F   15       U     GT3       T     4     2    health  services   \n",
              "4     GP   F   16       U     GT3       T     3     3     other     other   \n",
              "5     GP   M   16       U     LE3       T     4     3  services     other   \n",
              "6     GP   M   16       U     LE3       T     2     2     other     other   \n",
              "7     GP   F   17       U     GT3       A     4     4     other   teacher   \n",
              "8     GP   M   15       U     LE3       A     3     2  services     other   \n",
              "9     GP   M   15       U     GT3       T     3     4     other     other   \n",
              "\n",
              "   ... famrel freetime  goout  Dalc  Walc health absences  G1  G2  G3  \n",
              "0  ...      4        3      4     1     1      3        4   0  11  11  \n",
              "1  ...      5        3      3     1     1      3        2   9  11  11  \n",
              "2  ...      4        3      2     2     3      3        6  12  13  12  \n",
              "3  ...      3        2      2     1     1      5        0  14  14  14  \n",
              "4  ...      4        3      2     1     2      5        0  11  13  13  \n",
              "5  ...      5        4      2     1     2      5        6  12  12  13  \n",
              "6  ...      4        4      4     1     1      3        0  13  12  13  \n",
              "7  ...      4        1      4     1     1      1        2  10  13  13  \n",
              "8  ...      4        2      2     1     1      1        0  15  16  17  \n",
              "9  ...      5        5      1     1     1      5        0  12  12  13  \n",
              "\n",
              "[10 rows x 33 columns]"
            ],
            "text/html": [
              "\n",
              "  <div id=\"df-263668aa-a4e4-413d-b82c-e3e960f347dd\" class=\"colab-df-container\">\n",
              "    <div>\n",
              "<style scoped>\n",
              "    .dataframe tbody tr th:only-of-type {\n",
              "        vertical-align: middle;\n",
              "    }\n",
              "\n",
              "    .dataframe tbody tr th {\n",
              "        vertical-align: top;\n",
              "    }\n",
              "\n",
              "    .dataframe thead th {\n",
              "        text-align: right;\n",
              "    }\n",
              "</style>\n",
              "<table border=\"1\" class=\"dataframe\">\n",
              "  <thead>\n",
              "    <tr style=\"text-align: right;\">\n",
              "      <th></th>\n",
              "      <th>school</th>\n",
              "      <th>sex</th>\n",
              "      <th>age</th>\n",
              "      <th>address</th>\n",
              "      <th>famsize</th>\n",
              "      <th>Pstatus</th>\n",
              "      <th>Medu</th>\n",
              "      <th>Fedu</th>\n",
              "      <th>Mjob</th>\n",
              "      <th>Fjob</th>\n",
              "      <th>...</th>\n",
              "      <th>famrel</th>\n",
              "      <th>freetime</th>\n",
              "      <th>goout</th>\n",
              "      <th>Dalc</th>\n",
              "      <th>Walc</th>\n",
              "      <th>health</th>\n",
              "      <th>absences</th>\n",
              "      <th>G1</th>\n",
              "      <th>G2</th>\n",
              "      <th>G3</th>\n",
              "    </tr>\n",
              "  </thead>\n",
              "  <tbody>\n",
              "    <tr>\n",
              "      <th>0</th>\n",
              "      <td>GP</td>\n",
              "      <td>F</td>\n",
              "      <td>18</td>\n",
              "      <td>U</td>\n",
              "      <td>GT3</td>\n",
              "      <td>A</td>\n",
              "      <td>4</td>\n",
              "      <td>4</td>\n",
              "      <td>at_home</td>\n",
              "      <td>teacher</td>\n",
              "      <td>...</td>\n",
              "      <td>4</td>\n",
              "      <td>3</td>\n",
              "      <td>4</td>\n",
              "      <td>1</td>\n",
              "      <td>1</td>\n",
              "      <td>3</td>\n",
              "      <td>4</td>\n",
              "      <td>0</td>\n",
              "      <td>11</td>\n",
              "      <td>11</td>\n",
              "    </tr>\n",
              "    <tr>\n",
              "      <th>1</th>\n",
              "      <td>GP</td>\n",
              "      <td>F</td>\n",
              "      <td>17</td>\n",
              "      <td>U</td>\n",
              "      <td>GT3</td>\n",
              "      <td>T</td>\n",
              "      <td>1</td>\n",
              "      <td>1</td>\n",
              "      <td>at_home</td>\n",
              "      <td>other</td>\n",
              "      <td>...</td>\n",
              "      <td>5</td>\n",
              "      <td>3</td>\n",
              "      <td>3</td>\n",
              "      <td>1</td>\n",
              "      <td>1</td>\n",
              "      <td>3</td>\n",
              "      <td>2</td>\n",
              "      <td>9</td>\n",
              "      <td>11</td>\n",
              "      <td>11</td>\n",
              "    </tr>\n",
              "    <tr>\n",
              "      <th>2</th>\n",
              "      <td>GP</td>\n",
              "      <td>F</td>\n",
              "      <td>15</td>\n",
              "      <td>U</td>\n",
              "      <td>LE3</td>\n",
              "      <td>T</td>\n",
              "      <td>1</td>\n",
              "      <td>1</td>\n",
              "      <td>at_home</td>\n",
              "      <td>other</td>\n",
              "      <td>...</td>\n",
              "      <td>4</td>\n",
              "      <td>3</td>\n",
              "      <td>2</td>\n",
              "      <td>2</td>\n",
              "      <td>3</td>\n",
              "      <td>3</td>\n",
              "      <td>6</td>\n",
              "      <td>12</td>\n",
              "      <td>13</td>\n",
              "      <td>12</td>\n",
              "    </tr>\n",
              "    <tr>\n",
              "      <th>3</th>\n",
              "      <td>GP</td>\n",
              "      <td>F</td>\n",
              "      <td>15</td>\n",
              "      <td>U</td>\n",
              "      <td>GT3</td>\n",
              "      <td>T</td>\n",
              "      <td>4</td>\n",
              "      <td>2</td>\n",
              "      <td>health</td>\n",
              "      <td>services</td>\n",
              "      <td>...</td>\n",
              "      <td>3</td>\n",
              "      <td>2</td>\n",
              "      <td>2</td>\n",
              "      <td>1</td>\n",
              "      <td>1</td>\n",
              "      <td>5</td>\n",
              "      <td>0</td>\n",
              "      <td>14</td>\n",
              "      <td>14</td>\n",
              "      <td>14</td>\n",
              "    </tr>\n",
              "    <tr>\n",
              "      <th>4</th>\n",
              "      <td>GP</td>\n",
              "      <td>F</td>\n",
              "      <td>16</td>\n",
              "      <td>U</td>\n",
              "      <td>GT3</td>\n",
              "      <td>T</td>\n",
              "      <td>3</td>\n",
              "      <td>3</td>\n",
              "      <td>other</td>\n",
              "      <td>other</td>\n",
              "      <td>...</td>\n",
              "      <td>4</td>\n",
              "      <td>3</td>\n",
              "      <td>2</td>\n",
              "      <td>1</td>\n",
              "      <td>2</td>\n",
              "      <td>5</td>\n",
              "      <td>0</td>\n",
              "      <td>11</td>\n",
              "      <td>13</td>\n",
              "      <td>13</td>\n",
              "    </tr>\n",
              "    <tr>\n",
              "      <th>5</th>\n",
              "      <td>GP</td>\n",
              "      <td>M</td>\n",
              "      <td>16</td>\n",
              "      <td>U</td>\n",
              "      <td>LE3</td>\n",
              "      <td>T</td>\n",
              "      <td>4</td>\n",
              "      <td>3</td>\n",
              "      <td>services</td>\n",
              "      <td>other</td>\n",
              "      <td>...</td>\n",
              "      <td>5</td>\n",
              "      <td>4</td>\n",
              "      <td>2</td>\n",
              "      <td>1</td>\n",
              "      <td>2</td>\n",
              "      <td>5</td>\n",
              "      <td>6</td>\n",
              "      <td>12</td>\n",
              "      <td>12</td>\n",
              "      <td>13</td>\n",
              "    </tr>\n",
              "    <tr>\n",
              "      <th>6</th>\n",
              "      <td>GP</td>\n",
              "      <td>M</td>\n",
              "      <td>16</td>\n",
              "      <td>U</td>\n",
              "      <td>LE3</td>\n",
              "      <td>T</td>\n",
              "      <td>2</td>\n",
              "      <td>2</td>\n",
              "      <td>other</td>\n",
              "      <td>other</td>\n",
              "      <td>...</td>\n",
              "      <td>4</td>\n",
              "      <td>4</td>\n",
              "      <td>4</td>\n",
              "      <td>1</td>\n",
              "      <td>1</td>\n",
              "      <td>3</td>\n",
              "      <td>0</td>\n",
              "      <td>13</td>\n",
              "      <td>12</td>\n",
              "      <td>13</td>\n",
              "    </tr>\n",
              "    <tr>\n",
              "      <th>7</th>\n",
              "      <td>GP</td>\n",
              "      <td>F</td>\n",
              "      <td>17</td>\n",
              "      <td>U</td>\n",
              "      <td>GT3</td>\n",
              "      <td>A</td>\n",
              "      <td>4</td>\n",
              "      <td>4</td>\n",
              "      <td>other</td>\n",
              "      <td>teacher</td>\n",
              "      <td>...</td>\n",
              "      <td>4</td>\n",
              "      <td>1</td>\n",
              "      <td>4</td>\n",
              "      <td>1</td>\n",
              "      <td>1</td>\n",
              "      <td>1</td>\n",
              "      <td>2</td>\n",
              "      <td>10</td>\n",
              "      <td>13</td>\n",
              "      <td>13</td>\n",
              "    </tr>\n",
              "    <tr>\n",
              "      <th>8</th>\n",
              "      <td>GP</td>\n",
              "      <td>M</td>\n",
              "      <td>15</td>\n",
              "      <td>U</td>\n",
              "      <td>LE3</td>\n",
              "      <td>A</td>\n",
              "      <td>3</td>\n",
              "      <td>2</td>\n",
              "      <td>services</td>\n",
              "      <td>other</td>\n",
              "      <td>...</td>\n",
              "      <td>4</td>\n",
              "      <td>2</td>\n",
              "      <td>2</td>\n",
              "      <td>1</td>\n",
              "      <td>1</td>\n",
              "      <td>1</td>\n",
              "      <td>0</td>\n",
              "      <td>15</td>\n",
              "      <td>16</td>\n",
              "      <td>17</td>\n",
              "    </tr>\n",
              "    <tr>\n",
              "      <th>9</th>\n",
              "      <td>GP</td>\n",
              "      <td>M</td>\n",
              "      <td>15</td>\n",
              "      <td>U</td>\n",
              "      <td>GT3</td>\n",
              "      <td>T</td>\n",
              "      <td>3</td>\n",
              "      <td>4</td>\n",
              "      <td>other</td>\n",
              "      <td>other</td>\n",
              "      <td>...</td>\n",
              "      <td>5</td>\n",
              "      <td>5</td>\n",
              "      <td>1</td>\n",
              "      <td>1</td>\n",
              "      <td>1</td>\n",
              "      <td>5</td>\n",
              "      <td>0</td>\n",
              "      <td>12</td>\n",
              "      <td>12</td>\n",
              "      <td>13</td>\n",
              "    </tr>\n",
              "  </tbody>\n",
              "</table>\n",
              "<p>10 rows × 33 columns</p>\n",
              "</div>\n",
              "    <div class=\"colab-df-buttons\">\n",
              "\n",
              "  <div class=\"colab-df-container\">\n",
              "    <button class=\"colab-df-convert\" onclick=\"convertToInteractive('df-263668aa-a4e4-413d-b82c-e3e960f347dd')\"\n",
              "            title=\"Convert this dataframe to an interactive table.\"\n",
              "            style=\"display:none;\">\n",
              "\n",
              "  <svg xmlns=\"http://www.w3.org/2000/svg\" height=\"24px\" viewBox=\"0 -960 960 960\">\n",
              "    <path d=\"M120-120v-720h720v720H120Zm60-500h600v-160H180v160Zm220 220h160v-160H400v160Zm0 220h160v-160H400v160ZM180-400h160v-160H180v160Zm440 0h160v-160H620v160ZM180-180h160v-160H180v160Zm440 0h160v-160H620v160Z\"/>\n",
              "  </svg>\n",
              "    </button>\n",
              "\n",
              "  <style>\n",
              "    .colab-df-container {\n",
              "      display:flex;\n",
              "      gap: 12px;\n",
              "    }\n",
              "\n",
              "    .colab-df-convert {\n",
              "      background-color: #E8F0FE;\n",
              "      border: none;\n",
              "      border-radius: 50%;\n",
              "      cursor: pointer;\n",
              "      display: none;\n",
              "      fill: #1967D2;\n",
              "      height: 32px;\n",
              "      padding: 0 0 0 0;\n",
              "      width: 32px;\n",
              "    }\n",
              "\n",
              "    .colab-df-convert:hover {\n",
              "      background-color: #E2EBFA;\n",
              "      box-shadow: 0px 1px 2px rgba(60, 64, 67, 0.3), 0px 1px 3px 1px rgba(60, 64, 67, 0.15);\n",
              "      fill: #174EA6;\n",
              "    }\n",
              "\n",
              "    .colab-df-buttons div {\n",
              "      margin-bottom: 4px;\n",
              "    }\n",
              "\n",
              "    [theme=dark] .colab-df-convert {\n",
              "      background-color: #3B4455;\n",
              "      fill: #D2E3FC;\n",
              "    }\n",
              "\n",
              "    [theme=dark] .colab-df-convert:hover {\n",
              "      background-color: #434B5C;\n",
              "      box-shadow: 0px 1px 3px 1px rgba(0, 0, 0, 0.15);\n",
              "      filter: drop-shadow(0px 1px 2px rgba(0, 0, 0, 0.3));\n",
              "      fill: #FFFFFF;\n",
              "    }\n",
              "  </style>\n",
              "\n",
              "    <script>\n",
              "      const buttonEl =\n",
              "        document.querySelector('#df-263668aa-a4e4-413d-b82c-e3e960f347dd button.colab-df-convert');\n",
              "      buttonEl.style.display =\n",
              "        google.colab.kernel.accessAllowed ? 'block' : 'none';\n",
              "\n",
              "      async function convertToInteractive(key) {\n",
              "        const element = document.querySelector('#df-263668aa-a4e4-413d-b82c-e3e960f347dd');\n",
              "        const dataTable =\n",
              "          await google.colab.kernel.invokeFunction('convertToInteractive',\n",
              "                                                    [key], {});\n",
              "        if (!dataTable) return;\n",
              "\n",
              "        const docLinkHtml = 'Like what you see? Visit the ' +\n",
              "          '<a target=\"_blank\" href=https://colab.research.google.com/notebooks/data_table.ipynb>data table notebook</a>'\n",
              "          + ' to learn more about interactive tables.';\n",
              "        element.innerHTML = '';\n",
              "        dataTable['output_type'] = 'display_data';\n",
              "        await google.colab.output.renderOutput(dataTable, element);\n",
              "        const docLink = document.createElement('div');\n",
              "        docLink.innerHTML = docLinkHtml;\n",
              "        element.appendChild(docLink);\n",
              "      }\n",
              "    </script>\n",
              "  </div>\n",
              "\n",
              "\n",
              "    <div id=\"df-94aa9a6e-d9fd-4781-a2e0-6cd5395340a6\">\n",
              "      <button class=\"colab-df-quickchart\" onclick=\"quickchart('df-94aa9a6e-d9fd-4781-a2e0-6cd5395340a6')\"\n",
              "                title=\"Suggest charts\"\n",
              "                style=\"display:none;\">\n",
              "\n",
              "<svg xmlns=\"http://www.w3.org/2000/svg\" height=\"24px\"viewBox=\"0 0 24 24\"\n",
              "     width=\"24px\">\n",
              "    <g>\n",
              "        <path d=\"M19 3H5c-1.1 0-2 .9-2 2v14c0 1.1.9 2 2 2h14c1.1 0 2-.9 2-2V5c0-1.1-.9-2-2-2zM9 17H7v-7h2v7zm4 0h-2V7h2v10zm4 0h-2v-4h2v4z\"/>\n",
              "    </g>\n",
              "</svg>\n",
              "      </button>\n",
              "\n",
              "<style>\n",
              "  .colab-df-quickchart {\n",
              "      --bg-color: #E8F0FE;\n",
              "      --fill-color: #1967D2;\n",
              "      --hover-bg-color: #E2EBFA;\n",
              "      --hover-fill-color: #174EA6;\n",
              "      --disabled-fill-color: #AAA;\n",
              "      --disabled-bg-color: #DDD;\n",
              "  }\n",
              "\n",
              "  [theme=dark] .colab-df-quickchart {\n",
              "      --bg-color: #3B4455;\n",
              "      --fill-color: #D2E3FC;\n",
              "      --hover-bg-color: #434B5C;\n",
              "      --hover-fill-color: #FFFFFF;\n",
              "      --disabled-bg-color: #3B4455;\n",
              "      --disabled-fill-color: #666;\n",
              "  }\n",
              "\n",
              "  .colab-df-quickchart {\n",
              "    background-color: var(--bg-color);\n",
              "    border: none;\n",
              "    border-radius: 50%;\n",
              "    cursor: pointer;\n",
              "    display: none;\n",
              "    fill: var(--fill-color);\n",
              "    height: 32px;\n",
              "    padding: 0;\n",
              "    width: 32px;\n",
              "  }\n",
              "\n",
              "  .colab-df-quickchart:hover {\n",
              "    background-color: var(--hover-bg-color);\n",
              "    box-shadow: 0 1px 2px rgba(60, 64, 67, 0.3), 0 1px 3px 1px rgba(60, 64, 67, 0.15);\n",
              "    fill: var(--button-hover-fill-color);\n",
              "  }\n",
              "\n",
              "  .colab-df-quickchart-complete:disabled,\n",
              "  .colab-df-quickchart-complete:disabled:hover {\n",
              "    background-color: var(--disabled-bg-color);\n",
              "    fill: var(--disabled-fill-color);\n",
              "    box-shadow: none;\n",
              "  }\n",
              "\n",
              "  .colab-df-spinner {\n",
              "    border: 2px solid var(--fill-color);\n",
              "    border-color: transparent;\n",
              "    border-bottom-color: var(--fill-color);\n",
              "    animation:\n",
              "      spin 1s steps(1) infinite;\n",
              "  }\n",
              "\n",
              "  @keyframes spin {\n",
              "    0% {\n",
              "      border-color: transparent;\n",
              "      border-bottom-color: var(--fill-color);\n",
              "      border-left-color: var(--fill-color);\n",
              "    }\n",
              "    20% {\n",
              "      border-color: transparent;\n",
              "      border-left-color: var(--fill-color);\n",
              "      border-top-color: var(--fill-color);\n",
              "    }\n",
              "    30% {\n",
              "      border-color: transparent;\n",
              "      border-left-color: var(--fill-color);\n",
              "      border-top-color: var(--fill-color);\n",
              "      border-right-color: var(--fill-color);\n",
              "    }\n",
              "    40% {\n",
              "      border-color: transparent;\n",
              "      border-right-color: var(--fill-color);\n",
              "      border-top-color: var(--fill-color);\n",
              "    }\n",
              "    60% {\n",
              "      border-color: transparent;\n",
              "      border-right-color: var(--fill-color);\n",
              "    }\n",
              "    80% {\n",
              "      border-color: transparent;\n",
              "      border-right-color: var(--fill-color);\n",
              "      border-bottom-color: var(--fill-color);\n",
              "    }\n",
              "    90% {\n",
              "      border-color: transparent;\n",
              "      border-bottom-color: var(--fill-color);\n",
              "    }\n",
              "  }\n",
              "</style>\n",
              "\n",
              "      <script>\n",
              "        async function quickchart(key) {\n",
              "          const quickchartButtonEl =\n",
              "            document.querySelector('#' + key + ' button');\n",
              "          quickchartButtonEl.disabled = true;  // To prevent multiple clicks.\n",
              "          quickchartButtonEl.classList.add('colab-df-spinner');\n",
              "          try {\n",
              "            const charts = await google.colab.kernel.invokeFunction(\n",
              "                'suggestCharts', [key], {});\n",
              "          } catch (error) {\n",
              "            console.error('Error during call to suggestCharts:', error);\n",
              "          }\n",
              "          quickchartButtonEl.classList.remove('colab-df-spinner');\n",
              "          quickchartButtonEl.classList.add('colab-df-quickchart-complete');\n",
              "        }\n",
              "        (() => {\n",
              "          let quickchartButtonEl =\n",
              "            document.querySelector('#df-94aa9a6e-d9fd-4781-a2e0-6cd5395340a6 button');\n",
              "          quickchartButtonEl.style.display =\n",
              "            google.colab.kernel.accessAllowed ? 'block' : 'none';\n",
              "        })();\n",
              "      </script>\n",
              "    </div>\n",
              "\n",
              "    </div>\n",
              "  </div>\n"
            ],
            "application/vnd.google.colaboratory.intrinsic+json": {
              "type": "dataframe",
              "variable_name": "raw_dataset"
            }
          },
          "metadata": {},
          "execution_count": 4
        }
      ],
      "source": [
        "raw_dataset.head(10)"
      ]
    },
    {
      "cell_type": "markdown",
      "metadata": {
        "id": "7PKo-qFN6zsy"
      },
      "source": [
        "I metadati principali delle colonne del dataset sono:"
      ]
    },
    {
      "cell_type": "code",
      "execution_count": 5,
      "metadata": {
        "colab": {
          "base_uri": "https://localhost:8080/"
        },
        "id": "fvbecE_xaEkF",
        "outputId": "0f5c78ed-cd21-475c-b946-c44247d34147"
      },
      "outputs": [
        {
          "output_type": "stream",
          "name": "stdout",
          "text": [
            "<class 'pandas.core.frame.DataFrame'>\n",
            "RangeIndex: 649 entries, 0 to 648\n",
            "Data columns (total 33 columns):\n",
            " #   Column      Non-Null Count  Dtype \n",
            "---  ------      --------------  ----- \n",
            " 0   school      649 non-null    object\n",
            " 1   sex         649 non-null    object\n",
            " 2   age         649 non-null    int64 \n",
            " 3   address     649 non-null    object\n",
            " 4   famsize     649 non-null    object\n",
            " 5   Pstatus     649 non-null    object\n",
            " 6   Medu        649 non-null    int64 \n",
            " 7   Fedu        649 non-null    int64 \n",
            " 8   Mjob        649 non-null    object\n",
            " 9   Fjob        649 non-null    object\n",
            " 10  reason      649 non-null    object\n",
            " 11  guardian    649 non-null    object\n",
            " 12  traveltime  649 non-null    int64 \n",
            " 13  studytime   649 non-null    int64 \n",
            " 14  failures    649 non-null    int64 \n",
            " 15  schoolsup   649 non-null    object\n",
            " 16  famsup      649 non-null    object\n",
            " 17  paid        649 non-null    object\n",
            " 18  activities  649 non-null    object\n",
            " 19  nursery     649 non-null    object\n",
            " 20  higher      649 non-null    object\n",
            " 21  internet    649 non-null    object\n",
            " 22  romantic    649 non-null    object\n",
            " 23  famrel      649 non-null    int64 \n",
            " 24  freetime    649 non-null    int64 \n",
            " 25  goout       649 non-null    int64 \n",
            " 26  Dalc        649 non-null    int64 \n",
            " 27  Walc        649 non-null    int64 \n",
            " 28  health      649 non-null    int64 \n",
            " 29  absences    649 non-null    int64 \n",
            " 30  G1          649 non-null    int64 \n",
            " 31  G2          649 non-null    int64 \n",
            " 32  G3          649 non-null    int64 \n",
            "dtypes: int64(16), object(17)\n",
            "memory usage: 167.4+ KB\n"
          ]
        }
      ],
      "source": [
        "raw_dataset.info()"
      ]
    },
    {
      "cell_type": "markdown",
      "metadata": {
        "id": "Mq8SdTpz8SJm"
      },
      "source": [
        "# Media, mediana, moda e deviazione standard"
      ]
    },
    {
      "cell_type": "markdown",
      "metadata": {
        "id": "OPec7jar8Qqj"
      },
      "source": [
        "L’analisi inizia con l’esplorazione della variabile target, ovvero G3, il voto finale degli studenti. Per comprenderne meglio la distribuzione, vengono calcolati i principali indicatori statistici di sintesi: media, mediana e moda."
      ]
    },
    {
      "cell_type": "code",
      "execution_count": 6,
      "metadata": {
        "colab": {
          "base_uri": "https://localhost:8080/",
          "height": 406
        },
        "id": "e4ptzIn08hTO",
        "outputId": "745ff9bb-c120-4238-fe76-9560b5a0a873"
      },
      "outputs": [
        {
          "output_type": "stream",
          "name": "stdout",
          "text": [
            "Media di G3: 11.906009244992296\n",
            "Mediana di G3: 12.0\n",
            "Moda di G3: 11\n",
            "Deviazione standard di G3: 3.2306562428048045\n"
          ]
        },
        {
          "output_type": "display_data",
          "data": {
            "text/plain": [
              "<Figure size 600x300 with 1 Axes>"
            ],
            "image/png": "[encoded data removed]"
          },
          "metadata": {}
        }
      ],
      "source": [
        "g3_mean = raw_dataset['G3'].mean()\n",
        "g3_median = raw_dataset['G3'].median()\n",
        "g3_mode = raw_dataset['G3'].mode()[0]\n",
        "g3_std = raw_dataset['G3'].std()\n",
        "\n",
        "print(f\"Media di G3: {g3_mean}\")\n",
        "print(f\"Mediana di G3: {g3_median}\")\n",
        "print(f\"Moda di G3: {g3_mode}\")\n",
        "print(f\"Deviazione standard di G3: {g3_std}\")\n",
        "\n",
        "# analisi della distribuzione:\n",
        "plt.figure(figsize=(6, 3))\n",
        "plt.hist(raw_dataset['G3'], bins=20, edgecolor='black')\n",
        "plt.xlabel('Voto finale (G3)')\n",
        "plt.ylabel('Numero di studenti')\n",
        "plt.title('Distribuzione del voto finale')\n",
        "plt.show()\n"
      ]
    },
    {
      "cell_type": "markdown",
      "metadata": {
        "id": "4oqnCI-a8pC9"
      },
      "source": [
        "Dall’analisi emerge che:\n",
        "\n",
        "- La maggior parte degli studenti ottiene un voto finale compreso tra 10 e 15.\n",
        "\n",
        "- I voti estremamente bassi (0–2) e molto alti (18–20) risultano rari.\n",
        "\n",
        "- La moda della distribuzione si concentra attorno a 11, indicando il voto più frequente.\n"
      ]
    },
    {
      "cell_type": "markdown",
      "metadata": {
        "id": "X4DJpMe77slK"
      },
      "source": [
        "Successivamente si passa alla fase di selezione delle variabili più rilevanti per la predizione di G3. L’obiettivo è escludere le variabili meno informative o ridondanti, al fine di semplificare il modello e migliorarne l’efficacia predittiva.\n",
        "\n",
        "Per fare ciò:\n",
        "\n",
        "- Si calcola il coefficiente di correlazione di Pearson tra G3 e le variabili numeriche, per individuare quelle più associate in modo lineare alla variabile target.\n",
        "\n",
        "- Per le variabili categoriche, si utilizza la mutua informazione, una misura capace di catturare anche relazioni non lineari con G3."
      ]
    },
    {
      "cell_type": "markdown",
      "metadata": {
        "id": "q_XzHc92emOZ"
      },
      "source": [
        "Soglie utilizzate:\n",
        "\n",
        "- Correlazione di Pearson (≥ 0.2): La soglia di 0.2 è stata scelta perché rappresenta una correlazione moderata, sufficiente a suggerire una relazione lineare significativa con G3.\n",
        "\n",
        "- Mutua informazione (> 0.02): La soglia di 0.02 consente di individuare anche variabili categoriche con effetti deboli ma potenzialmente rilevanti, specie in contesti non lineari."
      ]
    },
    {
      "cell_type": "code",
      "execution_count": 7,
      "metadata": {
        "colab": {
          "base_uri": "https://localhost:8080/"
        },
        "id": "pnj-sZcq0uos",
        "outputId": "62ffe6c8-a364-47a0-b885-eb4b1f329849"
      },
      "outputs": [
        {
          "output_type": "stream",
          "name": "stdout",
          "text": [
            "Variabili numeriche rilevanti (|correlazione Pearson| ≥ 0.2):\n",
            "G2           0.918548\n",
            "G1           0.826387\n",
            "studytime    0.249789\n",
            "Medu         0.240151\n",
            "Fedu         0.211800\n",
            "Dalc        -0.204719\n",
            "failures    -0.393316\n",
            "Name: G3, dtype: float64 \n",
            "\n",
            "Variabili categoriche rilevanti (mutua informazione > 0.02):\n",
            "school    0.079874\n",
            "higher    0.066850\n",
            "reason    0.036267\n",
            "sex       0.035386\n",
            "famsup    0.023144\n",
            "dtype: float64\n"
          ]
        }
      ],
      "source": [
        "from sklearn.feature_selection import mutual_info_regression\n",
        "from sklearn.preprocessing import LabelEncoder\n",
        "\n",
        "# Separazione delle variabili numeriche e categoriche\n",
        "numeric_df = raw_dataset.select_dtypes(include=[np.number])\n",
        "categorical_df = raw_dataset.select_dtypes(include=[\"object\"])\n",
        "\n",
        "# Calcolo della correlazione con G3\n",
        "correlation_with_g3 = numeric_df.corr()[\"G3\"].drop(\"G3\")\n",
        "\n",
        "# Soglia di selezione\n",
        "relevant_numeric_features = correlation_with_g3[correlation_with_g3.abs() >= 0.2].sort_values(ascending=False)\n",
        "\n",
        "# Codifica LabelEncoder per ogni colonna categorica\n",
        "encoded_cat = categorical_df.apply(LabelEncoder().fit_transform)\n",
        "\n",
        "# Calcolo della mutua informazione\n",
        "mi_scores = mutual_info_regression(encoded_cat, raw_dataset[\"G3\"], discrete_features=True)\n",
        "mi_series = pd.Series(mi_scores, index=categorical_df.columns)\n",
        "\n",
        "# Seleziona le variabili categoriche con MI > 0.02 (soglia regolabile)\n",
        "relevant_categorical_features = mi_series[mi_series > 0.02].sort_values(ascending=False)\n",
        "\n",
        "# RISULTATI FINALI\n",
        "\n",
        "print(\"Variabili numeriche rilevanti (|correlazione Pearson| ≥ 0.2):\")\n",
        "print(relevant_numeric_features, \"\\n\")\n",
        "\n",
        "print(\"Variabili categoriche rilevanti (mutua informazione > 0.02):\")\n",
        "print(relevant_categorical_features)\n",
        "\n",
        "# CREAZIONE NUOVO DATASET FILTRATO\n",
        "\n",
        "selected_columns = list(relevant_numeric_features.index) + list(relevant_categorical_features.index) + [\"G3\"]\n",
        "filtered_dataset = raw_dataset[selected_columns].copy()\n"
      ]
    },
    {
      "cell_type": "markdown",
      "metadata": {
        "id": "37u9gfSY9rKE"
      },
      "source": [
        "# Encoding delle variabili categoriche"
      ]
    },
    {
      "cell_type": "markdown",
      "metadata": {
        "id": "S3CPhDBvR9cL"
      },
      "source": [
        "Dopo aver identificato le variabili più influenti, costruisco un nuovo dataset che include solo le feature selezionate. Prima di passare alla fase di modellazione, è necessario eseguire l’encoding delle variabili categoriche, trasformandole in una forma numerica adatta all’addestramento del modello di machine learning."
      ]
    },
    {
      "cell_type": "code",
      "execution_count": 8,
      "metadata": {
        "colab": {
          "base_uri": "https://localhost:8080/"
        },
        "id": "a0ooxugEYhuP",
        "outputId": "dce4f705-0092-4924-9432-917c2f887755"
      },
      "outputs": [
        {
          "output_type": "stream",
          "name": "stdout",
          "text": [
            "G2           int64\n",
            "G1           int64\n",
            "studytime    int64\n",
            "Medu         int64\n",
            "Fedu         int64\n",
            "Dalc         int64\n",
            "failures     int64\n",
            "school       int64\n",
            "higher       int64\n",
            "reason       int64\n",
            "sex          int64\n",
            "famsup       int64\n",
            "G3           int64\n",
            "dtype: object\n"
          ]
        }
      ],
      "source": [
        "from sklearn.preprocessing import LabelEncoder\n",
        "\n",
        "# Encoding e forzatura del tipo\n",
        "for feature in filtered_dataset.select_dtypes(include='object').columns:\n",
        "    le = LabelEncoder()\n",
        "    filtered_dataset[feature] = le.fit_transform(filtered_dataset[feature]).astype(int)\n",
        "\n",
        "print(filtered_dataset.dtypes)\n"
      ]
    },
    {
      "cell_type": "markdown",
      "metadata": {
        "id": "uivysKKk3ZEA"
      },
      "source": [
        "# Train e Test Split"
      ]
    },
    {
      "cell_type": "code",
      "execution_count": 9,
      "metadata": {
        "id": "wTfWc2wN3bFL"
      },
      "outputs": [],
      "source": [
        "from sklearn.model_selection import train_test_split\n",
        "\n",
        "# Separa le feature (X) dal target (y)\n",
        "X = filtered_dataset.drop('G3', axis=1)\n",
        "y = filtered_dataset['G3']\n",
        "\n",
        "# Dividi i dati in set di training e test\n",
        "X_train, X_test, y_train, y_test = train_test_split(X, y, test_size=0.2, random_state=42)"
      ]
    },
    {
      "cell_type": "markdown",
      "metadata": {
        "id": "sYelCdI4ILq0"
      },
      "source": [
        "# Predizione"
      ]
    },
    {
      "cell_type": "markdown",
      "metadata": {
        "id": "ZGLslg-JIG8c"
      },
      "source": [
        "Dopo aver preprocessato il dataset e selezionato le variabili più rilevanti tramite correlazione di Pearson e mutua informazione,  vengono addestrati due modelli di regressione: Random Forest e Support Vector Regressor (SVR).\n",
        "\n",
        "Per ciascuno di essi viene effettuata una validazione degli iperparametri utilizzando la tecnica di RandomizedSearchCV con cross-validation a 5 fold, per garantire una valutazione robusta e coerente.\n",
        "\n",
        "Per quanto riguarda Random Forest, ho scelto di validare i seguenti iperparametri:\n",
        "\n",
        "- n_estimators: il numero di alberi, che influisce sulla stabilità del modello.\n",
        "\n",
        "- max_depth: la profondità massima degli alberi, che regola la complessità del modello e il rischio di overfitting.\n",
        "\n",
        "- min_samples_split e min_samples_leaf: che evitano di generare rami troppo piccoli e instabili.\n",
        "\n",
        "- max_features: il numero di feature considerate a ogni split, utile per controllare la varianza.\n",
        "\n",
        "Nel caso del Support Vector Regressor, ho validato:\n",
        "\n",
        "- kernel: per esplorare sia approcci lineari che non lineari (es. RBF).\n",
        "\n",
        "- C: il parametro di penalizzazione per gli errori, che controlla il compromesso tra bias e varianza.\n",
        "\n",
        "- gamma: che regola l'influenza di ciascun punto (con kernel RBF).\n",
        "\n",
        "- epsilon: che definisce la larghezza del margine all’interno del quale l’errore non è penalizzato.\n",
        "\n",
        "Viene usato RandomizedSearchCV al posto della più tradizionale Grid Search per ridurre il tempo di calcolo quando lo spazio degli iperparametri è ampio.\n"
      ]
    },
    {
      "cell_type": "markdown",
      "metadata": {
        "id": "ikQ5Y1ls39_c"
      },
      "source": [
        "# Random Forest"
      ]
    },
    {
      "cell_type": "code",
      "execution_count": 10,
      "metadata": {
        "colab": {
          "base_uri": "https://localhost:8080/"
        },
        "id": "bP3Uv5rp3QY0",
        "outputId": "625b3d9f-7c71-4b2a-ae53-97728484c3da"
      },
      "outputs": [
        {
          "output_type": "stream",
          "name": "stdout",
          "text": [
            "Fitting 5 folds for each of 100 candidates, totalling 500 fits\n",
            "Migliori iperparametri: {'n_estimators': 300, 'min_samples_split': 2, 'min_samples_leaf': 1, 'max_features': 'sqrt', 'max_depth': 10}\n",
            "Mean Squared Error (MSE): 1.7202342001922102\n",
            "R-squared (R2): 0.8235967695975319\n"
          ]
        }
      ],
      "source": [
        "from sklearn.model_selection import RandomizedSearchCV\n",
        "from sklearn.ensemble import RandomForestRegressor\n",
        "from sklearn.metrics import mean_squared_error, r2_score, make_scorer\n",
        "\n",
        "# Griglia degli iperparametri per Random Forest\n",
        "param_dist = {\n",
        "    'n_estimators': [50, 100, 200, 300],\n",
        "    'max_depth': [None, 5, 10, 20],\n",
        "    'min_samples_split': [2, 5, 10],\n",
        "    'min_samples_leaf': [1, 2, 4],\n",
        "    'max_features': ['sqrt', 'log2']\n",
        "}\n",
        "\n",
        "# Istanza di RandomizedSearchCV\n",
        "rf_random = RandomizedSearchCV(\n",
        "    estimator=RandomForestRegressor(random_state=42),\n",
        "    param_distributions=param_dist,\n",
        "    n_iter=100,\n",
        "    scoring=make_scorer(r2_score),\n",
        "    cv=5,\n",
        "    verbose=2,\n",
        "    random_state=42,\n",
        "    n_jobs=-1\n",
        ")\n",
        "\n",
        "# Addestramento del modello con iperparametri ottimali\n",
        "rf_random.fit(X_train, y_train)\n",
        "\n",
        "# Migliori iperparametri trovati\n",
        "print(\"Migliori iperparametri:\", rf_random.best_params_)\n",
        "\n",
        "# Valutazione sul test set\n",
        "best_rf_model = rf_random.best_estimator_\n",
        "y_pred = best_rf_model.predict(X_test)\n",
        "mse = mean_squared_error(y_test, y_pred)\n",
        "r2 = r2_score(y_test, y_pred)\n",
        "\n",
        "print(f\"Mean Squared Error (MSE): {mse}\")\n",
        "print(f\"R-squared (R2): {r2}\")"
      ]
    },
    {
      "cell_type": "markdown",
      "metadata": {
        "id": "OR4o7biO4GLg"
      },
      "source": [
        "# Support Vector Regression (SVR)"
      ]
    },
    {
      "cell_type": "code",
      "source": [
        "from sklearn.svm import SVR\n",
        "from sklearn.preprocessing import StandardScaler\n",
        "\n",
        "# Scaling dei dati\n",
        "scaler = StandardScaler()\n",
        "X_train_scaled = scaler.fit_transform(X_train)\n",
        "X_test_scaled = scaler.transform(X_test)\n",
        "\n",
        "# Griglia degli iperparametri per SVR\n",
        "param_dist_svr = {\n",
        "    'kernel': ['rbf', 'linear'],\n",
        "    'C': [0.1, 1, 10, 100],\n",
        "    'gamma': ['scale', 'auto'],\n",
        "    'epsilon': [0.01, 0.1, 0.5, 1]\n",
        "}\n",
        "\n",
        "# Istanza di RandomizedSearchCV\n",
        "svr_random = RandomizedSearchCV(\n",
        "    estimator=SVR(),\n",
        "    param_distributions=param_dist_svr,\n",
        "    n_iter=50,\n",
        "    scoring=make_scorer(r2_score),\n",
        "    cv=5,\n",
        "    verbose=2,\n",
        "    random_state=42,\n",
        "    n_jobs=-1\n",
        ")\n",
        "\n",
        "# Addestramento del modello con iperparametri ottimali\n",
        "svr_random.fit(X_train_scaled, y_train)\n",
        "\n",
        "# Migliori iperparametri trovati\n",
        "print(\"Migliori iperparametri per SVR:\", svr_random.best_params_)\n",
        "\n",
        "# Valutazione sul test set\n",
        "best_svr_model = svr_random.best_estimator_\n",
        "y_pred_svr = best_svr_model.predict(X_test_scaled)\n",
        "mse_svr = mean_squared_error(y_test, y_pred_svr)\n",
        "r2_svr = r2_score(y_test, y_pred_svr)\n",
        "\n",
        "print(f\"Mean Squared Error (MSE) - SVR: {mse_svr}\")\n",
        "print(f\"R-squared (R2) - SVR: {r2_svr}\")\n"
      ],
      "metadata": {
        "colab": {
          "base_uri": "https://localhost:8080/"
        },
        "id": "gYqEz1w85lyB",
        "outputId": "f36b4fae-9cb0-4078-e485-d48e2f29b780"
      },
      "execution_count": 11,
      "outputs": [
        {
          "output_type": "stream",
          "name": "stdout",
          "text": [
            "Fitting 5 folds for each of 50 candidates, totalling 250 fits\n",
            "Migliori iperparametri per SVR: {'kernel': 'linear', 'gamma': 'scale', 'epsilon': 1, 'C': 100}\n",
            "Mean Squared Error (MSE) - SVR: 1.364989420158841\n",
            "R-squared (R2) - SVR: 0.8600257202453556\n"
          ]
        }
      ]
    },
    {
      "cell_type": "code",
      "execution_count": 12,
      "metadata": {
        "colab": {
          "base_uri": "https://localhost:8080/"
        },
        "id": "fgaRels94NM4",
        "outputId": "53e4b37a-d5b2-4a93-d5ec-f77dc32116ce"
      },
      "outputs": [
        {
          "output_type": "stream",
          "name": "stdout",
          "text": [
            "\n",
            "Confronto delle prestazioni:\n",
            "Random Forest - MSE: 1.7202342001922102, R2: 0.8235967695975319\n",
            "SVR - MSE: 1.364989420158841, R2: 0.8600257202453556\n"
          ]
        }
      ],
      "source": [
        "# Confronta le prestazioni di SVR con Random Forest\n",
        "print(\"\\nConfronto delle prestazioni:\")\n",
        "print(f\"Random Forest - MSE: {mse}, R2: {r2}\")\n",
        "print(f\"SVR - MSE: {mse_svr}, R2: {r2_svr}\")"
      ]
    },
    {
      "cell_type": "markdown",
      "metadata": {
        "id": "kPMT69UaGhmb"
      },
      "source": [
        "Come metrica principale di valutazione fra i due modelli viene utilizzato il R² (R-squared), che indica quanta parte della varianza dei voti finali (G3) è spiegata dal modello. In aggiunta, viene considerato il Mean Squared Error (MSE) come metrica secondaria per monitorare l’ampiezza degli errori.\n",
        "\n",
        "I risultati ottenuti sui dati di test sono i seguenti:\n",
        "\n",
        "- Random Forest:\n",
        "  - MSE = 1.70,\n",
        "  - R² = 0.82\n",
        "\n",
        "- SVR:\n",
        "  - MSE = 1.36\n",
        "  - R² = 0.86\n",
        "\n",
        "Il modello SVR ottiene prestazioni superiori rispetto a Random Forest, con un errore quadratico medio più basso e un R² più elevato.\n",
        "Questo indica una migliore accuratezza e capacità esplicativa da parte di SVR sul test set.\n",
        "\n"
      ]
    },
    {
      "cell_type": "markdown",
      "metadata": {
        "id": "8Mkz6TvB6Cdg"
      },
      "source": [
        "# Valutazione finale"
      ]
    },
    {
      "cell_type": "markdown",
      "metadata": {
        "id": "bZUy1nixBxjx"
      },
      "source": [
        "Dopo l’addestramento, la performance del modello SVR viene valutata anche graficamente.\n",
        "\n",
        "Il primo grafico confronta i valori reali e quelli predetti del voto finale (G3): si osserva una chiara tendenza positiva, segno di una buona correlazione tra le due variabili. Tuttavia, i punti non sono perfettamente allineati lungo la diagonale ideale (linea rossa), il che evidenzia una certa dispersione, con errori maggiori in alcuni casi specifici.\n",
        "\n",
        "Per un'analisi più approfondita, viene esaminata la distribuzione dei residui (differenza tra voto reale e voto predetto). Dall’istogramma emerge che:\n",
        "\n",
        "- I residui sono fortemente concentrati attorno allo zero, indicando che le previsioni sono mediamente accurate;\n",
        "\n",
        "- La distribuzione presenta una forma quasi normale, con una lieve asimmetria a destra.\n",
        "\n",
        "- La media dei residui è prossima a zero, come mostrato dalla linea rossa verticale, un segnale positivo che indica l’assenza di bias sistematici: il modello non tende né a sovrastimare né a sottostimare i voti.\n"
      ]
    },
    {
      "cell_type": "code",
      "execution_count": 13,
      "metadata": {
        "colab": {
          "base_uri": "https://localhost:8080/",
          "height": 649
        },
        "id": "hkh2CrU5Cp94",
        "outputId": "b4bcc138-b2d0-4144-d154-9ee5eb489510"
      },
      "outputs": [
        {
          "output_type": "display_data",
          "data": {
            "text/plain": [
              "<Figure size 500x300 with 1 Axes>"
            ],
            "image/png": "[encoded data removed]"
          },
          "metadata": {}
        },
        {
          "output_type": "display_data",
          "data": {
            "text/plain": [
              "<Figure size 500x300 with 1 Axes>"
            ],
            "image/png": "[encoded data removed]"
          },
          "metadata": {}
        }
      ],
      "source": [
        "import matplotlib.pyplot as plt\n",
        "import seaborn as sns\n",
        "\n",
        "# Calcolo dei residui\n",
        "residuals = y_test - y_pred_svr\n",
        "\n",
        "# Grafico dei residui vs predetti\n",
        "plt.figure(figsize=(5, 3))\n",
        "sns.scatterplot(x=y_pred_svr, y=residuals)\n",
        "plt.axhline(0, color='red', linestyle='--', label='Residuo = 0')\n",
        "plt.xlabel('Valori Predetti (SVR)')\n",
        "plt.ylabel('Residui (Errore)')\n",
        "plt.title('Grafico dei Residui - SVR')\n",
        "plt.legend()\n",
        "plt.show()\n",
        "\n",
        "# Distribuzione dei residui\n",
        "plt.figure(figsize=(5, 3))\n",
        "sns.histplot(residuals, bins=20, kde=True, color='skyblue')\n",
        "plt.axvline(0, color='red', linestyle='--', label='Residuo = 0')\n",
        "plt.xlabel('Residui')\n",
        "plt.ylabel('Frequenza')\n",
        "plt.title('Distribuzione dei Residui - SVR')\n",
        "plt.legend()\n",
        "plt.show()\n"
      ]
    },
    {
      "cell_type": "code",
      "source": [
        "from sklearn.inspection import permutation_importance\n",
        "import matplotlib.pyplot as plt\n",
        "\n",
        "# Calcola l'importanza delle feature con permutation importance\n",
        "result = permutation_importance(\n",
        "    best_svr_model,\n",
        "    X_test,\n",
        "    y_test,\n",
        "    n_repeats=30,\n",
        "    random_state=42,\n",
        "    n_jobs=-1\n",
        ")\n",
        "\n",
        "# Crea un DataFrame\n",
        "feature_importance = pd.DataFrame({\n",
        "    'Feature': X_test.columns,\n",
        "    'Importance': result.importances_mean\n",
        "}).sort_values(by='Importance', ascending=False)\n",
        "\n",
        "# Stampa le feature\n",
        "print(\"Importanza delle feature (SVR - Permutation Importance):\")\n",
        "print(feature_importance)\n",
        "\n",
        "# Grafico a barre\n",
        "plt.figure(figsize=(5, 3))\n",
        "plt.barh(feature_importance['Feature'], feature_importance['Importance'], color='skyblue')\n",
        "plt.gca().invert_yaxis()  # Feature più importanti in cima\n",
        "plt.xlabel('Importanza media (Permutazione)')\n",
        "plt.title('Importanza delle feature secondo SVR')\n",
        "plt.tight_layout()\n",
        "plt.show()\n"
      ],
      "metadata": {
        "colab": {
          "base_uri": "https://localhost:8080/",
          "height": 599
        },
        "id": "NPIH05kWUQeD",
        "outputId": "9774dcfe-3a86-4b25-c733-0ee8461743e5"
      },
      "execution_count": 14,
      "outputs": [
        {
          "output_type": "stream",
          "name": "stderr",
          "text": [
            "/usr/local/lib/python3.11/dist-packages/sklearn/utils/validation.py:2732: UserWarning: X has feature names, but SVR was fitted without feature names\n",
            "  warnings.warn(\n"
          ]
        },
        {
          "output_type": "stream",
          "name": "stdout",
          "text": [
            "Importanza delle feature (SVR - Permutation Importance):\n",
            "      Feature  Importance\n",
            "0          G2    2.742742\n",
            "3        Medu    0.004897\n",
            "4        Fedu    0.003677\n",
            "5        Dalc    0.001202\n",
            "9      reason    0.000751\n",
            "11     famsup   -0.000615\n",
            "10        sex   -0.003875\n",
            "8      higher   -0.004999\n",
            "6    failures   -0.014061\n",
            "2   studytime   -0.015452\n",
            "7      school   -0.018428\n",
            "1          G1   -0.994642\n"
          ]
        },
        {
          "output_type": "display_data",
          "data": {
            "text/plain": [
              "<Figure size 500x300 with 1 Axes>"
            ],
            "image/png": "[encoded data removed]"
          },
          "metadata": {}
        }
      ]
    },
    {
      "cell_type": "markdown",
      "source": [
        "L'analisi della permutation importance conferma che il fattore predominante nella previsione del voto finale (G3) da parte del modello SVR è il voto del secondo periodo (G2). Le altre feature selezionate, pur avendo mostrato una certa rilevanza statistica nelle fasi iniziali (correlazione/mutua informazione), non apportano un miglioramento significativo alle predizioni del modello una volta che G2 è incluso. Questo suggerisce che per questo specifico modello e set di dati, la performance precedente e più recente (G2) è l'informazione chiave, rendendo l'impatto incrementale delle altre variabili molto limitato."
      ],
      "metadata": {
        "id": "dH3BXNGjWeyP"
      }
    },
    {
      "cell_type": "markdown",
      "metadata": {
        "id": "WyD6m1jfTAMo"
      },
      "source": [
        "# Considerazioni finali"
      ]
    },
    {
      "cell_type": "markdown",
      "metadata": {
        "id": "dwkAzahQS_Po"
      },
      "source": [
        "In conclusione, questo studio dimostra la fattibilità e l'utilità di applicare tecniche di machine learning per prevedere il successo accademico, fornendo uno strumento potenziale per supportare decisioni basate sui dati nel sistema educativo e promuovere il successo degli studenti."
      ]
    }
  ],
  "metadata": {
    "colab": {
      "provenance": []
    },
    "kernelspec": {
      "display_name": "Python 3 (ipykernel)",
      "language": "python",
      "name": "python3"
    },
    "language_info": {
      "codemirror_mode": {
        "name": "ipython",
        "version": 3
      },
      "file_extension": ".py",
      "mimetype": "text/x-python",
      "name": "python",
      "nbconvert_exporter": "python",
      "pygments_lexer": "ipython3",
      "version": "3.12.4"
    }
  },
  "nbformat": 4,
  "nbformat_minor": 0
}