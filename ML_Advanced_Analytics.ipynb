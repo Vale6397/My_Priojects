{
 "cells": [
  {
   "cell_type": "markdown",
   "metadata": {
    "id": "wE3M7i-lsngV"
   },
   "source": [
    "# Analisi avanzata per i supermercati BIO\n",
    "\n",
    "I supermercati BIO sono un punto di riferimento per coloro che cercano prodotti biologici, sostenibili ed ecologici. Oltre agli alimenti biologici, i clienti trovano anche elettronica di consumo proveniente da marchi eco-friendly che utilizzano materiali riciclabili e adottano pratiche di produzione sostenibili. Inoltre, sono disponibili prodotti cosmetici e di bellezza, privi di ingredienti dannosi per la salute e l'ambiente.\n",
    "\n",
    "L'obiettivo dell'analisi è sviluppare un modello di machine learning che aiuti la catena di supermercati BIO a predire la redditività attesa di un determinato acquisto.\n",
    "\n",
    "Successivamente, si andrà ad analizzare verticalmente una determinata tipologia di prodotto venduta dalla catena, cioè le mele, per decidere quali tipologie potrebbero generare maggiori vendite.\n",
    "\n",
    "Infine, si studierà l'evoluzione degli utili nel tempo tramite la costruzione di un modello basato sulle time series.\n"
   ]
  },
  {
   "cell_type": "code",
   "execution_count": 1,
   "metadata": {
    "id": "JZ4C2PBBsu4j"
   },
   "outputs": [],
   "source": [
    "import numpy as np\n",
    "import pandas as pd\n",
    "import scipy\n",
    "import matplotlib.pyplot as plt"
   ]
  },
  {
   "cell_type": "code",
   "execution_count": 3,
   "metadata": {
    "colab": {
     "base_uri": "https://localhost:8080/"
    },
    "id": "SKJQBEye5jVc",
    "outputId": "8f1ee1e3-431a-4a3e-e5e7-97ea2e99c2ee"
   },
   "outputs": [
    {
     "name": "stdout",
     "output_type": "stream",
     "text": [
      "Mounted at /content/drive\n"
     ]
    }
   ],
   "source": [
    "from google.colab import drive\n",
    "drive.mount('/content/drive')"
   ]
  },
  {
   "cell_type": "code",
   "execution_count": 2,
   "metadata": {
    "id": "93NTXMTYzZ9S"
   },
   "outputs": [],
   "source": [
    "regression_raw_dataset = pd.read_csv('C:\\\\Users\\\\vdibi\\\\Desktop\\\\MASTER IN DATA ANALYSIS\\\\8. MACHINE LEARNING\\\\supermarket_sales.csv')"
   ]
  },
  {
   "cell_type": "markdown",
   "metadata": {
    "id": "GiywaLkE0kpg"
   },
   "source": [
    "# Esplorazione del dataset\n"
   ]
  },
  {
   "cell_type": "code",
   "execution_count": 3,
   "metadata": {
    "colab": {
     "base_uri": "https://localhost:8080/",
     "height": 652
    },
    "id": "YiuzAx-o02Mc",
    "outputId": "406b9d00-da2d-4276-e84a-7b4f3d9ae0af"
   },
   "outputs": [
    {
     "data": {
      "text/html": [
       "<div>\n",
       "<style scoped>\n",
       "    .dataframe tbody tr th:only-of-type {\n",
       "        vertical-align: middle;\n",
       "    }\n",
       "\n",
       "    .dataframe tbody tr th {\n",
       "        vertical-align: top;\n",
       "    }\n",
       "\n",
       "    .dataframe thead th {\n",
       "        text-align: right;\n",
       "    }\n",
       "</style>\n",
       "<table border=\"1\" class=\"dataframe\">\n",
       "  <thead>\n",
       "    <tr style=\"text-align: right;\">\n",
       "      <th></th>\n",
       "      <th>Invoice ID</th>\n",
       "      <th>Branch</th>\n",
       "      <th>City</th>\n",
       "      <th>Customer type</th>\n",
       "      <th>Gender</th>\n",
       "      <th>Product line</th>\n",
       "      <th>Unit price</th>\n",
       "      <th>Quantity</th>\n",
       "      <th>Tax 5%</th>\n",
       "      <th>Total</th>\n",
       "      <th>Date</th>\n",
       "      <th>Time</th>\n",
       "      <th>Payment</th>\n",
       "      <th>cogs</th>\n",
       "      <th>gross margin percentage</th>\n",
       "      <th>gross income</th>\n",
       "      <th>Rating</th>\n",
       "    </tr>\n",
       "  </thead>\n",
       "  <tbody>\n",
       "    <tr>\n",
       "      <th>0</th>\n",
       "      <td>750-67-8428</td>\n",
       "      <td>A</td>\n",
       "      <td>Yangon</td>\n",
       "      <td>Member</td>\n",
       "      <td>Female</td>\n",
       "      <td>Health and beauty</td>\n",
       "      <td>74.69</td>\n",
       "      <td>7</td>\n",
       "      <td>26.1415</td>\n",
       "      <td>548.9715</td>\n",
       "      <td>1/5/2019</td>\n",
       "      <td>13:08</td>\n",
       "      <td>Ewallet</td>\n",
       "      <td>522.83</td>\n",
       "      <td>4.761905</td>\n",
       "      <td>26.1415</td>\n",
       "      <td>9.1</td>\n",
       "    </tr>\n",
       "    <tr>\n",
       "      <th>1</th>\n",
       "      <td>226-31-3081</td>\n",
       "      <td>C</td>\n",
       "      <td>Naypyitaw</td>\n",
       "      <td>Normal</td>\n",
       "      <td>Female</td>\n",
       "      <td>Electronic accessories</td>\n",
       "      <td>15.28</td>\n",
       "      <td>5</td>\n",
       "      <td>3.8200</td>\n",
       "      <td>80.2200</td>\n",
       "      <td>3/8/2019</td>\n",
       "      <td>10:29</td>\n",
       "      <td>Cash</td>\n",
       "      <td>76.40</td>\n",
       "      <td>4.761905</td>\n",
       "      <td>3.8200</td>\n",
       "      <td>9.6</td>\n",
       "    </tr>\n",
       "    <tr>\n",
       "      <th>2</th>\n",
       "      <td>631-41-3108</td>\n",
       "      <td>A</td>\n",
       "      <td>Yangon</td>\n",
       "      <td>Normal</td>\n",
       "      <td>Male</td>\n",
       "      <td>Home and lifestyle</td>\n",
       "      <td>46.33</td>\n",
       "      <td>7</td>\n",
       "      <td>16.2155</td>\n",
       "      <td>340.5255</td>\n",
       "      <td>3/3/2019</td>\n",
       "      <td>13:23</td>\n",
       "      <td>Credit card</td>\n",
       "      <td>324.31</td>\n",
       "      <td>4.761905</td>\n",
       "      <td>16.2155</td>\n",
       "      <td>7.4</td>\n",
       "    </tr>\n",
       "    <tr>\n",
       "      <th>3</th>\n",
       "      <td>123-19-1176</td>\n",
       "      <td>A</td>\n",
       "      <td>Yangon</td>\n",
       "      <td>Member</td>\n",
       "      <td>Male</td>\n",
       "      <td>Health and beauty</td>\n",
       "      <td>58.22</td>\n",
       "      <td>8</td>\n",
       "      <td>23.2880</td>\n",
       "      <td>489.0480</td>\n",
       "      <td>1/27/2019</td>\n",
       "      <td>20:33</td>\n",
       "      <td>Ewallet</td>\n",
       "      <td>465.76</td>\n",
       "      <td>4.761905</td>\n",
       "      <td>23.2880</td>\n",
       "      <td>8.4</td>\n",
       "    </tr>\n",
       "    <tr>\n",
       "      <th>4</th>\n",
       "      <td>373-73-7910</td>\n",
       "      <td>A</td>\n",
       "      <td>Yangon</td>\n",
       "      <td>Normal</td>\n",
       "      <td>Male</td>\n",
       "      <td>Sports and travel</td>\n",
       "      <td>86.31</td>\n",
       "      <td>7</td>\n",
       "      <td>30.2085</td>\n",
       "      <td>634.3785</td>\n",
       "      <td>2/8/2019</td>\n",
       "      <td>10:37</td>\n",
       "      <td>Ewallet</td>\n",
       "      <td>604.17</td>\n",
       "      <td>4.761905</td>\n",
       "      <td>30.2085</td>\n",
       "      <td>5.3</td>\n",
       "    </tr>\n",
       "    <tr>\n",
       "      <th>...</th>\n",
       "      <td>...</td>\n",
       "      <td>...</td>\n",
       "      <td>...</td>\n",
       "      <td>...</td>\n",
       "      <td>...</td>\n",
       "      <td>...</td>\n",
       "      <td>...</td>\n",
       "      <td>...</td>\n",
       "      <td>...</td>\n",
       "      <td>...</td>\n",
       "      <td>...</td>\n",
       "      <td>...</td>\n",
       "      <td>...</td>\n",
       "      <td>...</td>\n",
       "      <td>...</td>\n",
       "      <td>...</td>\n",
       "      <td>...</td>\n",
       "    </tr>\n",
       "    <tr>\n",
       "      <th>95</th>\n",
       "      <td>594-34-4444</td>\n",
       "      <td>A</td>\n",
       "      <td>Yangon</td>\n",
       "      <td>Normal</td>\n",
       "      <td>Male</td>\n",
       "      <td>Electronic accessories</td>\n",
       "      <td>97.16</td>\n",
       "      <td>1</td>\n",
       "      <td>4.8580</td>\n",
       "      <td>102.0180</td>\n",
       "      <td>3/8/2019</td>\n",
       "      <td>20:38</td>\n",
       "      <td>Ewallet</td>\n",
       "      <td>97.16</td>\n",
       "      <td>4.761905</td>\n",
       "      <td>4.8580</td>\n",
       "      <td>7.2</td>\n",
       "    </tr>\n",
       "    <tr>\n",
       "      <th>96</th>\n",
       "      <td>766-85-7061</td>\n",
       "      <td>B</td>\n",
       "      <td>Mandalay</td>\n",
       "      <td>Normal</td>\n",
       "      <td>Male</td>\n",
       "      <td>Health and beauty</td>\n",
       "      <td>87.87</td>\n",
       "      <td>10</td>\n",
       "      <td>43.9350</td>\n",
       "      <td>922.6350</td>\n",
       "      <td>3/29/2019</td>\n",
       "      <td>10:25</td>\n",
       "      <td>Ewallet</td>\n",
       "      <td>878.70</td>\n",
       "      <td>4.761905</td>\n",
       "      <td>43.9350</td>\n",
       "      <td>5.1</td>\n",
       "    </tr>\n",
       "    <tr>\n",
       "      <th>97</th>\n",
       "      <td>871-39-9221</td>\n",
       "      <td>C</td>\n",
       "      <td>Naypyitaw</td>\n",
       "      <td>Normal</td>\n",
       "      <td>Female</td>\n",
       "      <td>Electronic accessories</td>\n",
       "      <td>12.45</td>\n",
       "      <td>6</td>\n",
       "      <td>3.7350</td>\n",
       "      <td>78.4350</td>\n",
       "      <td>2/9/2019</td>\n",
       "      <td>13:11</td>\n",
       "      <td>Cash</td>\n",
       "      <td>74.70</td>\n",
       "      <td>4.761905</td>\n",
       "      <td>3.7350</td>\n",
       "      <td>4.1</td>\n",
       "    </tr>\n",
       "    <tr>\n",
       "      <th>98</th>\n",
       "      <td>865-92-6136</td>\n",
       "      <td>A</td>\n",
       "      <td>Yangon</td>\n",
       "      <td>Normal</td>\n",
       "      <td>Male</td>\n",
       "      <td>Food and beverages</td>\n",
       "      <td>52.75</td>\n",
       "      <td>3</td>\n",
       "      <td>7.9125</td>\n",
       "      <td>166.1625</td>\n",
       "      <td>3/23/2019</td>\n",
       "      <td>10:16</td>\n",
       "      <td>Ewallet</td>\n",
       "      <td>158.25</td>\n",
       "      <td>4.761905</td>\n",
       "      <td>7.9125</td>\n",
       "      <td>9.3</td>\n",
       "    </tr>\n",
       "    <tr>\n",
       "      <th>99</th>\n",
       "      <td>733-01-9107</td>\n",
       "      <td>B</td>\n",
       "      <td>Mandalay</td>\n",
       "      <td>Normal</td>\n",
       "      <td>Male</td>\n",
       "      <td>Home and lifestyle</td>\n",
       "      <td>82.70</td>\n",
       "      <td>6</td>\n",
       "      <td>24.8100</td>\n",
       "      <td>521.0100</td>\n",
       "      <td>3/5/2019</td>\n",
       "      <td>18:14</td>\n",
       "      <td>Cash</td>\n",
       "      <td>496.20</td>\n",
       "      <td>4.761905</td>\n",
       "      <td>24.8100</td>\n",
       "      <td>7.4</td>\n",
       "    </tr>\n",
       "  </tbody>\n",
       "</table>\n",
       "<p>100 rows × 17 columns</p>\n",
       "</div>"
      ],
      "text/plain": [
       "     Invoice ID Branch       City Customer type  Gender  \\\n",
       "0   750-67-8428      A     Yangon        Member  Female   \n",
       "1   226-31-3081      C  Naypyitaw        Normal  Female   \n",
       "2   631-41-3108      A     Yangon        Normal    Male   \n",
       "3   123-19-1176      A     Yangon        Member    Male   \n",
       "4   373-73-7910      A     Yangon        Normal    Male   \n",
       "..          ...    ...        ...           ...     ...   \n",
       "95  594-34-4444      A     Yangon        Normal    Male   \n",
       "96  766-85-7061      B   Mandalay        Normal    Male   \n",
       "97  871-39-9221      C  Naypyitaw        Normal  Female   \n",
       "98  865-92-6136      A     Yangon        Normal    Male   \n",
       "99  733-01-9107      B   Mandalay        Normal    Male   \n",
       "\n",
       "              Product line  Unit price  Quantity   Tax 5%     Total  \\\n",
       "0        Health and beauty       74.69         7  26.1415  548.9715   \n",
       "1   Electronic accessories       15.28         5   3.8200   80.2200   \n",
       "2       Home and lifestyle       46.33         7  16.2155  340.5255   \n",
       "3        Health and beauty       58.22         8  23.2880  489.0480   \n",
       "4        Sports and travel       86.31         7  30.2085  634.3785   \n",
       "..                     ...         ...       ...      ...       ...   \n",
       "95  Electronic accessories       97.16         1   4.8580  102.0180   \n",
       "96       Health and beauty       87.87        10  43.9350  922.6350   \n",
       "97  Electronic accessories       12.45         6   3.7350   78.4350   \n",
       "98      Food and beverages       52.75         3   7.9125  166.1625   \n",
       "99      Home and lifestyle       82.70         6  24.8100  521.0100   \n",
       "\n",
       "         Date   Time      Payment    cogs  gross margin percentage  \\\n",
       "0    1/5/2019  13:08      Ewallet  522.83                 4.761905   \n",
       "1    3/8/2019  10:29         Cash   76.40                 4.761905   \n",
       "2    3/3/2019  13:23  Credit card  324.31                 4.761905   \n",
       "3   1/27/2019  20:33      Ewallet  465.76                 4.761905   \n",
       "4    2/8/2019  10:37      Ewallet  604.17                 4.761905   \n",
       "..        ...    ...          ...     ...                      ...   \n",
       "95   3/8/2019  20:38      Ewallet   97.16                 4.761905   \n",
       "96  3/29/2019  10:25      Ewallet  878.70                 4.761905   \n",
       "97   2/9/2019  13:11         Cash   74.70                 4.761905   \n",
       "98  3/23/2019  10:16      Ewallet  158.25                 4.761905   \n",
       "99   3/5/2019  18:14         Cash  496.20                 4.761905   \n",
       "\n",
       "    gross income  Rating  \n",
       "0        26.1415     9.1  \n",
       "1         3.8200     9.6  \n",
       "2        16.2155     7.4  \n",
       "3        23.2880     8.4  \n",
       "4        30.2085     5.3  \n",
       "..           ...     ...  \n",
       "95        4.8580     7.2  \n",
       "96       43.9350     5.1  \n",
       "97        3.7350     4.1  \n",
       "98        7.9125     9.3  \n",
       "99       24.8100     7.4  \n",
       "\n",
       "[100 rows x 17 columns]"
      ]
     },
     "execution_count": 3,
     "metadata": {},
     "output_type": "execute_result"
    }
   ],
   "source": [
    "regression_raw_dataset.head(100)"
   ]
  },
  {
   "cell_type": "markdown",
   "metadata": {
    "id": "ckITuxytiGmJ"
   },
   "source": [
    "I metadati principali delle colonne del dataset sono:"
   ]
  },
  {
   "cell_type": "code",
   "execution_count": 8,
   "metadata": {
    "colab": {
     "base_uri": "https://localhost:8080/"
    },
    "id": "9JQS_uociNw6",
    "outputId": "15518979-4ecf-4cfc-abe8-7f9d4ef81dd0"
   },
   "outputs": [
    {
     "name": "stdout",
     "output_type": "stream",
     "text": [
      "<class 'pandas.core.frame.DataFrame'>\n",
      "RangeIndex: 1000 entries, 0 to 999\n",
      "Data columns (total 17 columns):\n",
      " #   Column                   Non-Null Count  Dtype  \n",
      "---  ------                   --------------  -----  \n",
      " 0   Invoice ID               1000 non-null   object \n",
      " 1   Branch                   1000 non-null   object \n",
      " 2   City                     1000 non-null   object \n",
      " 3   Customer type            1000 non-null   object \n",
      " 4   Gender                   1000 non-null   object \n",
      " 5   Product line             1000 non-null   object \n",
      " 6   Unit price               1000 non-null   float64\n",
      " 7   Quantity                 1000 non-null   int64  \n",
      " 8   Tax 5%                   1000 non-null   float64\n",
      " 9   Total                    1000 non-null   float64\n",
      " 10  Date                     1000 non-null   object \n",
      " 11  Time                     1000 non-null   object \n",
      " 12  Payment                  1000 non-null   object \n",
      " 13  cogs                     1000 non-null   float64\n",
      " 14  gross margin percentage  1000 non-null   float64\n",
      " 15  gross income             1000 non-null   float64\n",
      " 16  Rating                   1000 non-null   float64\n",
      "dtypes: float64(7), int64(1), object(9)\n",
      "memory usage: 132.9+ KB\n"
     ]
    }
   ],
   "source": [
    "regression_raw_dataset.info()"
   ]
  },
  {
   "cell_type": "markdown",
   "metadata": {
    "id": "TbwMFlb-iQqi"
   },
   "source": [
    "Alcune colonne risultano poco utili ai fini dell'analisi per la predizione e quindi vanno eliminate."
   ]
  },
  {
   "cell_type": "code",
   "execution_count": 11,
   "metadata": {
    "id": "QEtrUsA6c2WP"
   },
   "outputs": [],
   "source": [
    "regression_dataset = regression_raw_dataset.drop(columns=['Invoice ID', 'Tax 5%', 'Total', 'Date', 'Time', 'cogs', 'gross margin percentage'])"
   ]
  },
  {
   "cell_type": "code",
   "execution_count": null,
   "metadata": {
    "colab": {
     "base_uri": "https://localhost:8080/"
    },
    "id": "4FN62Omgfxfm",
    "outputId": "eb70a0b7-108c-453e-a7df-fb0f019ba022"
   },
   "outputs": [
    {
     "name": "stdout",
     "output_type": "stream",
     "text": [
      "<class 'pandas.core.frame.DataFrame'>\n",
      "RangeIndex: 1000 entries, 0 to 999\n",
      "Data columns (total 10 columns):\n",
      " #   Column         Non-Null Count  Dtype  \n",
      "---  ------         --------------  -----  \n",
      " 0   Branch         1000 non-null   object \n",
      " 1   City           1000 non-null   object \n",
      " 2   Customer type  1000 non-null   object \n",
      " 3   Gender         1000 non-null   object \n",
      " 4   Product line   1000 non-null   object \n",
      " 5   Unit price     1000 non-null   float64\n",
      " 6   Quantity       1000 non-null   int64  \n",
      " 7   Payment        1000 non-null   object \n",
      " 8   gross income   1000 non-null   float64\n",
      " 9   Rating         1000 non-null   float64\n",
      "dtypes: float64(3), int64(1), object(6)\n",
      "memory usage: 78.3+ KB\n"
     ]
    }
   ],
   "source": [
    "regression_dataset.info()"
   ]
  },
  {
   "cell_type": "markdown",
   "metadata": {
    "id": "KblObNGS0ALa"
   },
   "source": [
    "# Media, mediana, moda e deviazione standard"
   ]
  },
  {
   "cell_type": "markdown",
   "metadata": {
    "id": "Kw0UgIkr0GUL"
   },
   "source": [
    "Si parte calcolando la media, la mediana e la moda della colonna su cui si andrà a fare predizioni ovvero sulla label **Rating**. Ai fini del progetto la colonna Rating acquisisce un significato differente rispetto a quello originale del dataset: essa dà una valutazione alla transazione in base alla redditività e quindi indica quanto è stata proficua la stessa per la catena di supermercati."
   ]
  },
  {
   "cell_type": "code",
   "execution_count": null,
   "metadata": {
    "id": "-OMXOIiz4EBU"
   },
   "outputs": [],
   "source": [
    "# codice per calcolare la media, mediana e moda della label \"Rating\""
   ]
  },
  {
   "cell_type": "code",
   "execution_count": null,
   "metadata": {
    "colab": {
     "base_uri": "https://localhost:8080/"
    },
    "id": "e0xBN5QAo1ki",
    "outputId": "a7f03b92-f3cd-4ff0-fdd1-3b4663c9c943"
   },
   "outputs": [
    {
     "name": "stdout",
     "output_type": "stream",
     "text": [
      "Media: 6.9727\n",
      "Mediana: 7.0\n",
      "Moda: 6.0\n"
     ]
    }
   ],
   "source": [
    "mean_rating = regression_dataset['Rating'].mean()\n",
    "median_rating = regression_dataset['Rating'].median()\n",
    "mode_rating = regression_dataset['Rating'].mode()[0]\n",
    "\n",
    "print(f\"Media: {mean_rating}\")\n",
    "print(f\"Mediana: {median_rating}\")\n",
    "print(f\"Moda: {mode_rating}\")"
   ]
  },
  {
   "cell_type": "markdown",
   "metadata": {
    "id": "ZSTc6vwQ2iDL"
   },
   "source": [
    "La **deviazione** è una importantissima misura di \"sparsità\" dei dati ed è una informazione molto utile da ottenere sulla label."
   ]
  },
  {
   "cell_type": "code",
   "execution_count": null,
   "metadata": {
    "id": "KK13eqQf2lre"
   },
   "outputs": [],
   "source": [
    "# codice per calcolare la deviazione standard della label \"Rating\""
   ]
  },
  {
   "cell_type": "code",
   "execution_count": null,
   "metadata": {
    "colab": {
     "base_uri": "https://localhost:8080/"
    },
    "id": "_yEPpgvupymH",
    "outputId": "742385e2-064e-4b7f-950c-4bf703967b2f"
   },
   "outputs": [
    {
     "name": "stdout",
     "output_type": "stream",
     "text": [
      "Deviazione standard: 1.718580294379123\n"
     ]
    }
   ],
   "source": [
    "std_rating = regression_dataset['Rating'].std()\n",
    "\n",
    "print(f\"Deviazione standard: {std_rating}\")"
   ]
  },
  {
   "cell_type": "markdown",
   "metadata": {
    "id": "r2vYnVpQ3lQJ"
   },
   "source": [
    "Una deviazione standard di 1,72 indica una moderata dispersione: i dati non sono né troppo vicini né troppo distanti tra loro."
   ]
  },
  {
   "cell_type": "markdown",
   "metadata": {
    "id": "hdeAKqCY2_A5"
   },
   "source": [
    "# Come sono distribuiti i valori della label\n",
    "\n",
    "A questo punto andiamo a vedere come sono graficamente distribuiti i dati:"
   ]
  },
  {
   "cell_type": "code",
   "execution_count": null,
   "metadata": {
    "colab": {
     "base_uri": "https://localhost:8080/",
     "height": 430
    },
    "id": "JzxPUGCw4ana",
    "outputId": "1690e833-fb03-43b9-ab23-571e0740b7f2"
   },
   "outputs": [
    {
     "data": {
      "image/png": "[encoded data removed]",
      "text/plain": [
       "<Figure size 640x480 with 1 Axes>"
      ]
     },
     "metadata": {},
     "output_type": "display_data"
    }
   ],
   "source": [
    "plt.hist(regression_dataset['Rating'], 50)\n",
    "plt.show()"
   ]
  },
  {
   "cell_type": "markdown",
   "metadata": {
    "id": "yUxgt5Vn-sJ9"
   },
   "source": [
    "La distribuzione dei rating è più o meno uniforme e non c'è skewness."
   ]
  },
  {
   "cell_type": "markdown",
   "metadata": {
    "id": "5AMxemdH-zBP"
   },
   "source": [
    "Il discorso è invece diverso per l'utile lordo:"
   ]
  },
  {
   "cell_type": "code",
   "execution_count": null,
   "metadata": {
    "colab": {
     "base_uri": "https://localhost:8080/",
     "height": 430
    },
    "id": "3wixzX-Z-2dO",
    "outputId": "1055b40e-e7d0-4b62-a014-918c9d910655"
   },
   "outputs": [
    {
     "data": {
      "image/png": "[encoded data removed]",
      "text/plain": [
       "<Figure size 640x480 with 1 Axes>"
      ]
     },
     "metadata": {},
     "output_type": "display_data"
    }
   ],
   "source": [
    "plt.hist(regression_dataset['gross income'], 50)\n",
    "plt.show()"
   ]
  },
  {
   "cell_type": "markdown",
   "metadata": {
    "id": "3Mapk48R4d1H"
   },
   "source": [
    "Qui la skewness c'è e la maggioranza degli ordini sembra avere un income lordo basso.\n"
   ]
  },
  {
   "cell_type": "code",
   "execution_count": null,
   "metadata": {
    "id": "MyvWFOIJ5r-V"
   },
   "outputs": [],
   "source": [
    "# Codice per calcolare la skewness del gross income"
   ]
  },
  {
   "cell_type": "code",
   "execution_count": null,
   "metadata": {
    "colab": {
     "base_uri": "https://localhost:8080/"
    },
    "id": "oi2qoMdaqHXc",
    "outputId": "ad25155d-2059-4e72-f249-ff0846a60ebe"
   },
   "outputs": [
    {
     "name": "stdout",
     "output_type": "stream",
     "text": [
      "Skewness (asimmetria): 0.8925698049581423\n"
     ]
    }
   ],
   "source": [
    "skewness_gross_income = regression_dataset['gross income'].skew()\n",
    "\n",
    "print(f\"Skewness (asimmetria): {skewness_gross_income}\")"
   ]
  },
  {
   "cell_type": "markdown",
   "metadata": {
    "id": "3oII9GtKSpbA"
   },
   "source": [
    "# Analisi esplorativa dei dati sulle vendite"
   ]
  },
  {
   "cell_type": "markdown",
   "metadata": {
    "id": "mDxM3Doje_Nu"
   },
   "source": [
    "Andiamo ad analizzare quali sono le città in cui si effettuano più introiti, quali sono le categorie che portano maggior valore\n",
    "e se il sesso dell’acquirente fa differenza o meno sull'acquisto.\n"
   ]
  },
  {
   "cell_type": "code",
   "execution_count": null,
   "metadata": {
    "colab": {
     "base_uri": "https://localhost:8080/",
     "height": 576
    },
    "id": "hQoqqBlmR_1I",
    "outputId": "2e719910-e6b3-40f2-e520-7092a1ca1f52"
   },
   "outputs": [
    {
     "data": {
      "image/png": "[encoded data removed]",
      "text/plain": [
       "<Figure size 640x480 with 1 Axes>"
      ]
     },
     "metadata": {},
     "output_type": "display_data"
    }
   ],
   "source": [
    "import matplotlib.pyplot as plt\n",
    "\n",
    "category_revenue = regression_dataset.groupby('Product line')['gross income'].sum().sort_values(ascending=False)\n",
    "\n",
    "ax = category_revenue.plot(kind='bar')\n",
    "plt.title('Introiti totali per categoria di prodotto')\n",
    "plt.ylabel('Introiti')\n",
    "plt.xticks(rotation=45, ha='right')\n",
    "\n",
    "for p in ax.patches:\n",
    "    ax.annotate(str(round(p.get_height(), 2)), (p.get_x() + p.get_width() / 2., p.get_height()), ha='center', va='center', xytext=(0, 10), textcoords='offset points')\n",
    "\n",
    "plt.show()"
   ]
  },
  {
   "cell_type": "code",
   "execution_count": null,
   "metadata": {
    "id": "cVf9MI89S2y6"
   },
   "outputs": [],
   "source": [
    "# Città con maggiori introiti"
   ]
  },
  {
   "cell_type": "code",
   "execution_count": null,
   "metadata": {
    "colab": {
     "base_uri": "https://localhost:8080/",
     "height": 532
    },
    "id": "4VMTX6h1S72x",
    "outputId": "94e6d886-7948-40a3-90ce-5ca390509b6c"
   },
   "outputs": [
    {
     "data": {
      "image/png": "[encoded data removed]",
      "text/plain": [
       "<Figure size 640x480 with 1 Axes>"
      ]
     },
     "metadata": {},
     "output_type": "display_data"
    }
   ],
   "source": [
    "import matplotlib.pyplot as plt\n",
    "\n",
    "city_revenue = regression_dataset.groupby('City')['gross income'].sum().sort_values(ascending=False)\n",
    "\n",
    "ax = city_revenue.plot(kind='bar')\n",
    "plt.title('Introiti totali per città')\n",
    "plt.ylabel('Introiti')\n",
    "for p in ax.patches:\n",
    "    ax.annotate(str(round(p.get_height(), 2)), (p.get_x() + p.get_width() / 2., p.get_height()), ha='center', va='center', xytext=(0, 5), textcoords='offset points')\n",
    "\n",
    "plt.show()"
   ]
  },
  {
   "cell_type": "code",
   "execution_count": null,
   "metadata": {
    "id": "eZANUnJ6TBaj"
   },
   "outputs": [],
   "source": [
    "# Influenza del sesso dell'acquirente"
   ]
  },
  {
   "cell_type": "code",
   "execution_count": null,
   "metadata": {
    "colab": {
     "base_uri": "https://localhost:8080/",
     "height": 508
    },
    "id": "FQFaj9_NTCZC",
    "outputId": "5ae2ac4f-92c5-4465-cfe4-00ba33259f2f"
   },
   "outputs": [
    {
     "data": {
      "image/png": "[encoded data removed]",
      "text/plain": [
       "<Figure size 640x480 with 1 Axes>"
      ]
     },
     "metadata": {},
     "output_type": "display_data"
    }
   ],
   "source": [
    "import matplotlib.pyplot as plt\n",
    "\n",
    "gender_rating = regression_dataset.groupby('Gender')['Rating'].mean()\n",
    "\n",
    "ax = gender_rating.plot(kind='bar')\n",
    "plt.title('Rating medio per sesso')\n",
    "plt.ylabel('Rating')\n",
    "\n",
    "for p in ax.patches:\n",
    "    ax.annotate(str(round(p.get_height(), 2)), (p.get_x() + p.get_width() / 2., p.get_height()), ha='center', va='center', xytext=(0, 10), textcoords='offset points')\n",
    "\n",
    "plt.show()"
   ]
  },
  {
   "cell_type": "markdown",
   "metadata": {
    "id": "Y9UxIxsihQjL"
   },
   "source": [
    "La città di Naypyitaw e la sezione Food & Bevarges sono le più redditizie. Per quanto riguarda il sesso dell'acquirente, la differenza tra i valori medi è molto piccola. Questo suggerisce che il sesso potrebbe non avere un'influenza significativa sul Rating."
   ]
  },
  {
   "cell_type": "markdown",
   "metadata": {
    "id": "yjQcSfkM525f"
   },
   "source": [
    "# Encoding delle variabili categoriche"
   ]
  },
  {
   "cell_type": "markdown",
   "metadata": {
    "id": "p-Q48REu76NR"
   },
   "source": [
    "E' necessario utilizzare le **tecniche per effettuarne l'enconding** delle variabili (come \"Branch\", \"City\", \"Customer type\", \"Gender\", \"Product line\" e \"Payment\") che non sono numeriche e che quindi non possono essere direttamente usate dagli algoritmi."
   ]
  },
  {
   "cell_type": "code",
   "execution_count": null,
   "metadata": {
    "id": "YtOQG0ye8KrV"
   },
   "outputs": [],
   "source": [
    "# codice per effettuare l'enconding delle variabili categoriche"
   ]
  },
  {
   "cell_type": "code",
   "execution_count": 13,
   "metadata": {
    "colab": {
     "base_uri": "https://localhost:8080/"
    },
    "id": "64l3y-7d8Q_r",
    "outputId": "df2a0d17-9b6c-4da4-9ba2-59f6db5cc7d8"
   },
   "outputs": [
    {
     "name": "stdout",
     "output_type": "stream",
     "text": [
      "   Unit price  Quantity  gross income  Rating  Branch_A  Branch_B  Branch_C  \\\n",
      "0       74.69         7       26.1415     9.1       1.0       0.0       0.0   \n",
      "1       15.28         5        3.8200     9.6       0.0       0.0       1.0   \n",
      "2       46.33         7       16.2155     7.4       1.0       0.0       0.0   \n",
      "3       58.22         8       23.2880     8.4       1.0       0.0       0.0   \n",
      "4       86.31         7       30.2085     5.3       1.0       0.0       0.0   \n",
      "\n",
      "   City_Mandalay  City_Naypyitaw  City_Yangon  ...  Gender_Male  \\\n",
      "0            0.0             0.0          1.0  ...          0.0   \n",
      "1            0.0             1.0          0.0  ...          0.0   \n",
      "2            0.0             0.0          1.0  ...          1.0   \n",
      "3            0.0             0.0          1.0  ...          1.0   \n",
      "4            0.0             0.0          1.0  ...          1.0   \n",
      "\n",
      "   Product line_Electronic accessories  Product line_Fashion accessories  \\\n",
      "0                                  0.0                               0.0   \n",
      "1                                  1.0                               0.0   \n",
      "2                                  0.0                               0.0   \n",
      "3                                  0.0                               0.0   \n",
      "4                                  0.0                               0.0   \n",
      "\n",
      "   Product line_Food and beverages  Product line_Health and beauty  \\\n",
      "0                              0.0                             1.0   \n",
      "1                              0.0                             0.0   \n",
      "2                              0.0                             0.0   \n",
      "3                              0.0                             1.0   \n",
      "4                              0.0                             0.0   \n",
      "\n",
      "   Product line_Home and lifestyle  Product line_Sports and travel  \\\n",
      "0                              0.0                             0.0   \n",
      "1                              0.0                             0.0   \n",
      "2                              1.0                             0.0   \n",
      "3                              0.0                             0.0   \n",
      "4                              0.0                             1.0   \n",
      "\n",
      "   Payment_Cash  Payment_Credit card  Payment_Ewallet  \n",
      "0           0.0                  0.0              1.0  \n",
      "1           1.0                  0.0              0.0  \n",
      "2           0.0                  1.0              0.0  \n",
      "3           0.0                  0.0              1.0  \n",
      "4           0.0                  0.0              1.0  \n",
      "\n",
      "[5 rows x 23 columns]\n",
      "<class 'pandas.core.frame.DataFrame'>\n",
      "RangeIndex: 1000 entries, 0 to 999\n",
      "Data columns (total 23 columns):\n",
      " #   Column                               Non-Null Count  Dtype  \n",
      "---  ------                               --------------  -----  \n",
      " 0   Unit price                           1000 non-null   float64\n",
      " 1   Quantity                             1000 non-null   int64  \n",
      " 2   gross income                         1000 non-null   float64\n",
      " 3   Rating                               1000 non-null   float64\n",
      " 4   Branch_A                             1000 non-null   float64\n",
      " 5   Branch_B                             1000 non-null   float64\n",
      " 6   Branch_C                             1000 non-null   float64\n",
      " 7   City_Mandalay                        1000 non-null   float64\n",
      " 8   City_Naypyitaw                       1000 non-null   float64\n",
      " 9   City_Yangon                          1000 non-null   float64\n",
      " 10  Customer type_Member                 1000 non-null   float64\n",
      " 11  Customer type_Normal                 1000 non-null   float64\n",
      " 12  Gender_Female                        1000 non-null   float64\n",
      " 13  Gender_Male                          1000 non-null   float64\n",
      " 14  Product line_Electronic accessories  1000 non-null   float64\n",
      " 15  Product line_Fashion accessories     1000 non-null   float64\n",
      " 16  Product line_Food and beverages      1000 non-null   float64\n",
      " 17  Product line_Health and beauty       1000 non-null   float64\n",
      " 18  Product line_Home and lifestyle      1000 non-null   float64\n",
      " 19  Product line_Sports and travel       1000 non-null   float64\n",
      " 20  Payment_Cash                         1000 non-null   float64\n",
      " 21  Payment_Credit card                  1000 non-null   float64\n",
      " 22  Payment_Ewallet                      1000 non-null   float64\n",
      "dtypes: float64(22), int64(1)\n",
      "memory usage: 179.8 KB\n"
     ]
    }
   ],
   "source": [
    "from sklearn.preprocessing import OneHotEncoder\n",
    "\n",
    "categorical_columns = [\"Branch\", \"City\", \"Customer type\", \"Gender\", \"Product line\", \"Payment\"]\n",
    "one_hot_encoder = OneHotEncoder()\n",
    "\n",
    "# Applica il One-Hot Encoding\n",
    "encoded_features = one_hot_encoder.fit_transform(regression_dataset[categorical_columns])\n",
    "\n",
    "# Nomi delle nuove colonne\n",
    "encoded_feature_names = one_hot_encoder.get_feature_names_out(categorical_columns)\n",
    "\n",
    "# Creazione di un DataFrame con le colonne encodate\n",
    "encoded_df = pd.DataFrame(encoded_features.toarray(), columns=encoded_feature_names, index=regression_dataset.index)\n",
    "\n",
    "# Concatena il DataFrame originale con le colonne encodate, eliminando le originali\n",
    "final_dataset = pd.concat([regression_dataset.drop(columns=categorical_columns), encoded_df], axis=1)\n",
    "\n",
    "print(final_dataset.head())\n",
    "\n",
    "final_dataset.info()"
   ]
  },
  {
   "cell_type": "markdown",
   "metadata": {
    "id": "Z5SHe6Tf56il"
   },
   "source": [
    "# Feature Scaling\n",
    "\n",
    "Nel dataset ci sono alcune feature che potrebbero essere **standardizzate/normalizzate**: quelle più evidenti sono sicuramente il prezzo del singolo oggetto, ovvero \"Unit price\", e \"gross income\" che ha una grossa skewness."
   ]
  },
  {
   "cell_type": "code",
   "execution_count": null,
   "metadata": {
    "id": "TjuDDF3M-3Qr"
   },
   "outputs": [],
   "source": [
    "# codice per effettuare la standardizzazione della colonna \"Unit price\" e \"gross income\""
   ]
  },
  {
   "cell_type": "code",
   "execution_count": 15,
   "metadata": {
    "colab": {
     "base_uri": "https://localhost:8080/"
    },
    "id": "VKzien5H0IWP",
    "outputId": "6c746c60-a4b4-4137-b4d8-63d49db09972"
   },
   "outputs": [
    {
     "name": "stdout",
     "output_type": "stream",
     "text": [
      "   Unit price  Quantity  gross income  Rating  Branch_A  Branch_B  Branch_C  \\\n",
      "0    0.718160         7      0.919607     9.1       1.0       0.0       0.0   \n",
      "1   -1.525303         5     -0.987730     9.6       0.0       0.0       1.0   \n",
      "2   -0.352781         7      0.071446     7.4       1.0       0.0       0.0   \n",
      "3    0.096214         8      0.675780     8.4       1.0       0.0       0.0   \n",
      "4    1.156959         7      1.267125     5.3       1.0       0.0       0.0   \n",
      "\n",
      "   City_Mandalay  City_Naypyitaw  City_Yangon  ...  Gender_Male  \\\n",
      "0            0.0             0.0          1.0  ...          0.0   \n",
      "1            0.0             1.0          0.0  ...          0.0   \n",
      "2            0.0             0.0          1.0  ...          1.0   \n",
      "3            0.0             0.0          1.0  ...          1.0   \n",
      "4            0.0             0.0          1.0  ...          1.0   \n",
      "\n",
      "   Product line_Electronic accessories  Product line_Fashion accessories  \\\n",
      "0                                  0.0                               0.0   \n",
      "1                                  1.0                               0.0   \n",
      "2                                  0.0                               0.0   \n",
      "3                                  0.0                               0.0   \n",
      "4                                  0.0                               0.0   \n",
      "\n",
      "   Product line_Food and beverages  Product line_Health and beauty  \\\n",
      "0                              0.0                             1.0   \n",
      "1                              0.0                             0.0   \n",
      "2                              0.0                             0.0   \n",
      "3                              0.0                             1.0   \n",
      "4                              0.0                             0.0   \n",
      "\n",
      "   Product line_Home and lifestyle  Product line_Sports and travel  \\\n",
      "0                              0.0                             0.0   \n",
      "1                              0.0                             0.0   \n",
      "2                              1.0                             0.0   \n",
      "3                              0.0                             0.0   \n",
      "4                              0.0                             1.0   \n",
      "\n",
      "   Payment_Cash  Payment_Credit card  Payment_Ewallet  \n",
      "0           0.0                  0.0              1.0  \n",
      "1           1.0                  0.0              0.0  \n",
      "2           0.0                  1.0              0.0  \n",
      "3           0.0                  0.0              1.0  \n",
      "4           0.0                  0.0              1.0  \n",
      "\n",
      "[5 rows x 23 columns]\n"
     ]
    }
   ],
   "source": [
    "from sklearn.preprocessing import StandardScaler\n",
    "\n",
    "scaler = StandardScaler()\n",
    "#Standardizzazione della colonna \"Unit price\" e \"gross income\"\n",
    "final_dataset['Unit price'] = scaler.fit_transform(final_dataset[['Unit price']])\n",
    "final_dataset['gross income'] = scaler.fit_transform(final_dataset[['gross income']])\n",
    "print(final_dataset.head())\n"
   ]
  },
  {
   "cell_type": "markdown",
   "metadata": {
    "id": "QIAWUdPq5uQy"
   },
   "source": [
    "# Train e Test Split\n",
    "\n",
    "Bene, è quindi giunta l'ora di affrontare l'ultima fase prima di allenare un modello di machine learning: l**o split fra training e test set**!\n"
   ]
  },
  {
   "cell_type": "code",
   "execution_count": null,
   "metadata": {
    "id": "1hphFoHl_OX1"
   },
   "outputs": [],
   "source": [
    "# codice per splittare il dataset in training set e test set"
   ]
  },
  {
   "cell_type": "code",
   "execution_count": 17,
   "metadata": {
    "colab": {
     "base_uri": "https://localhost:8080/"
    },
    "id": "xhJjzY-F1OE_",
    "outputId": "c90fed33-07d2-4e22-e79e-427bc331c70c"
   },
   "outputs": [
    {
     "name": "stdout",
     "output_type": "stream",
     "text": [
      "X_train: (800, 22)\n",
      "X_test: (200, 22)\n",
      "y_train: (800,)\n",
      "y_test: (200,)\n"
     ]
    }
   ],
   "source": [
    "from sklearn.model_selection import train_test_split\n",
    "\n",
    "X = final_dataset.drop(columns=[\"Rating\"])\n",
    "y = final_dataset[\"Rating\"]\n",
    "\n",
    "# Split del dataset\n",
    "X_train, X_test, y_train, y_test = train_test_split(X, y, test_size=0.2, random_state=42)\n",
    "\n",
    "print(\"X_train:\", X_train.shape)\n",
    "print(\"X_test:\", X_test.shape)\n",
    "print(\"y_train:\", y_train.shape)\n",
    "print(\"y_test:\", y_test.shape)\n"
   ]
  },
  {
   "cell_type": "markdown",
   "metadata": {
    "id": "92Cd8Cb73ALp"
   },
   "source": [
    "# Linear Regression\n",
    "\n",
    "Ora è giunto il momento di sviluppare il modello più semplice della linear regression. Il modello si chiamerà *regressor*.\n"
   ]
  },
  {
   "cell_type": "code",
   "execution_count": null,
   "metadata": {
    "id": "29K6ERSU9P7v"
   },
   "outputs": [],
   "source": [
    "# training del modello con la linear regression"
   ]
  },
  {
   "cell_type": "code",
   "execution_count": 19,
   "metadata": {
    "colab": {
     "base_uri": "https://localhost:8080/",
     "height": 80
    },
    "id": "jR3bhfGZ3YFN",
    "outputId": "d1dc761f-d4b3-4402-c186-a2867670ddb1"
   },
   "outputs": [
    {
     "data": {
      "text/html": [
       "<style>#sk-container-id-1 {\n",
       "  /* Definition of color scheme common for light and dark mode */\n",
       "  --sklearn-color-text: black;\n",
       "  --sklearn-color-line: gray;\n",
       "  /* Definition of color scheme for unfitted estimators */\n",
       "  --sklearn-color-unfitted-level-0: #fff5e6;\n",
       "  --sklearn-color-unfitted-level-1: #f6e4d2;\n",
       "  --sklearn-color-unfitted-level-2: #ffe0b3;\n",
       "  --sklearn-color-unfitted-level-3: chocolate;\n",
       "  /* Definition of color scheme for fitted estimators */\n",
       "  --sklearn-color-fitted-level-0: #f0f8ff;\n",
       "  --sklearn-color-fitted-level-1: #d4ebff;\n",
       "  --sklearn-color-fitted-level-2: #b3dbfd;\n",
       "  --sklearn-color-fitted-level-3: cornflowerblue;\n",
       "\n",
       "  /* Specific color for light theme */\n",
       "  --sklearn-color-text-on-default-background: var(--sg-text-color, var(--theme-code-foreground, var(--jp-content-font-color1, black)));\n",
       "  --sklearn-color-background: var(--sg-background-color, var(--theme-background, var(--jp-layout-color0, white)));\n",
       "  --sklearn-color-border-box: var(--sg-text-color, var(--theme-code-foreground, var(--jp-content-font-color1, black)));\n",
       "  --sklearn-color-icon: #696969;\n",
       "\n",
       "  @media (prefers-color-scheme: dark) {\n",
       "    /* Redefinition of color scheme for dark theme */\n",
       "    --sklearn-color-text-on-default-background: var(--sg-text-color, var(--theme-code-foreground, var(--jp-content-font-color1, white)));\n",
       "    --sklearn-color-background: var(--sg-background-color, var(--theme-background, var(--jp-layout-color0, #111)));\n",
       "    --sklearn-color-border-box: var(--sg-text-color, var(--theme-code-foreground, var(--jp-content-font-color1, white)));\n",
       "    --sklearn-color-icon: #878787;\n",
       "  }\n",
       "}\n",
       "\n",
       "#sk-container-id-1 {\n",
       "  color: var(--sklearn-color-text);\n",
       "}\n",
       "\n",
       "#sk-container-id-1 pre {\n",
       "  padding: 0;\n",
       "}\n",
       "\n",
       "#sk-container-id-1 input.sk-hidden--visually {\n",
       "  border: 0;\n",
       "  clip: rect(1px 1px 1px 1px);\n",
       "  clip: rect(1px, 1px, 1px, 1px);\n",
       "  height: 1px;\n",
       "  margin: -1px;\n",
       "  overflow: hidden;\n",
       "  padding: 0;\n",
       "  position: absolute;\n",
       "  width: 1px;\n",
       "}\n",
       "\n",
       "#sk-container-id-1 div.sk-dashed-wrapped {\n",
       "  border: 1px dashed var(--sklearn-color-line);\n",
       "  margin: 0 0.4em 0.5em 0.4em;\n",
       "  box-sizing: border-box;\n",
       "  padding-bottom: 0.4em;\n",
       "  background-color: var(--sklearn-color-background);\n",
       "}\n",
       "\n",
       "#sk-container-id-1 div.sk-container {\n",
       "  /* jupyter's `normalize.less` sets `[hidden] { display: none; }`\n",
       "     but bootstrap.min.css set `[hidden] { display: none !important; }`\n",
       "     so we also need the `!important` here to be able to override the\n",
       "     default hidden behavior on the sphinx rendered scikit-learn.org.\n",
       "     See: https://github.com/scikit-learn/scikit-learn/issues/21755 */\n",
       "  display: inline-block !important;\n",
       "  position: relative;\n",
       "}\n",
       "\n",
       "#sk-container-id-1 div.sk-text-repr-fallback {\n",
       "  display: none;\n",
       "}\n",
       "\n",
       "div.sk-parallel-item,\n",
       "div.sk-serial,\n",
       "div.sk-item {\n",
       "  /* draw centered vertical line to link estimators */\n",
       "  background-image: linear-gradient(var(--sklearn-color-text-on-default-background), var(--sklearn-color-text-on-default-background));\n",
       "  background-size: 2px 100%;\n",
       "  background-repeat: no-repeat;\n",
       "  background-position: center center;\n",
       "}\n",
       "\n",
       "/* Parallel-specific style estimator block */\n",
       "\n",
       "#sk-container-id-1 div.sk-parallel-item::after {\n",
       "  content: \"\";\n",
       "  width: 100%;\n",
       "  border-bottom: 2px solid var(--sklearn-color-text-on-default-background);\n",
       "  flex-grow: 1;\n",
       "}\n",
       "\n",
       "#sk-container-id-1 div.sk-parallel {\n",
       "  display: flex;\n",
       "  align-items: stretch;\n",
       "  justify-content: center;\n",
       "  background-color: var(--sklearn-color-background);\n",
       "  position: relative;\n",
       "}\n",
       "\n",
       "#sk-container-id-1 div.sk-parallel-item {\n",
       "  display: flex;\n",
       "  flex-direction: column;\n",
       "}\n",
       "\n",
       "#sk-container-id-1 div.sk-parallel-item:first-child::after {\n",
       "  align-self: flex-end;\n",
       "  width: 50%;\n",
       "}\n",
       "\n",
       "#sk-container-id-1 div.sk-parallel-item:last-child::after {\n",
       "  align-self: flex-start;\n",
       "  width: 50%;\n",
       "}\n",
       "\n",
       "#sk-container-id-1 div.sk-parallel-item:only-child::after {\n",
       "  width: 0;\n",
       "}\n",
       "\n",
       "/* Serial-specific style estimator block */\n",
       "\n",
       "#sk-container-id-1 div.sk-serial {\n",
       "  display: flex;\n",
       "  flex-direction: column;\n",
       "  align-items: center;\n",
       "  background-color: var(--sklearn-color-background);\n",
       "  padding-right: 1em;\n",
       "  padding-left: 1em;\n",
       "}\n",
       "\n",
       "\n",
       "/* Toggleable style: style used for estimator/Pipeline/ColumnTransformer box that is\n",
       "clickable and can be expanded/collapsed.\n",
       "- Pipeline and ColumnTransformer use this feature and define the default style\n",
       "- Estimators will overwrite some part of the style using the `sk-estimator` class\n",
       "*/\n",
       "\n",
       "/* Pipeline and ColumnTransformer style (default) */\n",
       "\n",
       "#sk-container-id-1 div.sk-toggleable {\n",
       "  /* Default theme specific background. It is overwritten whether we have a\n",
       "  specific estimator or a Pipeline/ColumnTransformer */\n",
       "  background-color: var(--sklearn-color-background);\n",
       "}\n",
       "\n",
       "/* Toggleable label */\n",
       "#sk-container-id-1 label.sk-toggleable__label {\n",
       "  cursor: pointer;\n",
       "  display: block;\n",
       "  width: 100%;\n",
       "  margin-bottom: 0;\n",
       "  padding: 0.5em;\n",
       "  box-sizing: border-box;\n",
       "  text-align: center;\n",
       "}\n",
       "\n",
       "#sk-container-id-1 label.sk-toggleable__label-arrow:before {\n",
       "  /* Arrow on the left of the label */\n",
       "  content: \"▸\";\n",
       "  float: left;\n",
       "  margin-right: 0.25em;\n",
       "  color: var(--sklearn-color-icon);\n",
       "}\n",
       "\n",
       "#sk-container-id-1 label.sk-toggleable__label-arrow:hover:before {\n",
       "  color: var(--sklearn-color-text);\n",
       "}\n",
       "\n",
       "/* Toggleable content - dropdown */\n",
       "\n",
       "#sk-container-id-1 div.sk-toggleable__content {\n",
       "  max-height: 0;\n",
       "  max-width: 0;\n",
       "  overflow: hidden;\n",
       "  text-align: left;\n",
       "  /* unfitted */\n",
       "  background-color: var(--sklearn-color-unfitted-level-0);\n",
       "}\n",
       "\n",
       "#sk-container-id-1 div.sk-toggleable__content.fitted {\n",
       "  /* fitted */\n",
       "  background-color: var(--sklearn-color-fitted-level-0);\n",
       "}\n",
       "\n",
       "#sk-container-id-1 div.sk-toggleable__content pre {\n",
       "  margin: 0.2em;\n",
       "  border-radius: 0.25em;\n",
       "  color: var(--sklearn-color-text);\n",
       "  /* unfitted */\n",
       "  background-color: var(--sklearn-color-unfitted-level-0);\n",
       "}\n",
       "\n",
       "#sk-container-id-1 div.sk-toggleable__content.fitted pre {\n",
       "  /* unfitted */\n",
       "  background-color: var(--sklearn-color-fitted-level-0);\n",
       "}\n",
       "\n",
       "#sk-container-id-1 input.sk-toggleable__control:checked~div.sk-toggleable__content {\n",
       "  /* Expand drop-down */\n",
       "  max-height: 200px;\n",
       "  max-width: 100%;\n",
       "  overflow: auto;\n",
       "}\n",
       "\n",
       "#sk-container-id-1 input.sk-toggleable__control:checked~label.sk-toggleable__label-arrow:before {\n",
       "  content: \"▾\";\n",
       "}\n",
       "\n",
       "/* Pipeline/ColumnTransformer-specific style */\n",
       "\n",
       "#sk-container-id-1 div.sk-label input.sk-toggleable__control:checked~label.sk-toggleable__label {\n",
       "  color: var(--sklearn-color-text);\n",
       "  background-color: var(--sklearn-color-unfitted-level-2);\n",
       "}\n",
       "\n",
       "#sk-container-id-1 div.sk-label.fitted input.sk-toggleable__control:checked~label.sk-toggleable__label {\n",
       "  background-color: var(--sklearn-color-fitted-level-2);\n",
       "}\n",
       "\n",
       "/* Estimator-specific style */\n",
       "\n",
       "/* Colorize estimator box */\n",
       "#sk-container-id-1 div.sk-estimator input.sk-toggleable__control:checked~label.sk-toggleable__label {\n",
       "  /* unfitted */\n",
       "  background-color: var(--sklearn-color-unfitted-level-2);\n",
       "}\n",
       "\n",
       "#sk-container-id-1 div.sk-estimator.fitted input.sk-toggleable__control:checked~label.sk-toggleable__label {\n",
       "  /* fitted */\n",
       "  background-color: var(--sklearn-color-fitted-level-2);\n",
       "}\n",
       "\n",
       "#sk-container-id-1 div.sk-label label.sk-toggleable__label,\n",
       "#sk-container-id-1 div.sk-label label {\n",
       "  /* The background is the default theme color */\n",
       "  color: var(--sklearn-color-text-on-default-background);\n",
       "}\n",
       "\n",
       "/* On hover, darken the color of the background */\n",
       "#sk-container-id-1 div.sk-label:hover label.sk-toggleable__label {\n",
       "  color: var(--sklearn-color-text);\n",
       "  background-color: var(--sklearn-color-unfitted-level-2);\n",
       "}\n",
       "\n",
       "/* Label box, darken color on hover, fitted */\n",
       "#sk-container-id-1 div.sk-label.fitted:hover label.sk-toggleable__label.fitted {\n",
       "  color: var(--sklearn-color-text);\n",
       "  background-color: var(--sklearn-color-fitted-level-2);\n",
       "}\n",
       "\n",
       "/* Estimator label */\n",
       "\n",
       "#sk-container-id-1 div.sk-label label {\n",
       "  font-family: monospace;\n",
       "  font-weight: bold;\n",
       "  display: inline-block;\n",
       "  line-height: 1.2em;\n",
       "}\n",
       "\n",
       "#sk-container-id-1 div.sk-label-container {\n",
       "  text-align: center;\n",
       "}\n",
       "\n",
       "/* Estimator-specific */\n",
       "#sk-container-id-1 div.sk-estimator {\n",
       "  font-family: monospace;\n",
       "  border: 1px dotted var(--sklearn-color-border-box);\n",
       "  border-radius: 0.25em;\n",
       "  box-sizing: border-box;\n",
       "  margin-bottom: 0.5em;\n",
       "  /* unfitted */\n",
       "  background-color: var(--sklearn-color-unfitted-level-0);\n",
       "}\n",
       "\n",
       "#sk-container-id-1 div.sk-estimator.fitted {\n",
       "  /* fitted */\n",
       "  background-color: var(--sklearn-color-fitted-level-0);\n",
       "}\n",
       "\n",
       "/* on hover */\n",
       "#sk-container-id-1 div.sk-estimator:hover {\n",
       "  /* unfitted */\n",
       "  background-color: var(--sklearn-color-unfitted-level-2);\n",
       "}\n",
       "\n",
       "#sk-container-id-1 div.sk-estimator.fitted:hover {\n",
       "  /* fitted */\n",
       "  background-color: var(--sklearn-color-fitted-level-2);\n",
       "}\n",
       "\n",
       "/* Specification for estimator info (e.g. \"i\" and \"?\") */\n",
       "\n",
       "/* Common style for \"i\" and \"?\" */\n",
       "\n",
       ".sk-estimator-doc-link,\n",
       "a:link.sk-estimator-doc-link,\n",
       "a:visited.sk-estimator-doc-link {\n",
       "  float: right;\n",
       "  font-size: smaller;\n",
       "  line-height: 1em;\n",
       "  font-family: monospace;\n",
       "  background-color: var(--sklearn-color-background);\n",
       "  border-radius: 1em;\n",
       "  height: 1em;\n",
       "  width: 1em;\n",
       "  text-decoration: none !important;\n",
       "  margin-left: 1ex;\n",
       "  /* unfitted */\n",
       "  border: var(--sklearn-color-unfitted-level-1) 1pt solid;\n",
       "  color: var(--sklearn-color-unfitted-level-1);\n",
       "}\n",
       "\n",
       ".sk-estimator-doc-link.fitted,\n",
       "a:link.sk-estimator-doc-link.fitted,\n",
       "a:visited.sk-estimator-doc-link.fitted {\n",
       "  /* fitted */\n",
       "  border: var(--sklearn-color-fitted-level-1) 1pt solid;\n",
       "  color: var(--sklearn-color-fitted-level-1);\n",
       "}\n",
       "\n",
       "/* On hover */\n",
       "div.sk-estimator:hover .sk-estimator-doc-link:hover,\n",
       ".sk-estimator-doc-link:hover,\n",
       "div.sk-label-container:hover .sk-estimator-doc-link:hover,\n",
       ".sk-estimator-doc-link:hover {\n",
       "  /* unfitted */\n",
       "  background-color: var(--sklearn-color-unfitted-level-3);\n",
       "  color: var(--sklearn-color-background);\n",
       "  text-decoration: none;\n",
       "}\n",
       "\n",
       "div.sk-estimator.fitted:hover .sk-estimator-doc-link.fitted:hover,\n",
       ".sk-estimator-doc-link.fitted:hover,\n",
       "div.sk-label-container:hover .sk-estimator-doc-link.fitted:hover,\n",
       ".sk-estimator-doc-link.fitted:hover {\n",
       "  /* fitted */\n",
       "  background-color: var(--sklearn-color-fitted-level-3);\n",
       "  color: var(--sklearn-color-background);\n",
       "  text-decoration: none;\n",
       "}\n",
       "\n",
       "/* Span, style for the box shown on hovering the info icon */\n",
       ".sk-estimator-doc-link span {\n",
       "  display: none;\n",
       "  z-index: 9999;\n",
       "  position: relative;\n",
       "  font-weight: normal;\n",
       "  right: .2ex;\n",
       "  padding: .5ex;\n",
       "  margin: .5ex;\n",
       "  width: min-content;\n",
       "  min-width: 20ex;\n",
       "  max-width: 50ex;\n",
       "  color: var(--sklearn-color-text);\n",
       "  box-shadow: 2pt 2pt 4pt #999;\n",
       "  /* unfitted */\n",
       "  background: var(--sklearn-color-unfitted-level-0);\n",
       "  border: .5pt solid var(--sklearn-color-unfitted-level-3);\n",
       "}\n",
       "\n",
       ".sk-estimator-doc-link.fitted span {\n",
       "  /* fitted */\n",
       "  background: var(--sklearn-color-fitted-level-0);\n",
       "  border: var(--sklearn-color-fitted-level-3);\n",
       "}\n",
       "\n",
       ".sk-estimator-doc-link:hover span {\n",
       "  display: block;\n",
       "}\n",
       "\n",
       "/* \"?\"-specific style due to the `<a>` HTML tag */\n",
       "\n",
       "#sk-container-id-1 a.estimator_doc_link {\n",
       "  float: right;\n",
       "  font-size: 1rem;\n",
       "  line-height: 1em;\n",
       "  font-family: monospace;\n",
       "  background-color: var(--sklearn-color-background);\n",
       "  border-radius: 1rem;\n",
       "  height: 1rem;\n",
       "  width: 1rem;\n",
       "  text-decoration: none;\n",
       "  /* unfitted */\n",
       "  color: var(--sklearn-color-unfitted-level-1);\n",
       "  border: var(--sklearn-color-unfitted-level-1) 1pt solid;\n",
       "}\n",
       "\n",
       "#sk-container-id-1 a.estimator_doc_link.fitted {\n",
       "  /* fitted */\n",
       "  border: var(--sklearn-color-fitted-level-1) 1pt solid;\n",
       "  color: var(--sklearn-color-fitted-level-1);\n",
       "}\n",
       "\n",
       "/* On hover */\n",
       "#sk-container-id-1 a.estimator_doc_link:hover {\n",
       "  /* unfitted */\n",
       "  background-color: var(--sklearn-color-unfitted-level-3);\n",
       "  color: var(--sklearn-color-background);\n",
       "  text-decoration: none;\n",
       "}\n",
       "\n",
       "#sk-container-id-1 a.estimator_doc_link.fitted:hover {\n",
       "  /* fitted */\n",
       "  background-color: var(--sklearn-color-fitted-level-3);\n",
       "}\n",
       "</style><div id=\"sk-container-id-1\" class=\"sk-top-container\"><div class=\"sk-text-repr-fallback\"><pre>LinearRegression()</pre><b>In a Jupyter environment, please rerun this cell to show the HTML representation or trust the notebook. <br />On GitHub, the HTML representation is unable to render, please try loading this page with nbviewer.org.</b></div><div class=\"sk-container\" hidden><div class=\"sk-item\"><div class=\"sk-estimator fitted sk-toggleable\"><input class=\"sk-toggleable__control sk-hidden--visually\" id=\"sk-estimator-id-1\" type=\"checkbox\" checked><label for=\"sk-estimator-id-1\" class=\"sk-toggleable__label fitted sk-toggleable__label-arrow fitted\">&nbsp;&nbsp;LinearRegression<a class=\"sk-estimator-doc-link fitted\" rel=\"noreferrer\" target=\"_blank\" href=\"https://scikit-learn.org/1.4/modules/generated/sklearn.linear_model.LinearRegression.html\">?<span>Documentation for LinearRegression</span></a><span class=\"sk-estimator-doc-link fitted\">i<span>Fitted</span></span></label><div class=\"sk-toggleable__content fitted\"><pre>LinearRegression()</pre></div> </div></div></div></div>"
      ],
      "text/plain": [
       "LinearRegression()"
      ]
     },
     "execution_count": 19,
     "metadata": {},
     "output_type": "execute_result"
    }
   ],
   "source": [
    "from sklearn.linear_model import LinearRegression\n",
    "from sklearn.metrics import mean_squared_error, mean_absolute_error, r2_score\n",
    "\n",
    "# Inizializza il modello di regressione lineare\n",
    "regressor = LinearRegression()\n",
    "\n",
    "# Esegui il training del modello\n",
    "regressor.fit(X_train, y_train)"
   ]
  },
  {
   "cell_type": "markdown",
   "metadata": {
    "id": "1rZ44PAfjaCn"
   },
   "source": [
    "Adesso che il training è avvenuto è il momento di valutare come questo performa. Le metriche che prendiamo in considerazione sono **il mean squadred error, il mean absolute error (*MSE* e *MAE*) e R² (R-squared)**"
   ]
  },
  {
   "cell_type": "code",
   "execution_count": 21,
   "metadata": {
    "colab": {
     "base_uri": "https://localhost:8080/"
    },
    "id": "tekwSdeWjaLU",
    "outputId": "60b764a1-261e-470b-a1d3-ff6d3e5156b1"
   },
   "outputs": [
    {
     "name": "stdout",
     "output_type": "stream",
     "text": [
      "MSE = 3.110187291026072 \n",
      "MAE = 1.5229214208487525\n",
      "R²: -0.01381683650370702\n"
     ]
    }
   ],
   "source": [
    "y_pred = regressor.predict(X_test)\n",
    "MSE = mean_squared_error(y_test, y_pred)\n",
    "MAE = mean_absolute_error(y_test, y_pred)\n",
    "r2 = r2_score(y_test, y_pred)\n",
    "\n",
    "print('MSE =', MSE, '\\nMAE =', MAE)\n",
    "print(f\"R²: {r2}\")"
   ]
  },
  {
   "cell_type": "code",
   "execution_count": 70,
   "metadata": {},
   "outputs": [
    {
     "name": "stdout",
     "output_type": "stream",
     "text": [
      "                                Feature   F-Value   P-Value\n",
      "4                              Branch_B  4.035658  0.044817\n",
      "6                         City_Mandalay  4.035658  0.044817\n",
      "5                              Branch_C  1.659170  0.198014\n",
      "7                        City_Naypyitaw  1.659170  0.198014\n",
      "15      Product line_Food and beverages  1.408879  0.235525\n",
      "2                          gross income  1.327104  0.249597\n",
      "17      Product line_Home and lifestyle  1.179050  0.277812\n",
      "8                           City_Yangon  0.515139  0.473091\n",
      "3                              Branch_A  0.515139  0.473091\n",
      "10                 Customer type_Normal  0.356195  0.550762\n",
      "9                  Customer type_Member  0.356195  0.550762\n",
      "1                              Quantity  0.249673  0.617415\n",
      "14     Product line_Fashion accessories  0.233980  0.628694\n",
      "18       Product line_Sports and travel  0.214465  0.643391\n",
      "13  Product line_Electronic accessories  0.159603  0.689608\n",
      "20                  Payment_Credit card  0.142190  0.706194\n",
      "21                      Payment_Ewallet  0.110240  0.739941\n",
      "0                            Unit price  0.076896  0.781606\n",
      "16       Product line_Health and beauty  0.056734  0.811784\n",
      "12                          Gender_Male  0.022996  0.879497\n",
      "11                        Gender_Female  0.022996  0.879497\n",
      "19                         Payment_Cash  0.001238  0.971940\n"
     ]
    }
   ],
   "source": [
    "from sklearn.feature_selection import f_regression\n",
    "\n",
    "# Valutazione dell'importanza statistica delle feature\n",
    "f_values, p_values = f_regression(X, y)\n",
    "feature_importance = pd.DataFrame({\"Feature\": X.columns, \"F-Value\": f_values, \"P-Value\": p_values})\n",
    "print(feature_importance.sort_values(by=\"F-Value\", ascending=False))\n"
   ]
  },
  {
   "cell_type": "markdown",
   "metadata": {},
   "source": [
    "La maggior parte delle feature, come Unit price, Gender, Payment, Product line, ecc., ha valori P molto alti (P>0.2), suggerendo una bassa correlazione con il target."
   ]
  },
  {
   "cell_type": "code",
   "execution_count": 37,
   "metadata": {},
   "outputs": [
    {
     "name": "stdout",
     "output_type": "stream",
     "text": [
      "Mean Squared Error (MSE): 3.0890180999502173\n",
      "Mean Absolute Error (MAE): 1.5195893169207344\n",
      "R² (Coefficient of Determination): -0.006916389578922155\n"
     ]
    }
   ],
   "source": [
    "from sklearn.linear_model import LinearRegression\n",
    "from sklearn.metrics import mean_squared_error, mean_absolute_error, r2_score\n",
    "\n",
    "# Seleziona le feature con P-Value < 0.2\n",
    "selected_features = [\"Branch_B\", \"City_Mandalay\", \"Branch_C\", \"City_Naypyitaw\", \"Product line_Food and beverages\", \"gross income\"]\n",
    "\n",
    "# Subset dei dati per training e test\n",
    "X_train_selected = X_train[selected_features]\n",
    "X_test_selected = X_test[selected_features]\n",
    "\n",
    "# Inizializza il modello di regressione lineare\n",
    "regressor = LinearRegression()\n",
    "\n",
    "# Training del modello\n",
    "regressor.fit(X_train_selected, y_train)\n",
    "\n",
    "# Predizione sul set di test\n",
    "y_pred = regressor.predict(X_test_selected)\n",
    "\n",
    "# Calcolo delle metriche di valutazione\n",
    "mse = mean_squared_error(y_test, y_pred)\n",
    "mae = mean_absolute_error(y_test, y_pred)\n",
    "r2 = r2_score(y_test, y_pred)\n",
    "\n",
    "# Stampa delle metriche\n",
    "print(f\"Mean Squared Error (MSE): {mse}\")\n",
    "print(f\"Mean Absolute Error (MAE): {mae}\")\n",
    "print(f\"R² (Coefficient of Determination): {r2}\")\n",
    "\n"
   ]
  },
  {
   "cell_type": "markdown",
   "metadata": {
    "id": "RHY6vOR73Awp"
   },
   "source": [
    "# Polynomial Regression\n",
    "\n",
    "Per un'analisi completa è corretto sviluppare anche la polynomial regression. Il modello si chiamerà *regressor* e *poly_regressor* l'oggetto relativo alle feature polinomiali."
   ]
  },
  {
   "cell_type": "code",
   "execution_count": null,
   "metadata": {
    "id": "L51duRkt98sb"
   },
   "outputs": [],
   "source": [
    "# training del modello con la polynomial regression"
   ]
  },
  {
   "cell_type": "code",
   "execution_count": 67,
   "metadata": {},
   "outputs": [
    {
     "name": "stdout",
     "output_type": "stream",
     "text": [
      "MSE = 3.0890180999502173 \n",
      "MAE = 1.5195893169207344\n",
      "Polynomial Regression R²: -0.03873998972204218\n"
     ]
    }
   ],
   "source": [
    "from sklearn.preprocessing import PolynomialFeatures\n",
    "from sklearn.metrics import mean_squared_error, mean_absolute_error, r2_score\n",
    "\n",
    "poly_regressor = PolynomialFeatures(degree=4, include_bias=False)\n",
    "X_train_poly = poly_regressor.fit_transform(X_train_selected)\n",
    "X_test_poly = poly_regressor.transform(X_test_selected)\n",
    "\n",
    "# Training del modello con termini polinomiali\n",
    "regressor = LinearRegression()\n",
    "regressor.fit(X_train_poly, y_train)\n",
    "\n",
    "# Predizione e valutazione\n",
    "y_pred_poly = regressor.predict(X_test_poly)\n",
    "\n",
    "MSE = mean_squared_error(y_test, y_pred)\n",
    "MAE = mean_absolute_error(y_test, y_pred)\n",
    "r2_poly = r2_score(y_test, y_pred_poly)\n",
    "print('MSE =', MSE, '\\nMAE =', MAE)\n",
    "print(f\"Polynomial Regression R²: {r2_poly}\")"
   ]
  },
  {
   "cell_type": "markdown",
   "metadata": {},
   "source": [
    "Un R² di −0.0387 ottenuto aumentando il grado del polinomio indica che il modello non sta migliorando, anzi, potrebbe star peggiorando a causa di overfitting."
   ]
  },
  {
   "cell_type": "markdown",
   "metadata": {
    "id": "tiGbp9iba41a"
   },
   "source": [
    "Per andare a predire il Rating di nuovi acquisti in base alle feature città e categorie di prodotti, possiamo utilizzare il modello di regressione lineare già addestrato. Il modello di regressione lineare ha un MSE e un MAE migliore rispetto alla regressione polinomiale.\n"
   ]
  },
  {
   "cell_type": "code",
   "execution_count": null,
   "metadata": {
    "colab": {
     "base_uri": "https://localhost:8080/"
    },
    "id": "2CAEq-ddUjd1",
    "outputId": "ee13f694-70f8-4e55-d316-13e9c624d1b3"
   },
   "outputs": [
    {
     "name": "stdout",
     "output_type": "stream",
     "text": [
      "Il Rating previsto per il nuovo acquisto è: 7.143414101722396\n"
     ]
    }
   ],
   "source": [
    "import pandas as pd\n",
    "from sklearn.model_selection import train_test_split\n",
    "from sklearn.linear_model import LinearRegression\n",
    "from sklearn.metrics import mean_squared_error, mean_absolute_error, r2_score\n",
    "from sklearn.preprocessing import OneHotEncoder\n",
    "\n",
    "\n",
    "# Seleziona le feature e il target\n",
    "features = ['City', 'Product line']\n",
    "target = 'Rating'\n",
    "X = regression_dataset[features]\n",
    "y = regression_dataset[target]\n",
    "\n",
    "# Crea un OneHotEncoder\n",
    "encoder = OneHotEncoder(sparse_output=False)\n",
    "\n",
    "# Esegui l'encoding delle feature categoriche\n",
    "X_encoded = encoder.fit_transform(X)\n",
    "\n",
    "# Crea un nuovo DataFrame con le feature encodate\n",
    "X_encoded_df = pd.DataFrame(X_encoded, columns=encoder.get_feature_names_out(features), index=X.index)\n",
    "\n",
    "# Dividi i dati in training set e test set\n",
    "X_train, X_test, y_train, y_test = train_test_split(X_encoded_df, y, test_size=0.2, random_state=42)\n",
    "\n",
    "\n",
    "# Addestra il modello di regressione lineare:\n",
    "\n",
    "model = LinearRegression()\n",
    "model.fit(X_train, y_train)\n",
    "\n",
    "\n",
    "# Fai previsioni per nuovi acquisti:\n",
    "\n",
    "# Crea un DataFrame con i dati del nuovo acquisto\n",
    "new_purchase = pd.DataFrame({'City': ['Naypyitaw'], 'Product line': ['Food and beverages']})\n",
    "\n",
    "# Esegui l'encoding delle feature categoriche del nuovo acquisto\n",
    "new_purchase_encoded = encoder.transform(new_purchase)\n",
    "\n",
    "# Crea un DataFrame con le feature encodate del nuovo acquisto\n",
    "new_purchase_encoded_df = pd.DataFrame(new_purchase_encoded, columns=encoder.get_feature_names_out(features))\n",
    "\n",
    "# Fai la previsione del Rating\n",
    "predicted_rating = model.predict(new_purchase_encoded_df)\n",
    "\n",
    "print(f\"Il Rating previsto per il nuovo acquisto è: {predicted_rating[0]}\")"
   ]
  },
  {
   "cell_type": "markdown",
   "metadata": {
    "id": "7_7hZZL13A3e"
   },
   "source": [
    "# Logistic Regression\n",
    "\n",
    "In questa sezione si cambia dataset  (*classification_dataset*), in quanto cambia la natura del problema: si passa infatti a un problema di classificazione, in cui si andrà a valutare la qualità di alcune mele destinate alla catena di supermercati per decidere quali sono le mele di qualità migliore."
   ]
  },
  {
   "cell_type": "code",
   "execution_count": null,
   "metadata": {
    "id": "mHxG-S0l6963"
   },
   "outputs": [],
   "source": [
    "# codice per importare il dataset apple_quality"
   ]
  },
  {
   "cell_type": "code",
   "execution_count": 72,
   "metadata": {
    "id": "1JPX2Y48fA7z"
   },
   "outputs": [],
   "source": [
    "classification_dataset = pd.read_csv('C:\\\\Users\\\\vdibi\\\\Desktop\\\\MASTER IN DATA ANALYSIS\\\\8. MACHINE LEARNING\\\\apple_quality.csv')"
   ]
  },
  {
   "cell_type": "code",
   "execution_count": null,
   "metadata": {
    "id": "Mk9gwtglo7xq"
   },
   "outputs": [],
   "source": [
    "# codice per print delle prime 50 righe"
   ]
  },
  {
   "cell_type": "code",
   "execution_count": 74,
   "metadata": {
    "colab": {
     "base_uri": "https://localhost:8080/",
     "height": 1000
    },
    "id": "AV-KtX27fVXD",
    "outputId": "447946e5-2027-488e-9960-86c315b22347"
   },
   "outputs": [
    {
     "data": {
      "text/html": [
       "<div>\n",
       "<style scoped>\n",
       "    .dataframe tbody tr th:only-of-type {\n",
       "        vertical-align: middle;\n",
       "    }\n",
       "\n",
       "    .dataframe tbody tr th {\n",
       "        vertical-align: top;\n",
       "    }\n",
       "\n",
       "    .dataframe thead th {\n",
       "        text-align: right;\n",
       "    }\n",
       "</style>\n",
       "<table border=\"1\" class=\"dataframe\">\n",
       "  <thead>\n",
       "    <tr style=\"text-align: right;\">\n",
       "      <th></th>\n",
       "      <th>A_id</th>\n",
       "      <th>Size</th>\n",
       "      <th>Weight</th>\n",
       "      <th>Sweetness</th>\n",
       "      <th>Crunchiness</th>\n",
       "      <th>Juiciness</th>\n",
       "      <th>Ripeness</th>\n",
       "      <th>Acidity</th>\n",
       "      <th>Quality</th>\n",
       "    </tr>\n",
       "  </thead>\n",
       "  <tbody>\n",
       "    <tr>\n",
       "      <th>0</th>\n",
       "      <td>0.0</td>\n",
       "      <td>-3.970049</td>\n",
       "      <td>-2.512336</td>\n",
       "      <td>5.346330</td>\n",
       "      <td>-1.012009</td>\n",
       "      <td>1.844900</td>\n",
       "      <td>0.329840</td>\n",
       "      <td>-0.491590483</td>\n",
       "      <td>good</td>\n",
       "    </tr>\n",
       "    <tr>\n",
       "      <th>1</th>\n",
       "      <td>1.0</td>\n",
       "      <td>-1.195217</td>\n",
       "      <td>-2.839257</td>\n",
       "      <td>3.664059</td>\n",
       "      <td>1.588232</td>\n",
       "      <td>0.853286</td>\n",
       "      <td>0.867530</td>\n",
       "      <td>-0.722809367</td>\n",
       "      <td>good</td>\n",
       "    </tr>\n",
       "    <tr>\n",
       "      <th>2</th>\n",
       "      <td>2.0</td>\n",
       "      <td>-0.292024</td>\n",
       "      <td>-1.351282</td>\n",
       "      <td>-1.738429</td>\n",
       "      <td>-0.342616</td>\n",
       "      <td>2.838636</td>\n",
       "      <td>-0.038033</td>\n",
       "      <td>2.621636473</td>\n",
       "      <td>bad</td>\n",
       "    </tr>\n",
       "    <tr>\n",
       "      <th>3</th>\n",
       "      <td>3.0</td>\n",
       "      <td>-0.657196</td>\n",
       "      <td>-2.271627</td>\n",
       "      <td>1.324874</td>\n",
       "      <td>-0.097875</td>\n",
       "      <td>3.637970</td>\n",
       "      <td>-3.413761</td>\n",
       "      <td>0.790723217</td>\n",
       "      <td>good</td>\n",
       "    </tr>\n",
       "    <tr>\n",
       "      <th>4</th>\n",
       "      <td>4.0</td>\n",
       "      <td>1.364217</td>\n",
       "      <td>-1.296612</td>\n",
       "      <td>-0.384658</td>\n",
       "      <td>-0.553006</td>\n",
       "      <td>3.030874</td>\n",
       "      <td>-1.303849</td>\n",
       "      <td>0.501984036</td>\n",
       "      <td>good</td>\n",
       "    </tr>\n",
       "    <tr>\n",
       "      <th>5</th>\n",
       "      <td>5.0</td>\n",
       "      <td>-3.425400</td>\n",
       "      <td>-1.409082</td>\n",
       "      <td>-1.913511</td>\n",
       "      <td>-0.555775</td>\n",
       "      <td>-3.853071</td>\n",
       "      <td>1.914616</td>\n",
       "      <td>-2.981523169</td>\n",
       "      <td>bad</td>\n",
       "    </tr>\n",
       "    <tr>\n",
       "      <th>6</th>\n",
       "      <td>6.0</td>\n",
       "      <td>1.331606</td>\n",
       "      <td>1.635956</td>\n",
       "      <td>0.875974</td>\n",
       "      <td>-1.677798</td>\n",
       "      <td>3.106344</td>\n",
       "      <td>-1.847417</td>\n",
       "      <td>2.414170509</td>\n",
       "      <td>good</td>\n",
       "    </tr>\n",
       "    <tr>\n",
       "      <th>7</th>\n",
       "      <td>7.0</td>\n",
       "      <td>-1.995462</td>\n",
       "      <td>-0.428958</td>\n",
       "      <td>1.530644</td>\n",
       "      <td>-0.742972</td>\n",
       "      <td>0.158834</td>\n",
       "      <td>0.974438</td>\n",
       "      <td>-1.470125066</td>\n",
       "      <td>good</td>\n",
       "    </tr>\n",
       "    <tr>\n",
       "      <th>8</th>\n",
       "      <td>8.0</td>\n",
       "      <td>-3.867632</td>\n",
       "      <td>-3.734514</td>\n",
       "      <td>0.986429</td>\n",
       "      <td>-1.207655</td>\n",
       "      <td>2.292873</td>\n",
       "      <td>4.080921</td>\n",
       "      <td>-4.871904758</td>\n",
       "      <td>bad</td>\n",
       "    </tr>\n",
       "    <tr>\n",
       "      <th>9</th>\n",
       "      <td>9.0</td>\n",
       "      <td>-0.727983</td>\n",
       "      <td>-0.442820</td>\n",
       "      <td>-4.092223</td>\n",
       "      <td>0.597513</td>\n",
       "      <td>0.393714</td>\n",
       "      <td>1.620857</td>\n",
       "      <td>2.185607723</td>\n",
       "      <td>bad</td>\n",
       "    </tr>\n",
       "    <tr>\n",
       "      <th>10</th>\n",
       "      <td>10.0</td>\n",
       "      <td>-2.699336</td>\n",
       "      <td>-1.329507</td>\n",
       "      <td>-1.418507</td>\n",
       "      <td>-0.625546</td>\n",
       "      <td>2.371074</td>\n",
       "      <td>3.403165</td>\n",
       "      <td>-2.810808169</td>\n",
       "      <td>bad</td>\n",
       "    </tr>\n",
       "    <tr>\n",
       "      <th>11</th>\n",
       "      <td>11.0</td>\n",
       "      <td>2.450960</td>\n",
       "      <td>-0.564177</td>\n",
       "      <td>-1.635041</td>\n",
       "      <td>0.942400</td>\n",
       "      <td>-2.087317</td>\n",
       "      <td>1.214322</td>\n",
       "      <td>1.294323927</td>\n",
       "      <td>good</td>\n",
       "    </tr>\n",
       "    <tr>\n",
       "      <th>12</th>\n",
       "      <td>12.0</td>\n",
       "      <td>-0.170812</td>\n",
       "      <td>-1.867271</td>\n",
       "      <td>-1.771845</td>\n",
       "      <td>2.413155</td>\n",
       "      <td>-3.094555</td>\n",
       "      <td>-0.624884</td>\n",
       "      <td>-2.076113997</td>\n",
       "      <td>bad</td>\n",
       "    </tr>\n",
       "    <tr>\n",
       "      <th>13</th>\n",
       "      <td>13.0</td>\n",
       "      <td>-1.345531</td>\n",
       "      <td>-1.623701</td>\n",
       "      <td>2.044144</td>\n",
       "      <td>1.754813</td>\n",
       "      <td>0.997567</td>\n",
       "      <td>0.434180</td>\n",
       "      <td>1.724026084</td>\n",
       "      <td>good</td>\n",
       "    </tr>\n",
       "    <tr>\n",
       "      <th>14</th>\n",
       "      <td>14.0</td>\n",
       "      <td>2.839581</td>\n",
       "      <td>-0.344798</td>\n",
       "      <td>-1.019797</td>\n",
       "      <td>0.894581</td>\n",
       "      <td>-1.300061</td>\n",
       "      <td>0.582379</td>\n",
       "      <td>1.709708209</td>\n",
       "      <td>good</td>\n",
       "    </tr>\n",
       "    <tr>\n",
       "      <th>15</th>\n",
       "      <td>15.0</td>\n",
       "      <td>-2.659887</td>\n",
       "      <td>-2.795684</td>\n",
       "      <td>4.230404</td>\n",
       "      <td>0.697550</td>\n",
       "      <td>2.180911</td>\n",
       "      <td>-0.088775</td>\n",
       "      <td>-1.083620788</td>\n",
       "      <td>good</td>\n",
       "    </tr>\n",
       "    <tr>\n",
       "      <th>16</th>\n",
       "      <td>16.0</td>\n",
       "      <td>-1.468952</td>\n",
       "      <td>-1.950360</td>\n",
       "      <td>-2.214373</td>\n",
       "      <td>0.909759</td>\n",
       "      <td>2.864449</td>\n",
       "      <td>3.965956</td>\n",
       "      <td>-0.558208683</td>\n",
       "      <td>bad</td>\n",
       "    </tr>\n",
       "    <tr>\n",
       "      <th>17</th>\n",
       "      <td>17.0</td>\n",
       "      <td>-0.074370</td>\n",
       "      <td>-4.714750</td>\n",
       "      <td>0.249768</td>\n",
       "      <td>2.935319</td>\n",
       "      <td>1.409755</td>\n",
       "      <td>-2.643810</td>\n",
       "      <td>1.250970347</td>\n",
       "      <td>good</td>\n",
       "    </tr>\n",
       "    <tr>\n",
       "      <th>18</th>\n",
       "      <td>18.0</td>\n",
       "      <td>-0.302364</td>\n",
       "      <td>1.724396</td>\n",
       "      <td>-2.442337</td>\n",
       "      <td>3.465108</td>\n",
       "      <td>0.449792</td>\n",
       "      <td>-0.074362</td>\n",
       "      <td>2.493781985</td>\n",
       "      <td>bad</td>\n",
       "    </tr>\n",
       "    <tr>\n",
       "      <th>19</th>\n",
       "      <td>19.0</td>\n",
       "      <td>-2.108050</td>\n",
       "      <td>0.356467</td>\n",
       "      <td>-1.156193</td>\n",
       "      <td>4.326723</td>\n",
       "      <td>1.561543</td>\n",
       "      <td>-4.630174</td>\n",
       "      <td>-1.37665721</td>\n",
       "      <td>good</td>\n",
       "    </tr>\n",
       "    <tr>\n",
       "      <th>20</th>\n",
       "      <td>20.0</td>\n",
       "      <td>-2.334590</td>\n",
       "      <td>-2.943709</td>\n",
       "      <td>-3.452628</td>\n",
       "      <td>0.762392</td>\n",
       "      <td>4.076462</td>\n",
       "      <td>6.346445</td>\n",
       "      <td>0.726775672</td>\n",
       "      <td>bad</td>\n",
       "    </tr>\n",
       "    <tr>\n",
       "      <th>21</th>\n",
       "      <td>21.0</td>\n",
       "      <td>1.177593</td>\n",
       "      <td>-0.721654</td>\n",
       "      <td>-1.387116</td>\n",
       "      <td>7.619852</td>\n",
       "      <td>1.069288</td>\n",
       "      <td>-3.734805</td>\n",
       "      <td>2.642948241</td>\n",
       "      <td>good</td>\n",
       "    </tr>\n",
       "    <tr>\n",
       "      <th>22</th>\n",
       "      <td>22.0</td>\n",
       "      <td>-2.423946</td>\n",
       "      <td>-0.698501</td>\n",
       "      <td>0.146030</td>\n",
       "      <td>0.630106</td>\n",
       "      <td>2.990561</td>\n",
       "      <td>0.779473</td>\n",
       "      <td>3.184188187</td>\n",
       "      <td>bad</td>\n",
       "    </tr>\n",
       "    <tr>\n",
       "      <th>23</th>\n",
       "      <td>23.0</td>\n",
       "      <td>0.135714</td>\n",
       "      <td>-0.753757</td>\n",
       "      <td>-2.196146</td>\n",
       "      <td>1.039276</td>\n",
       "      <td>0.580538</td>\n",
       "      <td>0.227309</td>\n",
       "      <td>2.086618541</td>\n",
       "      <td>bad</td>\n",
       "    </tr>\n",
       "    <tr>\n",
       "      <th>24</th>\n",
       "      <td>24.0</td>\n",
       "      <td>0.522961</td>\n",
       "      <td>-1.428085</td>\n",
       "      <td>-0.743519</td>\n",
       "      <td>1.786716</td>\n",
       "      <td>-4.207544</td>\n",
       "      <td>-1.825231</td>\n",
       "      <td>-1.430429857</td>\n",
       "      <td>bad</td>\n",
       "    </tr>\n",
       "    <tr>\n",
       "      <th>25</th>\n",
       "      <td>25.0</td>\n",
       "      <td>-1.299468</td>\n",
       "      <td>-3.504792</td>\n",
       "      <td>-1.129402</td>\n",
       "      <td>0.555905</td>\n",
       "      <td>-2.807550</td>\n",
       "      <td>1.714630</td>\n",
       "      <td>-3.846641823</td>\n",
       "      <td>bad</td>\n",
       "    </tr>\n",
       "    <tr>\n",
       "      <th>26</th>\n",
       "      <td>26.0</td>\n",
       "      <td>-0.300698</td>\n",
       "      <td>-0.513603</td>\n",
       "      <td>0.921006</td>\n",
       "      <td>1.378172</td>\n",
       "      <td>2.274747</td>\n",
       "      <td>0.745336</td>\n",
       "      <td>-2.93402889</td>\n",
       "      <td>good</td>\n",
       "    </tr>\n",
       "    <tr>\n",
       "      <th>27</th>\n",
       "      <td>27.0</td>\n",
       "      <td>1.999831</td>\n",
       "      <td>0.669990</td>\n",
       "      <td>-2.099616</td>\n",
       "      <td>2.645819</td>\n",
       "      <td>-0.989496</td>\n",
       "      <td>0.373330</td>\n",
       "      <td>-2.397691796</td>\n",
       "      <td>bad</td>\n",
       "    </tr>\n",
       "    <tr>\n",
       "      <th>28</th>\n",
       "      <td>28.0</td>\n",
       "      <td>1.446052</td>\n",
       "      <td>1.656692</td>\n",
       "      <td>-1.777521</td>\n",
       "      <td>1.708962</td>\n",
       "      <td>-0.341670</td>\n",
       "      <td>-1.322439</td>\n",
       "      <td>-1.158128067</td>\n",
       "      <td>bad</td>\n",
       "    </tr>\n",
       "    <tr>\n",
       "      <th>29</th>\n",
       "      <td>29.0</td>\n",
       "      <td>-0.595825</td>\n",
       "      <td>1.534680</td>\n",
       "      <td>-1.769319</td>\n",
       "      <td>0.664502</td>\n",
       "      <td>-0.432874</td>\n",
       "      <td>0.800439</td>\n",
       "      <td>1.64595436</td>\n",
       "      <td>bad</td>\n",
       "    </tr>\n",
       "    <tr>\n",
       "      <th>30</th>\n",
       "      <td>30.0</td>\n",
       "      <td>0.410492</td>\n",
       "      <td>-2.260290</td>\n",
       "      <td>-3.335948</td>\n",
       "      <td>-0.285205</td>\n",
       "      <td>-2.733844</td>\n",
       "      <td>2.585986</td>\n",
       "      <td>-3.036919711</td>\n",
       "      <td>bad</td>\n",
       "    </tr>\n",
       "    <tr>\n",
       "      <th>31</th>\n",
       "      <td>31.0</td>\n",
       "      <td>-2.560872</td>\n",
       "      <td>-0.096412</td>\n",
       "      <td>2.413774</td>\n",
       "      <td>1.318294</td>\n",
       "      <td>3.271688</td>\n",
       "      <td>-1.797185</td>\n",
       "      <td>-2.636844815</td>\n",
       "      <td>good</td>\n",
       "    </tr>\n",
       "    <tr>\n",
       "      <th>32</th>\n",
       "      <td>32.0</td>\n",
       "      <td>1.681663</td>\n",
       "      <td>-2.981674</td>\n",
       "      <td>-0.079805</td>\n",
       "      <td>-0.947866</td>\n",
       "      <td>3.034813</td>\n",
       "      <td>-0.708611</td>\n",
       "      <td>1.166970737</td>\n",
       "      <td>good</td>\n",
       "    </tr>\n",
       "    <tr>\n",
       "      <th>33</th>\n",
       "      <td>33.0</td>\n",
       "      <td>-0.588796</td>\n",
       "      <td>-1.121987</td>\n",
       "      <td>2.324295</td>\n",
       "      <td>0.311931</td>\n",
       "      <td>5.148739</td>\n",
       "      <td>-3.351988</td>\n",
       "      <td>5.560108693</td>\n",
       "      <td>bad</td>\n",
       "    </tr>\n",
       "    <tr>\n",
       "      <th>34</th>\n",
       "      <td>34.0</td>\n",
       "      <td>-0.034368</td>\n",
       "      <td>-1.332805</td>\n",
       "      <td>2.329101</td>\n",
       "      <td>2.862759</td>\n",
       "      <td>0.825239</td>\n",
       "      <td>1.062672</td>\n",
       "      <td>2.300330525</td>\n",
       "      <td>good</td>\n",
       "    </tr>\n",
       "    <tr>\n",
       "      <th>35</th>\n",
       "      <td>35.0</td>\n",
       "      <td>-0.955402</td>\n",
       "      <td>-2.461097</td>\n",
       "      <td>-4.087156</td>\n",
       "      <td>0.839108</td>\n",
       "      <td>1.003216</td>\n",
       "      <td>4.975640</td>\n",
       "      <td>-0.98138767</td>\n",
       "      <td>bad</td>\n",
       "    </tr>\n",
       "    <tr>\n",
       "      <th>36</th>\n",
       "      <td>36.0</td>\n",
       "      <td>-3.061165</td>\n",
       "      <td>0.837104</td>\n",
       "      <td>-1.076638</td>\n",
       "      <td>1.524738</td>\n",
       "      <td>1.764140</td>\n",
       "      <td>-0.056473</td>\n",
       "      <td>-1.495112616</td>\n",
       "      <td>good</td>\n",
       "    </tr>\n",
       "    <tr>\n",
       "      <th>37</th>\n",
       "      <td>37.0</td>\n",
       "      <td>3.948114</td>\n",
       "      <td>-1.634183</td>\n",
       "      <td>-4.773780</td>\n",
       "      <td>1.931631</td>\n",
       "      <td>0.790540</td>\n",
       "      <td>1.583097</td>\n",
       "      <td>-2.478055932</td>\n",
       "      <td>good</td>\n",
       "    </tr>\n",
       "    <tr>\n",
       "      <th>38</th>\n",
       "      <td>38.0</td>\n",
       "      <td>-1.796719</td>\n",
       "      <td>-3.469227</td>\n",
       "      <td>3.685437</td>\n",
       "      <td>-0.164141</td>\n",
       "      <td>1.320298</td>\n",
       "      <td>1.480110</td>\n",
       "      <td>-2.292964433</td>\n",
       "      <td>good</td>\n",
       "    </tr>\n",
       "    <tr>\n",
       "      <th>39</th>\n",
       "      <td>39.0</td>\n",
       "      <td>1.286738</td>\n",
       "      <td>-2.429525</td>\n",
       "      <td>0.956133</td>\n",
       "      <td>1.477542</td>\n",
       "      <td>4.786376</td>\n",
       "      <td>-3.382357</td>\n",
       "      <td>2.519346925</td>\n",
       "      <td>good</td>\n",
       "    </tr>\n",
       "    <tr>\n",
       "      <th>40</th>\n",
       "      <td>40.0</td>\n",
       "      <td>1.196545</td>\n",
       "      <td>-1.448104</td>\n",
       "      <td>-0.921517</td>\n",
       "      <td>2.005491</td>\n",
       "      <td>0.404741</td>\n",
       "      <td>-0.700779</td>\n",
       "      <td>1.071129708</td>\n",
       "      <td>bad</td>\n",
       "    </tr>\n",
       "    <tr>\n",
       "      <th>41</th>\n",
       "      <td>41.0</td>\n",
       "      <td>-0.354190</td>\n",
       "      <td>-2.024043</td>\n",
       "      <td>1.366985</td>\n",
       "      <td>3.233616</td>\n",
       "      <td>0.992669</td>\n",
       "      <td>1.525609</td>\n",
       "      <td>2.740924761</td>\n",
       "      <td>good</td>\n",
       "    </tr>\n",
       "    <tr>\n",
       "      <th>42</th>\n",
       "      <td>42.0</td>\n",
       "      <td>-1.538607</td>\n",
       "      <td>-2.747844</td>\n",
       "      <td>1.844950</td>\n",
       "      <td>0.491249</td>\n",
       "      <td>-0.425816</td>\n",
       "      <td>1.259768</td>\n",
       "      <td>-1.680924092</td>\n",
       "      <td>bad</td>\n",
       "    </tr>\n",
       "    <tr>\n",
       "      <th>43</th>\n",
       "      <td>43.0</td>\n",
       "      <td>0.807854</td>\n",
       "      <td>0.752707</td>\n",
       "      <td>0.179226</td>\n",
       "      <td>1.451582</td>\n",
       "      <td>-1.611859</td>\n",
       "      <td>-2.776275</td>\n",
       "      <td>0.184905607</td>\n",
       "      <td>bad</td>\n",
       "    </tr>\n",
       "    <tr>\n",
       "      <th>44</th>\n",
       "      <td>44.0</td>\n",
       "      <td>3.930361</td>\n",
       "      <td>2.754406</td>\n",
       "      <td>-2.667950</td>\n",
       "      <td>1.428248</td>\n",
       "      <td>0.092761</td>\n",
       "      <td>1.095794</td>\n",
       "      <td>2.627274158</td>\n",
       "      <td>good</td>\n",
       "    </tr>\n",
       "    <tr>\n",
       "      <th>45</th>\n",
       "      <td>45.0</td>\n",
       "      <td>0.033471</td>\n",
       "      <td>-0.044161</td>\n",
       "      <td>-0.481202</td>\n",
       "      <td>4.937210</td>\n",
       "      <td>-0.609873</td>\n",
       "      <td>-3.231504</td>\n",
       "      <td>1.248791791</td>\n",
       "      <td>good</td>\n",
       "    </tr>\n",
       "    <tr>\n",
       "      <th>46</th>\n",
       "      <td>46.0</td>\n",
       "      <td>-0.487367</td>\n",
       "      <td>-0.768805</td>\n",
       "      <td>-0.779232</td>\n",
       "      <td>2.025257</td>\n",
       "      <td>1.477927</td>\n",
       "      <td>0.267788</td>\n",
       "      <td>-4.454570173</td>\n",
       "      <td>good</td>\n",
       "    </tr>\n",
       "    <tr>\n",
       "      <th>47</th>\n",
       "      <td>47.0</td>\n",
       "      <td>-1.387990</td>\n",
       "      <td>2.738511</td>\n",
       "      <td>-2.349217</td>\n",
       "      <td>0.953438</td>\n",
       "      <td>1.860716</td>\n",
       "      <td>2.317310</td>\n",
       "      <td>3.097818375</td>\n",
       "      <td>bad</td>\n",
       "    </tr>\n",
       "    <tr>\n",
       "      <th>48</th>\n",
       "      <td>48.0</td>\n",
       "      <td>-3.328571</td>\n",
       "      <td>0.652577</td>\n",
       "      <td>-1.424403</td>\n",
       "      <td>0.727385</td>\n",
       "      <td>1.576921</td>\n",
       "      <td>2.577804</td>\n",
       "      <td>0.650677868</td>\n",
       "      <td>bad</td>\n",
       "    </tr>\n",
       "    <tr>\n",
       "      <th>49</th>\n",
       "      <td>49.0</td>\n",
       "      <td>-1.107060</td>\n",
       "      <td>2.261198</td>\n",
       "      <td>-2.635197</td>\n",
       "      <td>0.882265</td>\n",
       "      <td>-0.023995</td>\n",
       "      <td>2.218099</td>\n",
       "      <td>2.865048371</td>\n",
       "      <td>bad</td>\n",
       "    </tr>\n",
       "  </tbody>\n",
       "</table>\n",
       "</div>"
      ],
      "text/plain": [
       "    A_id      Size    Weight  Sweetness  Crunchiness  Juiciness  Ripeness  \\\n",
       "0    0.0 -3.970049 -2.512336   5.346330    -1.012009   1.844900  0.329840   \n",
       "1    1.0 -1.195217 -2.839257   3.664059     1.588232   0.853286  0.867530   \n",
       "2    2.0 -0.292024 -1.351282  -1.738429    -0.342616   2.838636 -0.038033   \n",
       "3    3.0 -0.657196 -2.271627   1.324874    -0.097875   3.637970 -3.413761   \n",
       "4    4.0  1.364217 -1.296612  -0.384658    -0.553006   3.030874 -1.303849   \n",
       "5    5.0 -3.425400 -1.409082  -1.913511    -0.555775  -3.853071  1.914616   \n",
       "6    6.0  1.331606  1.635956   0.875974    -1.677798   3.106344 -1.847417   \n",
       "7    7.0 -1.995462 -0.428958   1.530644    -0.742972   0.158834  0.974438   \n",
       "8    8.0 -3.867632 -3.734514   0.986429    -1.207655   2.292873  4.080921   \n",
       "9    9.0 -0.727983 -0.442820  -4.092223     0.597513   0.393714  1.620857   \n",
       "10  10.0 -2.699336 -1.329507  -1.418507    -0.625546   2.371074  3.403165   \n",
       "11  11.0  2.450960 -0.564177  -1.635041     0.942400  -2.087317  1.214322   \n",
       "12  12.0 -0.170812 -1.867271  -1.771845     2.413155  -3.094555 -0.624884   \n",
       "13  13.0 -1.345531 -1.623701   2.044144     1.754813   0.997567  0.434180   \n",
       "14  14.0  2.839581 -0.344798  -1.019797     0.894581  -1.300061  0.582379   \n",
       "15  15.0 -2.659887 -2.795684   4.230404     0.697550   2.180911 -0.088775   \n",
       "16  16.0 -1.468952 -1.950360  -2.214373     0.909759   2.864449  3.965956   \n",
       "17  17.0 -0.074370 -4.714750   0.249768     2.935319   1.409755 -2.643810   \n",
       "18  18.0 -0.302364  1.724396  -2.442337     3.465108   0.449792 -0.074362   \n",
       "19  19.0 -2.108050  0.356467  -1.156193     4.326723   1.561543 -4.630174   \n",
       "20  20.0 -2.334590 -2.943709  -3.452628     0.762392   4.076462  6.346445   \n",
       "21  21.0  1.177593 -0.721654  -1.387116     7.619852   1.069288 -3.734805   \n",
       "22  22.0 -2.423946 -0.698501   0.146030     0.630106   2.990561  0.779473   \n",
       "23  23.0  0.135714 -0.753757  -2.196146     1.039276   0.580538  0.227309   \n",
       "24  24.0  0.522961 -1.428085  -0.743519     1.786716  -4.207544 -1.825231   \n",
       "25  25.0 -1.299468 -3.504792  -1.129402     0.555905  -2.807550  1.714630   \n",
       "26  26.0 -0.300698 -0.513603   0.921006     1.378172   2.274747  0.745336   \n",
       "27  27.0  1.999831  0.669990  -2.099616     2.645819  -0.989496  0.373330   \n",
       "28  28.0  1.446052  1.656692  -1.777521     1.708962  -0.341670 -1.322439   \n",
       "29  29.0 -0.595825  1.534680  -1.769319     0.664502  -0.432874  0.800439   \n",
       "30  30.0  0.410492 -2.260290  -3.335948    -0.285205  -2.733844  2.585986   \n",
       "31  31.0 -2.560872 -0.096412   2.413774     1.318294   3.271688 -1.797185   \n",
       "32  32.0  1.681663 -2.981674  -0.079805    -0.947866   3.034813 -0.708611   \n",
       "33  33.0 -0.588796 -1.121987   2.324295     0.311931   5.148739 -3.351988   \n",
       "34  34.0 -0.034368 -1.332805   2.329101     2.862759   0.825239  1.062672   \n",
       "35  35.0 -0.955402 -2.461097  -4.087156     0.839108   1.003216  4.975640   \n",
       "36  36.0 -3.061165  0.837104  -1.076638     1.524738   1.764140 -0.056473   \n",
       "37  37.0  3.948114 -1.634183  -4.773780     1.931631   0.790540  1.583097   \n",
       "38  38.0 -1.796719 -3.469227   3.685437    -0.164141   1.320298  1.480110   \n",
       "39  39.0  1.286738 -2.429525   0.956133     1.477542   4.786376 -3.382357   \n",
       "40  40.0  1.196545 -1.448104  -0.921517     2.005491   0.404741 -0.700779   \n",
       "41  41.0 -0.354190 -2.024043   1.366985     3.233616   0.992669  1.525609   \n",
       "42  42.0 -1.538607 -2.747844   1.844950     0.491249  -0.425816  1.259768   \n",
       "43  43.0  0.807854  0.752707   0.179226     1.451582  -1.611859 -2.776275   \n",
       "44  44.0  3.930361  2.754406  -2.667950     1.428248   0.092761  1.095794   \n",
       "45  45.0  0.033471 -0.044161  -0.481202     4.937210  -0.609873 -3.231504   \n",
       "46  46.0 -0.487367 -0.768805  -0.779232     2.025257   1.477927  0.267788   \n",
       "47  47.0 -1.387990  2.738511  -2.349217     0.953438   1.860716  2.317310   \n",
       "48  48.0 -3.328571  0.652577  -1.424403     0.727385   1.576921  2.577804   \n",
       "49  49.0 -1.107060  2.261198  -2.635197     0.882265  -0.023995  2.218099   \n",
       "\n",
       "         Acidity Quality  \n",
       "0   -0.491590483    good  \n",
       "1   -0.722809367    good  \n",
       "2    2.621636473     bad  \n",
       "3    0.790723217    good  \n",
       "4    0.501984036    good  \n",
       "5   -2.981523169     bad  \n",
       "6    2.414170509    good  \n",
       "7   -1.470125066    good  \n",
       "8   -4.871904758     bad  \n",
       "9    2.185607723     bad  \n",
       "10  -2.810808169     bad  \n",
       "11   1.294323927    good  \n",
       "12  -2.076113997     bad  \n",
       "13   1.724026084    good  \n",
       "14   1.709708209    good  \n",
       "15  -1.083620788    good  \n",
       "16  -0.558208683     bad  \n",
       "17   1.250970347    good  \n",
       "18   2.493781985     bad  \n",
       "19   -1.37665721    good  \n",
       "20   0.726775672     bad  \n",
       "21   2.642948241    good  \n",
       "22   3.184188187     bad  \n",
       "23   2.086618541     bad  \n",
       "24  -1.430429857     bad  \n",
       "25  -3.846641823     bad  \n",
       "26   -2.93402889    good  \n",
       "27  -2.397691796     bad  \n",
       "28  -1.158128067     bad  \n",
       "29    1.64595436     bad  \n",
       "30  -3.036919711     bad  \n",
       "31  -2.636844815    good  \n",
       "32   1.166970737    good  \n",
       "33   5.560108693     bad  \n",
       "34   2.300330525    good  \n",
       "35   -0.98138767     bad  \n",
       "36  -1.495112616    good  \n",
       "37  -2.478055932    good  \n",
       "38  -2.292964433    good  \n",
       "39   2.519346925    good  \n",
       "40   1.071129708     bad  \n",
       "41   2.740924761    good  \n",
       "42  -1.680924092     bad  \n",
       "43   0.184905607     bad  \n",
       "44   2.627274158    good  \n",
       "45   1.248791791    good  \n",
       "46  -4.454570173    good  \n",
       "47   3.097818375     bad  \n",
       "48   0.650677868     bad  \n",
       "49   2.865048371     bad  "
      ]
     },
     "execution_count": 74,
     "metadata": {},
     "output_type": "execute_result"
    }
   ],
   "source": [
    "classification_dataset.head(50)"
   ]
  },
  {
   "cell_type": "markdown",
   "metadata": {
    "id": "VgX6ab8ZpBQd"
   },
   "source": [
    "... e dei metadati delle colonne:"
   ]
  },
  {
   "cell_type": "code",
   "execution_count": null,
   "metadata": {
    "id": "WBAx4zB1pIO3"
   },
   "outputs": [],
   "source": [
    "# codice per visualizzare i principali metadata del dataset apple_quality"
   ]
  },
  {
   "cell_type": "code",
   "execution_count": null,
   "metadata": {
    "colab": {
     "base_uri": "https://localhost:8080/"
    },
    "id": "W-nprOqsgC8t",
    "outputId": "2fe60a80-d47a-4352-b788-0729d1133350"
   },
   "outputs": [
    {
     "name": "stdout",
     "output_type": "stream",
     "text": [
      "<class 'pandas.core.frame.DataFrame'>\n",
      "RangeIndex: 4001 entries, 0 to 4000\n",
      "Data columns (total 9 columns):\n",
      " #   Column       Non-Null Count  Dtype  \n",
      "---  ------       --------------  -----  \n",
      " 0   A_id         4000 non-null   float64\n",
      " 1   Size         4000 non-null   float64\n",
      " 2   Weight       4000 non-null   float64\n",
      " 3   Sweetness    4000 non-null   float64\n",
      " 4   Crunchiness  4000 non-null   float64\n",
      " 5   Juiciness    4000 non-null   float64\n",
      " 6   Ripeness     4000 non-null   float64\n",
      " 7   Acidity      4001 non-null   object \n",
      " 8   Quality      4000 non-null   object \n",
      "dtypes: float64(7), object(2)\n",
      "memory usage: 281.4+ KB\n",
      "None\n"
     ]
    }
   ],
   "source": [
    "print(classification_dataset.info())"
   ]
  },
  {
   "cell_type": "code",
   "execution_count": null,
   "metadata": {
    "id": "te3neqKCCt5n"
   },
   "outputs": [],
   "source": [
    "# codice per rimuovere la label \"Acidity\""
   ]
  },
  {
   "cell_type": "code",
   "execution_count": 76,
   "metadata": {
    "colab": {
     "base_uri": "https://localhost:8080/"
    },
    "id": "mxk_xBUeCxgl",
    "outputId": "e8864d4a-bbc1-4a5b-f700-c4fa7593ea74"
   },
   "outputs": [
    {
     "name": "stdout",
     "output_type": "stream",
     "text": [
      "<class 'pandas.core.frame.DataFrame'>\n",
      "RangeIndex: 4001 entries, 0 to 4000\n",
      "Data columns (total 8 columns):\n",
      " #   Column       Non-Null Count  Dtype  \n",
      "---  ------       --------------  -----  \n",
      " 0   A_id         4000 non-null   float64\n",
      " 1   Size         4000 non-null   float64\n",
      " 2   Weight       4000 non-null   float64\n",
      " 3   Sweetness    4000 non-null   float64\n",
      " 4   Crunchiness  4000 non-null   float64\n",
      " 5   Juiciness    4000 non-null   float64\n",
      " 6   Ripeness     4000 non-null   float64\n",
      " 7   Quality      4000 non-null   object \n",
      "dtypes: float64(7), object(1)\n",
      "memory usage: 250.2+ KB\n",
      "None\n"
     ]
    }
   ],
   "source": [
    "classification_dataset.drop('Acidity', axis=1, inplace=True)\n",
    "print(classification_dataset.info())"
   ]
  },
  {
   "cell_type": "markdown",
   "metadata": {
    "id": "mHJ3IL5fpMjP"
   },
   "source": [
    "Il dataset ha quasi tutte le colonne\n",
    "numeriche. L'unica a non esserlo è proprio la label 'Quality' , che va encodata:"
   ]
  },
  {
   "cell_type": "code",
   "execution_count": null,
   "metadata": {
    "id": "Oq6_od9RprZ5"
   },
   "outputs": [],
   "source": [
    "# codice per effettuare l'enconding della label \"Quality\""
   ]
  },
  {
   "cell_type": "code",
   "execution_count": 78,
   "metadata": {
    "id": "aOWGy4yIgv3P"
   },
   "outputs": [],
   "source": [
    "from sklearn.preprocessing import OneHotEncoder\n",
    "encoder = OneHotEncoder(sparse_output=False)\n",
    "encoded_data = encoder.fit_transform(classification_dataset[['Quality']])\n",
    "encoded_df = pd.DataFrame(encoded_data, columns=encoder.get_feature_names_out(['Quality']))\n",
    "classification_dataset = pd.concat([classification_dataset, encoded_df], axis=1)\n",
    "classification_dataset = classification_dataset.drop(columns=['Quality'])"
   ]
  },
  {
   "cell_type": "code",
   "execution_count": 80,
   "metadata": {
    "colab": {
     "base_uri": "https://localhost:8080/"
    },
    "id": "pEQ4ZWw2PBlZ",
    "outputId": "1d206da1-8b46-4b41-cfa0-1bc58ac7041a"
   },
   "outputs": [
    {
     "name": "stdout",
     "output_type": "stream",
     "text": [
      "<class 'pandas.core.frame.DataFrame'>\n",
      "Index: 4000 entries, 0 to 3999\n",
      "Data columns (total 10 columns):\n",
      " #   Column        Non-Null Count  Dtype  \n",
      "---  ------        --------------  -----  \n",
      " 0   A_id          4000 non-null   float64\n",
      " 1   Size          4000 non-null   float64\n",
      " 2   Weight        4000 non-null   float64\n",
      " 3   Sweetness     4000 non-null   float64\n",
      " 4   Crunchiness   4000 non-null   float64\n",
      " 5   Juiciness     4000 non-null   float64\n",
      " 6   Ripeness      4000 non-null   float64\n",
      " 7   Quality_bad   4000 non-null   float64\n",
      " 8   Quality_good  4000 non-null   float64\n",
      " 9   Quality_nan   4000 non-null   float64\n",
      "dtypes: float64(10)\n",
      "memory usage: 343.8 KB\n",
      "None\n"
     ]
    }
   ],
   "source": [
    "#codice per cancellare i valori NaN\n",
    "classification_dataset.dropna(inplace=True)\n",
    "print(classification_dataset.info())"
   ]
  },
  {
   "cell_type": "markdown",
   "metadata": {
    "id": "65F9aAF47EtD"
   },
   "source": [
    "Bisogna poi ri-effettuare la divisione fra porzione di addestramento e porzione di test, usando la nomenclatura vista in precedenza:"
   ]
  },
  {
   "cell_type": "code",
   "execution_count": null,
   "metadata": {
    "id": "efO-nV7h7bJt"
   },
   "outputs": [],
   "source": [
    "# codice per splittare in train/test il dataset apple_quality"
   ]
  },
  {
   "cell_type": "code",
   "execution_count": 82,
   "metadata": {
    "colab": {
     "base_uri": "https://localhost:8080/"
    },
    "id": "MVgH72b9iL3A",
    "outputId": "a1ed4cf6-8922-42b5-ff1d-7d028a35df9e"
   },
   "outputs": [
    {
     "name": "stdout",
     "output_type": "stream",
     "text": [
      "X_train: (3200, 6)\n",
      "X_test: (800, 6)\n",
      "y_train: (3200,)\n",
      "y_test: (800,)\n"
     ]
    }
   ],
   "source": [
    "from sklearn.model_selection import train_test_split\n",
    "X = classification_dataset.drop(columns=['Quality_good', 'Quality_bad', 'A_id', 'Quality_nan'])\n",
    "y = classification_dataset['Quality_good']  # Target: Quality_good\n",
    "\n",
    "X_train, X_test, y_train, y_test = train_test_split(X, y, test_size=0.2, random_state=42)\n",
    "\n",
    "print(\"X_train:\", X_train.shape)\n",
    "print(\"X_test:\", X_test.shape)\n",
    "print(\"y_train:\", y_train.shape)\n",
    "print(\"y_test:\", y_test.shape)"
   ]
  },
  {
   "cell_type": "markdown",
   "metadata": {
    "id": "Lf_nmK-mpzTJ"
   },
   "source": [
    "Ora è giunto il momento di usare la logistic regression per allenare il modello vero e proprio, che si chiamerà *logistic_regressor*"
   ]
  },
  {
   "cell_type": "code",
   "execution_count": null,
   "metadata": {
    "id": "Tg1rS8DNpyJ8"
   },
   "outputs": [],
   "source": [
    "# codice per trainare il modello usando la logistic regression"
   ]
  },
  {
   "cell_type": "code",
   "execution_count": 84,
   "metadata": {
    "colab": {
     "base_uri": "https://localhost:8080/",
     "height": 80
    },
    "id": "dloF1wlKhB_X",
    "outputId": "63c9eb52-e241-4bf6-a220-257a17daf04a"
   },
   "outputs": [
    {
     "data": {
      "text/html": [
       "<style>#sk-container-id-2 {\n",
       "  /* Definition of color scheme common for light and dark mode */\n",
       "  --sklearn-color-text: black;\n",
       "  --sklearn-color-line: gray;\n",
       "  /* Definition of color scheme for unfitted estimators */\n",
       "  --sklearn-color-unfitted-level-0: #fff5e6;\n",
       "  --sklearn-color-unfitted-level-1: #f6e4d2;\n",
       "  --sklearn-color-unfitted-level-2: #ffe0b3;\n",
       "  --sklearn-color-unfitted-level-3: chocolate;\n",
       "  /* Definition of color scheme for fitted estimators */\n",
       "  --sklearn-color-fitted-level-0: #f0f8ff;\n",
       "  --sklearn-color-fitted-level-1: #d4ebff;\n",
       "  --sklearn-color-fitted-level-2: #b3dbfd;\n",
       "  --sklearn-color-fitted-level-3: cornflowerblue;\n",
       "\n",
       "  /* Specific color for light theme */\n",
       "  --sklearn-color-text-on-default-background: var(--sg-text-color, var(--theme-code-foreground, var(--jp-content-font-color1, black)));\n",
       "  --sklearn-color-background: var(--sg-background-color, var(--theme-background, var(--jp-layout-color0, white)));\n",
       "  --sklearn-color-border-box: var(--sg-text-color, var(--theme-code-foreground, var(--jp-content-font-color1, black)));\n",
       "  --sklearn-color-icon: #696969;\n",
       "\n",
       "  @media (prefers-color-scheme: dark) {\n",
       "    /* Redefinition of color scheme for dark theme */\n",
       "    --sklearn-color-text-on-default-background: var(--sg-text-color, var(--theme-code-foreground, var(--jp-content-font-color1, white)));\n",
       "    --sklearn-color-background: var(--sg-background-color, var(--theme-background, var(--jp-layout-color0, #111)));\n",
       "    --sklearn-color-border-box: var(--sg-text-color, var(--theme-code-foreground, var(--jp-content-font-color1, white)));\n",
       "    --sklearn-color-icon: #878787;\n",
       "  }\n",
       "}\n",
       "\n",
       "#sk-container-id-2 {\n",
       "  color: var(--sklearn-color-text);\n",
       "}\n",
       "\n",
       "#sk-container-id-2 pre {\n",
       "  padding: 0;\n",
       "}\n",
       "\n",
       "#sk-container-id-2 input.sk-hidden--visually {\n",
       "  border: 0;\n",
       "  clip: rect(1px 1px 1px 1px);\n",
       "  clip: rect(1px, 1px, 1px, 1px);\n",
       "  height: 1px;\n",
       "  margin: -1px;\n",
       "  overflow: hidden;\n",
       "  padding: 0;\n",
       "  position: absolute;\n",
       "  width: 1px;\n",
       "}\n",
       "\n",
       "#sk-container-id-2 div.sk-dashed-wrapped {\n",
       "  border: 1px dashed var(--sklearn-color-line);\n",
       "  margin: 0 0.4em 0.5em 0.4em;\n",
       "  box-sizing: border-box;\n",
       "  padding-bottom: 0.4em;\n",
       "  background-color: var(--sklearn-color-background);\n",
       "}\n",
       "\n",
       "#sk-container-id-2 div.sk-container {\n",
       "  /* jupyter's `normalize.less` sets `[hidden] { display: none; }`\n",
       "     but bootstrap.min.css set `[hidden] { display: none !important; }`\n",
       "     so we also need the `!important` here to be able to override the\n",
       "     default hidden behavior on the sphinx rendered scikit-learn.org.\n",
       "     See: https://github.com/scikit-learn/scikit-learn/issues/21755 */\n",
       "  display: inline-block !important;\n",
       "  position: relative;\n",
       "}\n",
       "\n",
       "#sk-container-id-2 div.sk-text-repr-fallback {\n",
       "  display: none;\n",
       "}\n",
       "\n",
       "div.sk-parallel-item,\n",
       "div.sk-serial,\n",
       "div.sk-item {\n",
       "  /* draw centered vertical line to link estimators */\n",
       "  background-image: linear-gradient(var(--sklearn-color-text-on-default-background), var(--sklearn-color-text-on-default-background));\n",
       "  background-size: 2px 100%;\n",
       "  background-repeat: no-repeat;\n",
       "  background-position: center center;\n",
       "}\n",
       "\n",
       "/* Parallel-specific style estimator block */\n",
       "\n",
       "#sk-container-id-2 div.sk-parallel-item::after {\n",
       "  content: \"\";\n",
       "  width: 100%;\n",
       "  border-bottom: 2px solid var(--sklearn-color-text-on-default-background);\n",
       "  flex-grow: 1;\n",
       "}\n",
       "\n",
       "#sk-container-id-2 div.sk-parallel {\n",
       "  display: flex;\n",
       "  align-items: stretch;\n",
       "  justify-content: center;\n",
       "  background-color: var(--sklearn-color-background);\n",
       "  position: relative;\n",
       "}\n",
       "\n",
       "#sk-container-id-2 div.sk-parallel-item {\n",
       "  display: flex;\n",
       "  flex-direction: column;\n",
       "}\n",
       "\n",
       "#sk-container-id-2 div.sk-parallel-item:first-child::after {\n",
       "  align-self: flex-end;\n",
       "  width: 50%;\n",
       "}\n",
       "\n",
       "#sk-container-id-2 div.sk-parallel-item:last-child::after {\n",
       "  align-self: flex-start;\n",
       "  width: 50%;\n",
       "}\n",
       "\n",
       "#sk-container-id-2 div.sk-parallel-item:only-child::after {\n",
       "  width: 0;\n",
       "}\n",
       "\n",
       "/* Serial-specific style estimator block */\n",
       "\n",
       "#sk-container-id-2 div.sk-serial {\n",
       "  display: flex;\n",
       "  flex-direction: column;\n",
       "  align-items: center;\n",
       "  background-color: var(--sklearn-color-background);\n",
       "  padding-right: 1em;\n",
       "  padding-left: 1em;\n",
       "}\n",
       "\n",
       "\n",
       "/* Toggleable style: style used for estimator/Pipeline/ColumnTransformer box that is\n",
       "clickable and can be expanded/collapsed.\n",
       "- Pipeline and ColumnTransformer use this feature and define the default style\n",
       "- Estimators will overwrite some part of the style using the `sk-estimator` class\n",
       "*/\n",
       "\n",
       "/* Pipeline and ColumnTransformer style (default) */\n",
       "\n",
       "#sk-container-id-2 div.sk-toggleable {\n",
       "  /* Default theme specific background. It is overwritten whether we have a\n",
       "  specific estimator or a Pipeline/ColumnTransformer */\n",
       "  background-color: var(--sklearn-color-background);\n",
       "}\n",
       "\n",
       "/* Toggleable label */\n",
       "#sk-container-id-2 label.sk-toggleable__label {\n",
       "  cursor: pointer;\n",
       "  display: block;\n",
       "  width: 100%;\n",
       "  margin-bottom: 0;\n",
       "  padding: 0.5em;\n",
       "  box-sizing: border-box;\n",
       "  text-align: center;\n",
       "}\n",
       "\n",
       "#sk-container-id-2 label.sk-toggleable__label-arrow:before {\n",
       "  /* Arrow on the left of the label */\n",
       "  content: \"▸\";\n",
       "  float: left;\n",
       "  margin-right: 0.25em;\n",
       "  color: var(--sklearn-color-icon);\n",
       "}\n",
       "\n",
       "#sk-container-id-2 label.sk-toggleable__label-arrow:hover:before {\n",
       "  color: var(--sklearn-color-text);\n",
       "}\n",
       "\n",
       "/* Toggleable content - dropdown */\n",
       "\n",
       "#sk-container-id-2 div.sk-toggleable__content {\n",
       "  max-height: 0;\n",
       "  max-width: 0;\n",
       "  overflow: hidden;\n",
       "  text-align: left;\n",
       "  /* unfitted */\n",
       "  background-color: var(--sklearn-color-unfitted-level-0);\n",
       "}\n",
       "\n",
       "#sk-container-id-2 div.sk-toggleable__content.fitted {\n",
       "  /* fitted */\n",
       "  background-color: var(--sklearn-color-fitted-level-0);\n",
       "}\n",
       "\n",
       "#sk-container-id-2 div.sk-toggleable__content pre {\n",
       "  margin: 0.2em;\n",
       "  border-radius: 0.25em;\n",
       "  color: var(--sklearn-color-text);\n",
       "  /* unfitted */\n",
       "  background-color: var(--sklearn-color-unfitted-level-0);\n",
       "}\n",
       "\n",
       "#sk-container-id-2 div.sk-toggleable__content.fitted pre {\n",
       "  /* unfitted */\n",
       "  background-color: var(--sklearn-color-fitted-level-0);\n",
       "}\n",
       "\n",
       "#sk-container-id-2 input.sk-toggleable__control:checked~div.sk-toggleable__content {\n",
       "  /* Expand drop-down */\n",
       "  max-height: 200px;\n",
       "  max-width: 100%;\n",
       "  overflow: auto;\n",
       "}\n",
       "\n",
       "#sk-container-id-2 input.sk-toggleable__control:checked~label.sk-toggleable__label-arrow:before {\n",
       "  content: \"▾\";\n",
       "}\n",
       "\n",
       "/* Pipeline/ColumnTransformer-specific style */\n",
       "\n",
       "#sk-container-id-2 div.sk-label input.sk-toggleable__control:checked~label.sk-toggleable__label {\n",
       "  color: var(--sklearn-color-text);\n",
       "  background-color: var(--sklearn-color-unfitted-level-2);\n",
       "}\n",
       "\n",
       "#sk-container-id-2 div.sk-label.fitted input.sk-toggleable__control:checked~label.sk-toggleable__label {\n",
       "  background-color: var(--sklearn-color-fitted-level-2);\n",
       "}\n",
       "\n",
       "/* Estimator-specific style */\n",
       "\n",
       "/* Colorize estimator box */\n",
       "#sk-container-id-2 div.sk-estimator input.sk-toggleable__control:checked~label.sk-toggleable__label {\n",
       "  /* unfitted */\n",
       "  background-color: var(--sklearn-color-unfitted-level-2);\n",
       "}\n",
       "\n",
       "#sk-container-id-2 div.sk-estimator.fitted input.sk-toggleable__control:checked~label.sk-toggleable__label {\n",
       "  /* fitted */\n",
       "  background-color: var(--sklearn-color-fitted-level-2);\n",
       "}\n",
       "\n",
       "#sk-container-id-2 div.sk-label label.sk-toggleable__label,\n",
       "#sk-container-id-2 div.sk-label label {\n",
       "  /* The background is the default theme color */\n",
       "  color: var(--sklearn-color-text-on-default-background);\n",
       "}\n",
       "\n",
       "/* On hover, darken the color of the background */\n",
       "#sk-container-id-2 div.sk-label:hover label.sk-toggleable__label {\n",
       "  color: var(--sklearn-color-text);\n",
       "  background-color: var(--sklearn-color-unfitted-level-2);\n",
       "}\n",
       "\n",
       "/* Label box, darken color on hover, fitted */\n",
       "#sk-container-id-2 div.sk-label.fitted:hover label.sk-toggleable__label.fitted {\n",
       "  color: var(--sklearn-color-text);\n",
       "  background-color: var(--sklearn-color-fitted-level-2);\n",
       "}\n",
       "\n",
       "/* Estimator label */\n",
       "\n",
       "#sk-container-id-2 div.sk-label label {\n",
       "  font-family: monospace;\n",
       "  font-weight: bold;\n",
       "  display: inline-block;\n",
       "  line-height: 1.2em;\n",
       "}\n",
       "\n",
       "#sk-container-id-2 div.sk-label-container {\n",
       "  text-align: center;\n",
       "}\n",
       "\n",
       "/* Estimator-specific */\n",
       "#sk-container-id-2 div.sk-estimator {\n",
       "  font-family: monospace;\n",
       "  border: 1px dotted var(--sklearn-color-border-box);\n",
       "  border-radius: 0.25em;\n",
       "  box-sizing: border-box;\n",
       "  margin-bottom: 0.5em;\n",
       "  /* unfitted */\n",
       "  background-color: var(--sklearn-color-unfitted-level-0);\n",
       "}\n",
       "\n",
       "#sk-container-id-2 div.sk-estimator.fitted {\n",
       "  /* fitted */\n",
       "  background-color: var(--sklearn-color-fitted-level-0);\n",
       "}\n",
       "\n",
       "/* on hover */\n",
       "#sk-container-id-2 div.sk-estimator:hover {\n",
       "  /* unfitted */\n",
       "  background-color: var(--sklearn-color-unfitted-level-2);\n",
       "}\n",
       "\n",
       "#sk-container-id-2 div.sk-estimator.fitted:hover {\n",
       "  /* fitted */\n",
       "  background-color: var(--sklearn-color-fitted-level-2);\n",
       "}\n",
       "\n",
       "/* Specification for estimator info (e.g. \"i\" and \"?\") */\n",
       "\n",
       "/* Common style for \"i\" and \"?\" */\n",
       "\n",
       ".sk-estimator-doc-link,\n",
       "a:link.sk-estimator-doc-link,\n",
       "a:visited.sk-estimator-doc-link {\n",
       "  float: right;\n",
       "  font-size: smaller;\n",
       "  line-height: 1em;\n",
       "  font-family: monospace;\n",
       "  background-color: var(--sklearn-color-background);\n",
       "  border-radius: 1em;\n",
       "  height: 1em;\n",
       "  width: 1em;\n",
       "  text-decoration: none !important;\n",
       "  margin-left: 1ex;\n",
       "  /* unfitted */\n",
       "  border: var(--sklearn-color-unfitted-level-1) 1pt solid;\n",
       "  color: var(--sklearn-color-unfitted-level-1);\n",
       "}\n",
       "\n",
       ".sk-estimator-doc-link.fitted,\n",
       "a:link.sk-estimator-doc-link.fitted,\n",
       "a:visited.sk-estimator-doc-link.fitted {\n",
       "  /* fitted */\n",
       "  border: var(--sklearn-color-fitted-level-1) 1pt solid;\n",
       "  color: var(--sklearn-color-fitted-level-1);\n",
       "}\n",
       "\n",
       "/* On hover */\n",
       "div.sk-estimator:hover .sk-estimator-doc-link:hover,\n",
       ".sk-estimator-doc-link:hover,\n",
       "div.sk-label-container:hover .sk-estimator-doc-link:hover,\n",
       ".sk-estimator-doc-link:hover {\n",
       "  /* unfitted */\n",
       "  background-color: var(--sklearn-color-unfitted-level-3);\n",
       "  color: var(--sklearn-color-background);\n",
       "  text-decoration: none;\n",
       "}\n",
       "\n",
       "div.sk-estimator.fitted:hover .sk-estimator-doc-link.fitted:hover,\n",
       ".sk-estimator-doc-link.fitted:hover,\n",
       "div.sk-label-container:hover .sk-estimator-doc-link.fitted:hover,\n",
       ".sk-estimator-doc-link.fitted:hover {\n",
       "  /* fitted */\n",
       "  background-color: var(--sklearn-color-fitted-level-3);\n",
       "  color: var(--sklearn-color-background);\n",
       "  text-decoration: none;\n",
       "}\n",
       "\n",
       "/* Span, style for the box shown on hovering the info icon */\n",
       ".sk-estimator-doc-link span {\n",
       "  display: none;\n",
       "  z-index: 9999;\n",
       "  position: relative;\n",
       "  font-weight: normal;\n",
       "  right: .2ex;\n",
       "  padding: .5ex;\n",
       "  margin: .5ex;\n",
       "  width: min-content;\n",
       "  min-width: 20ex;\n",
       "  max-width: 50ex;\n",
       "  color: var(--sklearn-color-text);\n",
       "  box-shadow: 2pt 2pt 4pt #999;\n",
       "  /* unfitted */\n",
       "  background: var(--sklearn-color-unfitted-level-0);\n",
       "  border: .5pt solid var(--sklearn-color-unfitted-level-3);\n",
       "}\n",
       "\n",
       ".sk-estimator-doc-link.fitted span {\n",
       "  /* fitted */\n",
       "  background: var(--sklearn-color-fitted-level-0);\n",
       "  border: var(--sklearn-color-fitted-level-3);\n",
       "}\n",
       "\n",
       ".sk-estimator-doc-link:hover span {\n",
       "  display: block;\n",
       "}\n",
       "\n",
       "/* \"?\"-specific style due to the `<a>` HTML tag */\n",
       "\n",
       "#sk-container-id-2 a.estimator_doc_link {\n",
       "  float: right;\n",
       "  font-size: 1rem;\n",
       "  line-height: 1em;\n",
       "  font-family: monospace;\n",
       "  background-color: var(--sklearn-color-background);\n",
       "  border-radius: 1rem;\n",
       "  height: 1rem;\n",
       "  width: 1rem;\n",
       "  text-decoration: none;\n",
       "  /* unfitted */\n",
       "  color: var(--sklearn-color-unfitted-level-1);\n",
       "  border: var(--sklearn-color-unfitted-level-1) 1pt solid;\n",
       "}\n",
       "\n",
       "#sk-container-id-2 a.estimator_doc_link.fitted {\n",
       "  /* fitted */\n",
       "  border: var(--sklearn-color-fitted-level-1) 1pt solid;\n",
       "  color: var(--sklearn-color-fitted-level-1);\n",
       "}\n",
       "\n",
       "/* On hover */\n",
       "#sk-container-id-2 a.estimator_doc_link:hover {\n",
       "  /* unfitted */\n",
       "  background-color: var(--sklearn-color-unfitted-level-3);\n",
       "  color: var(--sklearn-color-background);\n",
       "  text-decoration: none;\n",
       "}\n",
       "\n",
       "#sk-container-id-2 a.estimator_doc_link.fitted:hover {\n",
       "  /* fitted */\n",
       "  background-color: var(--sklearn-color-fitted-level-3);\n",
       "}\n",
       "</style><div id=\"sk-container-id-2\" class=\"sk-top-container\"><div class=\"sk-text-repr-fallback\"><pre>LogisticRegression()</pre><b>In a Jupyter environment, please rerun this cell to show the HTML representation or trust the notebook. <br />On GitHub, the HTML representation is unable to render, please try loading this page with nbviewer.org.</b></div><div class=\"sk-container\" hidden><div class=\"sk-item\"><div class=\"sk-estimator fitted sk-toggleable\"><input class=\"sk-toggleable__control sk-hidden--visually\" id=\"sk-estimator-id-2\" type=\"checkbox\" checked><label for=\"sk-estimator-id-2\" class=\"sk-toggleable__label fitted sk-toggleable__label-arrow fitted\">&nbsp;&nbsp;LogisticRegression<a class=\"sk-estimator-doc-link fitted\" rel=\"noreferrer\" target=\"_blank\" href=\"https://scikit-learn.org/1.4/modules/generated/sklearn.linear_model.LogisticRegression.html\">?<span>Documentation for LogisticRegression</span></a><span class=\"sk-estimator-doc-link fitted\">i<span>Fitted</span></span></label><div class=\"sk-toggleable__content fitted\"><pre>LogisticRegression()</pre></div> </div></div></div></div>"
      ],
      "text/plain": [
       "LogisticRegression()"
      ]
     },
     "execution_count": 84,
     "metadata": {},
     "output_type": "execute_result"
    }
   ],
   "source": [
    "from sklearn.linear_model import LogisticRegression\n",
    "\n",
    "# Create a logistic regression model\n",
    "logistic_regressor = LogisticRegression()\n",
    "# Train the model on the training data\n",
    "logistic_regressor.fit(X_train, y_train)\n",
    "\n"
   ]
  },
  {
   "cell_type": "markdown",
   "metadata": {
    "id": "rO0Kl0O-BL8g"
   },
   "source": [
    "Una metrica che permette subito di valutare la bontà del modello è l'***F1 score***, che dovrebbe essere idealmente superiore a 0.80."
   ]
  },
  {
   "cell_type": "code",
   "execution_count": 86,
   "metadata": {
    "colab": {
     "base_uri": "https://localhost:8080/"
    },
    "id": "qZcfbwYgBJwZ",
    "outputId": "79e40e73-8d6f-4a2c-e312-7eb217482834"
   },
   "outputs": [
    {
     "name": "stdout",
     "output_type": "stream",
     "text": [
      "Classification Report:\n",
      "              precision    recall  f1-score   support\n",
      "\n",
      "         0.0       0.77      0.76      0.76       401\n",
      "         1.0       0.76      0.77      0.77       399\n",
      "\n",
      "    accuracy                           0.77       800\n",
      "   macro avg       0.77      0.77      0.76       800\n",
      "weighted avg       0.77      0.77      0.76       800\n",
      "\n"
     ]
    }
   ],
   "source": [
    "from sklearn.metrics import classification_report\n",
    "\n",
    "y_pred = logistic_regressor.predict(X_test)\n",
    "\n",
    "print(\"Classification Report:\")\n",
    "print(classification_report(y_test, y_pred))\n",
    "\n"
   ]
  },
  {
   "cell_type": "markdown",
   "metadata": {
    "id": "ZiH5fAD5AUyR"
   },
   "source": [
    "La **confusion matrix** mostra quali sono le categorie su cui il modello è \"bravo\" e su quali no, così da eventualmente avere delle informazioni in più per migliorarlo."
   ]
  },
  {
   "cell_type": "code",
   "execution_count": null,
   "metadata": {
    "id": "-w-PxoBoApkk"
   },
   "outputs": [],
   "source": [
    "# codice per la confusion matrix"
   ]
  },
  {
   "cell_type": "code",
   "execution_count": 88,
   "metadata": {
    "colab": {
     "base_uri": "https://localhost:8080/"
    },
    "id": "zSB6Puw1K7Ww",
    "outputId": "4071229f-9308-47aa-acaf-a113f95317c2"
   },
   "outputs": [
    {
     "name": "stdout",
     "output_type": "stream",
     "text": [
      "Confusion Matrix:\n",
      " [[305  96]\n",
      " [ 92 307]]\n"
     ]
    }
   ],
   "source": [
    "from sklearn.metrics import confusion_matrix\n",
    "\n",
    "# Matrice di confusione\n",
    "confusion_mat = confusion_matrix(y_test, y_pred)\n",
    "print('Confusion Matrix:\\n', confusion_mat)\n"
   ]
  },
  {
   "cell_type": "code",
   "execution_count": 56,
   "metadata": {
    "colab": {
     "base_uri": "https://localhost:8080/",
     "height": 449
    },
    "id": "h9ZKkRexOHs6",
    "outputId": "30fc9a93-8883-4e55-a7c0-beb835551a53"
   },
   "outputs": [
    {
     "data": {
      "image/png": "[encoded data removed]",
      "text/plain": [
       "<Figure size 640x480 with 2 Axes>"
      ]
     },
     "metadata": {},
     "output_type": "display_data"
    }
   ],
   "source": [
    "import seaborn as sns\n",
    "sns.heatmap(confusion_mat, annot=True, fmt='d', cmap='Blues')\n",
    "plt.xlabel('Predicted')\n",
    "plt.ylabel('True')\n",
    "plt.show()\n"
   ]
  },
  {
   "cell_type": "code",
   "execution_count": null,
   "metadata": {
    "id": "xAHls4yoWPKz"
   },
   "outputs": [],
   "source": [
    "# identificare qual è il threshold migliore da usare per la Logistic Regression"
   ]
  },
  {
   "cell_type": "code",
   "execution_count": 90,
   "metadata": {
    "colab": {
     "base_uri": "https://localhost:8080/"
    },
    "id": "YxsfXrMdWXHv",
    "outputId": "fb149fe2-4265-496b-9a9d-551f9b9f4174"
   },
   "outputs": [
    {
     "name": "stdout",
     "output_type": "stream",
     "text": [
      "Threshold ottimale: 0.4\n",
      "Punteggio F1: 0.7757847533632287\n",
      "Classification Report (Optimal Threshold):\n",
      "              precision    recall  f1-score   support\n",
      "\n",
      "         0.0       0.83      0.63      0.72       401\n",
      "         1.0       0.70      0.87      0.78       399\n",
      "\n",
      "    accuracy                           0.75       800\n",
      "   macro avg       0.76      0.75      0.75       800\n",
      "weighted avg       0.76      0.75      0.75       800\n",
      "\n"
     ]
    }
   ],
   "source": [
    "from sklearn.metrics import f1_score\n",
    "\n",
    "y_pred = logistic_regressor.predict_proba(X_test)[:, 1]\n",
    "thresholds = np.linspace(0.1, 0.9, 9)\n",
    "f1_scores = []\n",
    "\n",
    "for threshold in thresholds:\n",
    "    y_pred_threshold = (y_pred >= threshold).astype(int)\n",
    "    score = f1_score(y_test, y_pred_threshold)\n",
    "    f1_scores.append(score)\n",
    "\n",
    "optimal_threshold = thresholds[np.argmax(f1_scores)]\n",
    "print(f\"Threshold ottimale: {optimal_threshold}\")\n",
    "print(f\"Punteggio F1: {max(f1_scores)}\")\n",
    "\n",
    "# Recompute predictions using the optimal threshold\n",
    "y_pred_optimal = (y_pred >= optimal_threshold).astype(int)\n",
    "print(\"Classification Report (Optimal Threshold):\")\n",
    "print(classification_report(y_test, y_pred_optimal))"
   ]
  },
  {
   "cell_type": "code",
   "execution_count": null,
   "metadata": {
    "id": "h3dO9TJ3Xq0y"
   },
   "outputs": [],
   "source": [
    "# Ottimizzazione di alcuni iperparametri come C, solver, and max_iter"
   ]
  },
  {
   "cell_type": "code",
   "execution_count": 92,
   "metadata": {
    "colab": {
     "base_uri": "https://localhost:8080/"
    },
    "id": "WIE5BmodY-Fq",
    "outputId": "c0ed46e4-e767-40f2-ccbf-495d109664e1"
   },
   "outputs": [
    {
     "name": "stdout",
     "output_type": "stream",
     "text": [
      "Fitting 5 folds for each of 90 candidates, totalling 450 fits\n",
      "Classification Report (Optimized Logistic Regression):\n",
      "              precision    recall  f1-score   support\n",
      "\n",
      "         0.0       0.76      0.76      0.76       401\n",
      "         1.0       0.76      0.76      0.76       399\n",
      "\n",
      "    accuracy                           0.76       800\n",
      "   macro avg       0.76      0.76      0.76       800\n",
      "weighted avg       0.76      0.76      0.76       800\n",
      "\n"
     ]
    }
   ],
   "source": [
    "from sklearn.model_selection import GridSearchCV\n",
    "\n",
    "# Definisci la griglia di iperparametri da esplorare\n",
    "param_grid = {\n",
    "    'C': [0.001, 0.01, 0.1, 1, 10, 100],\n",
    "    'solver': ['newton-cg', 'lbfgs', 'liblinear', 'sag', 'saga'],\n",
    "    'max_iter': [100, 500, 1000]\n",
    "}\n",
    "\n",
    "# Crea un modello di regressione logistica\n",
    "logistic = LogisticRegression(random_state=42)\n",
    "\n",
    "# Crea un oggetto GridSearchCV\n",
    "grid_search = GridSearchCV(\n",
    "    estimator=logistic,\n",
    "    param_grid=param_grid,\n",
    "    scoring='f1',  # Metrica di valutazione (in questo caso, F1-score)\n",
    "    cv=5,          # Numero di fold per la cross-validation\n",
    "    n_jobs=-1,     # Utilizza tutti i core disponibili\n",
    "    verbose=1      # Mostra informazioni sullo stato della ricerca\n",
    ")\n",
    "\n",
    "# Esegui la ricerca sulla griglia\n",
    "grid_search.fit(X_train, y_train)\n",
    "\n",
    "# Ottieni il modello migliore\n",
    "best_logistic = grid_search.best_estimator_\n",
    "\n",
    "# Fai previsioni con il modello migliore\n",
    "y_pred_best = best_logistic.predict(X_test)\n",
    "\n",
    "# Stampa il report di classificazione\n",
    "print(\"Classification Report (Optimized Logistic Regression):\")\n",
    "print(classification_report(y_test, y_pred_best))"
   ]
  },
  {
   "cell_type": "markdown",
   "metadata": {
    "id": "fbmHipG73ATX"
   },
   "source": [
    "# Decision Tree\n",
    "\n",
    "Usando un **decision tree** si potrebbe migliorare le prestazioni del modello basato su logistic regression."
   ]
  },
  {
   "cell_type": "code",
   "execution_count": null,
   "metadata": {
    "id": "jdRvAvzVCN_k"
   },
   "outputs": [],
   "source": [
    "# training del modello con un decision tree"
   ]
  },
  {
   "cell_type": "code",
   "execution_count": 96,
   "metadata": {
    "colab": {
     "base_uri": "https://localhost:8080/"
    },
    "id": "ZnA04-QeRdXm",
    "outputId": "0594ebe2-de21-41bf-fc7e-af06a1c5cd29"
   },
   "outputs": [
    {
     "name": "stdout",
     "output_type": "stream",
     "text": [
      "              precision    recall  f1-score   support\n",
      "\n",
      "         0.0       0.79      0.80      0.80       401\n",
      "         1.0       0.80      0.79      0.79       399\n",
      "\n",
      "    accuracy                           0.80       800\n",
      "   macro avg       0.80      0.79      0.79       800\n",
      "weighted avg       0.80      0.80      0.79       800\n",
      "\n"
     ]
    }
   ],
   "source": [
    "from sklearn.tree import DecisionTreeClassifier\n",
    "decision_tree_classifier = DecisionTreeClassifier()\n",
    "# traing the model\n",
    "decision_tree_classifier.fit(X_train, y_train)\n",
    "# previsioni sul test\n",
    "y_pred = decision_tree_classifier.predict(X_test)\n",
    "print(classification_report(y_test,y_pred))"
   ]
  },
  {
   "cell_type": "code",
   "execution_count": null,
   "metadata": {
    "id": "c_I__jY6CZEk"
   },
   "outputs": [],
   "source": [
    "# confusion matrix del decision tree"
   ]
  },
  {
   "cell_type": "code",
   "execution_count": 98,
   "metadata": {
    "colab": {
     "base_uri": "https://localhost:8080/",
     "height": 501
    },
    "id": "OT8nrF3CRhzg",
    "outputId": "99505aa8-ddab-4fa2-c52c-de2dc83edfb2"
   },
   "outputs": [
    {
     "name": "stdout",
     "output_type": "stream",
     "text": [
      "Confusion Matrix:\n",
      " [[320  81]\n",
      " [ 83 316]]\n"
     ]
    },
    {
     "data": {
      "image/png": "[encoded data removed]",
      "text/plain": [
       "<Figure size 640x480 with 2 Axes>"
      ]
     },
     "metadata": {},
     "output_type": "display_data"
    }
   ],
   "source": [
    "confusion_mat = confusion_matrix(y_test, y_pred)\n",
    "print('Confusion Matrix:\\n', confusion_mat)\n",
    "\n",
    "import seaborn as sns\n",
    "sns.heatmap(confusion_mat, annot=True, fmt='d', cmap='Greens')\n",
    "plt.xlabel('Predicted')\n",
    "plt.ylabel('True')\n",
    "plt.show()"
   ]
  },
  {
   "cell_type": "markdown",
   "metadata": {
    "id": "AHnonlzh9b8-"
   },
   "source": [
    "Tramite il comando della **feature importance** si può capire quali sono le feature che sono state più importanti per il decision tree."
   ]
  },
  {
   "cell_type": "code",
   "execution_count": null,
   "metadata": {
    "id": "6EsBLEui9xXW"
   },
   "outputs": [],
   "source": [
    "# codice per la feature importance"
   ]
  },
  {
   "cell_type": "code",
   "execution_count": 100,
   "metadata": {
    "colab": {
     "base_uri": "https://localhost:8080/"
    },
    "id": "T69VnSJ8Sg2U",
    "outputId": "74ab2d98-28df-4d9f-8d74-935c744f88f7"
   },
   "outputs": [
    {
     "name": "stdout",
     "output_type": "stream",
     "text": [
      "       Feature  Importance\n",
      "5     Ripeness    0.218733\n",
      "2    Sweetness    0.180530\n",
      "0         Size    0.166217\n",
      "4    Juiciness    0.149843\n",
      "3  Crunchiness    0.145562\n",
      "1       Weight    0.139115\n"
     ]
    }
   ],
   "source": [
    "feature_importances = decision_tree_classifier.feature_importances_\n",
    "# Creazione di un DataFrame per visualizzare le feature importance\n",
    "feature_importance_df = pd.DataFrame({'Feature': X_train.columns, 'Importance': feature_importances})\n",
    "# Imposta il DataFrame per importanza\n",
    "feature_importance_df = feature_importance_df.sort_values(by='Importance', ascending=False)\n",
    "print(feature_importance_df)"
   ]
  },
  {
   "cell_type": "code",
   "execution_count": null,
   "metadata": {
    "id": "I3z-KY6MJQqb"
   },
   "outputs": [],
   "source": [
    "# usare un max_depth più alta"
   ]
  },
  {
   "cell_type": "code",
   "execution_count": 102,
   "metadata": {
    "colab": {
     "base_uri": "https://localhost:8080/"
    },
    "id": "_2Mmw4pvKGN2",
    "outputId": "02ee9c07-bd56-40a1-be5f-a6105de58049"
   },
   "outputs": [
    {
     "name": "stdout",
     "output_type": "stream",
     "text": [
      "Classification Report (Decision Tree with max_depth=10):\n",
      "              precision    recall  f1-score   support\n",
      "\n",
      "         0.0       0.79      0.80      0.79       401\n",
      "         1.0       0.79      0.78      0.79       399\n",
      "\n",
      "    accuracy                           0.79       800\n",
      "   macro avg       0.79      0.79      0.79       800\n",
      "weighted avg       0.79      0.79      0.79       800\n",
      "\n"
     ]
    }
   ],
   "source": [
    "decision_tree_classifier = DecisionTreeClassifier(max_depth=10, random_state=42)\n",
    "\n",
    "decision_tree_classifier.fit(X_train, y_train)\n",
    "\n",
    "y_pred = decision_tree_classifier.predict(X_test)\n",
    "\n",
    "print(\"Classification Report (Decision Tree with max_depth=10):\")\n",
    "print(classification_report(y_test, y_pred))"
   ]
  },
  {
   "cell_type": "code",
   "execution_count": null,
   "metadata": {
    "id": "p-NZXDKNKI1b"
   },
   "outputs": [],
   "source": [
    "# Addestrare e confrontare modelli con il criterio \"gini\" e \"entropia\""
   ]
  },
  {
   "cell_type": "code",
   "execution_count": 104,
   "metadata": {
    "colab": {
     "base_uri": "https://localhost:8080/"
    },
    "id": "Cfo7GvzwKbxd",
    "outputId": "aa35edb0-9863-471e-8306-5b670aae7d70"
   },
   "outputs": [
    {
     "name": "stdout",
     "output_type": "stream",
     "text": [
      "Classification Report (Decision Tree - Gini):\n",
      "              precision    recall  f1-score   support\n",
      "\n",
      "         0.0       0.79      0.79      0.79       401\n",
      "         1.0       0.79      0.79      0.79       399\n",
      "\n",
      "    accuracy                           0.79       800\n",
      "   macro avg       0.79      0.79      0.79       800\n",
      "weighted avg       0.79      0.79      0.79       800\n",
      "\n",
      "Classification Report (Decision Tree - Entropy):\n",
      "              precision    recall  f1-score   support\n",
      "\n",
      "         0.0       0.81      0.81      0.81       401\n",
      "         1.0       0.81      0.81      0.81       399\n",
      "\n",
      "    accuracy                           0.81       800\n",
      "   macro avg       0.81      0.81      0.81       800\n",
      "weighted avg       0.81      0.81      0.81       800\n",
      "\n"
     ]
    }
   ],
   "source": [
    "from sklearn.tree import DecisionTreeClassifier\n",
    "from sklearn.metrics import classification_report\n",
    "\n",
    "# Train and evaluate with 'gini'\n",
    "decision_tree_gini = DecisionTreeClassifier(criterion='gini', random_state=42)\n",
    "decision_tree_gini.fit(X_train, y_train)\n",
    "y_pred_gini = decision_tree_gini.predict(X_test)\n",
    "\n",
    "print(\"Classification Report (Decision Tree - Gini):\")\n",
    "print(classification_report(y_test, y_pred_gini))\n",
    "\n",
    "# Train and evaluate with 'entropy'\n",
    "decision_tree_entropy = DecisionTreeClassifier(criterion='entropy', random_state=42)\n",
    "decision_tree_entropy.fit(X_train, y_train)\n",
    "y_pred_entropy = decision_tree_entropy.predict(X_test)\n",
    "\n",
    "print(\"Classification Report (Decision Tree - Entropy):\")\n",
    "print(classification_report(y_test, y_pred_entropy))\n"
   ]
  },
  {
   "cell_type": "markdown",
   "metadata": {
    "id": "_6xDUuhYagwG"
   },
   "source": [
    "Considerato che il modello di regressione logistica, anche dopo l'ottimizzazione degli iperparametri, non raggiunge un punteggio F1 migliore del modello di Decision Tree, possiamo dedurre che il modello di Decision tree sia una scelta migliore per la classificazione."
   ]
  },
  {
   "cell_type": "markdown",
   "metadata": {
    "id": "DgwfldEG3J1a"
   },
   "source": [
    "# K-Means Clustering\n",
    "IL K-Means Clustering è il più utilizzato algoritimo tra quelli non supervisionati."
   ]
  },
  {
   "cell_type": "markdown",
   "metadata": {
    "id": "-kFtCzinuOZ7"
   },
   "source": [
    "Per prima cosa bisogna eliminare la label 'Quality' perché il K-Means Clustering è un algoritmo non supervisionato e non deve quindi averla:"
   ]
  },
  {
   "cell_type": "code",
   "execution_count": null,
   "metadata": {
    "colab": {
     "base_uri": "https://localhost:8080/"
    },
    "id": "i_IfTSwxT_ZQ",
    "outputId": "753fb309-2140-41a5-8d34-8c54275d4856"
   },
   "outputs": [
    {
     "name": "stdout",
     "output_type": "stream",
     "text": [
      "<class 'pandas.core.frame.DataFrame'>\n",
      "Index: 4000 entries, 0 to 3999\n",
      "Data columns (total 10 columns):\n",
      " #   Column        Non-Null Count  Dtype  \n",
      "---  ------        --------------  -----  \n",
      " 0   A_id          4000 non-null   float64\n",
      " 1   Size          4000 non-null   float64\n",
      " 2   Weight        4000 non-null   float64\n",
      " 3   Sweetness     4000 non-null   float64\n",
      " 4   Crunchiness   4000 non-null   float64\n",
      " 5   Juiciness     4000 non-null   float64\n",
      " 6   Ripeness      4000 non-null   float64\n",
      " 7   Quality_bad   4000 non-null   float64\n",
      " 8   Quality_good  4000 non-null   float64\n",
      " 9   Quality_nan   4000 non-null   float64\n",
      "dtypes: float64(10)\n",
      "memory usage: 343.8 KB\n",
      "None\n"
     ]
    }
   ],
   "source": [
    "print(classification_dataset.info())"
   ]
  },
  {
   "cell_type": "code",
   "execution_count": null,
   "metadata": {
    "id": "q39CslTC5PFn"
   },
   "outputs": [],
   "source": [
    "clustering_dataset = classification_dataset.drop(columns=['Quality_bad', 'Quality_good','A_id','Quality_nan'])"
   ]
  },
  {
   "cell_type": "code",
   "execution_count": null,
   "metadata": {
    "colab": {
     "base_uri": "https://localhost:8080/"
    },
    "id": "B56oBd8DUogO",
    "outputId": "8380d580-2f6b-4abc-f03a-2781a6438fbb"
   },
   "outputs": [
    {
     "name": "stdout",
     "output_type": "stream",
     "text": [
      "<class 'pandas.core.frame.DataFrame'>\n",
      "Index: 4000 entries, 0 to 3999\n",
      "Data columns (total 6 columns):\n",
      " #   Column       Non-Null Count  Dtype  \n",
      "---  ------       --------------  -----  \n",
      " 0   Size         4000 non-null   float64\n",
      " 1   Weight       4000 non-null   float64\n",
      " 2   Sweetness    4000 non-null   float64\n",
      " 3   Crunchiness  4000 non-null   float64\n",
      " 4   Juiciness    4000 non-null   float64\n",
      " 5   Ripeness     4000 non-null   float64\n",
      "dtypes: float64(6)\n",
      "memory usage: 218.8 KB\n",
      "None\n"
     ]
    }
   ],
   "source": [
    "print(clustering_dataset.info())"
   ]
  },
  {
   "cell_type": "code",
   "execution_count": null,
   "metadata": {
    "id": "u3U0WYBSuIoT"
   },
   "outputs": [],
   "source": [
    "# codice per trainare il modello con K-Means Clustering"
   ]
  },
  {
   "cell_type": "markdown",
   "metadata": {
    "id": "yjHBLjsvqIYw"
   },
   "source": [
    "Affinche K-Means funzioni in modo efficace bisogna standardizzare le feature nel clustering_dataset."
   ]
  },
  {
   "cell_type": "code",
   "execution_count": null,
   "metadata": {
    "id": "Rpbr8BfXp_o0"
   },
   "outputs": [],
   "source": [
    "from sklearn.preprocessing import StandardScaler\n",
    "\n",
    "scaler = StandardScaler()\n",
    "X_scaled = scaler.fit_transform(clustering_dataset)"
   ]
  },
  {
   "cell_type": "markdown",
   "metadata": {
    "id": "b6m_EPedqJcn"
   },
   "source": [
    "Provando a settare il modello dapprima con un numero di cluster pari a 2, questo non predice in modo corretto la qualità della mela. Il modello, invece, funziona correttamente settando un numero di cluster pari a 3, facendo così scoprire che in realtà ci sono anche delle mele di qualità intermedia."
   ]
  },
  {
   "cell_type": "code",
   "execution_count": null,
   "metadata": {
    "colab": {
     "base_uri": "https://localhost:8080/",
     "height": 80
    },
    "id": "c01atcyiqEpe",
    "outputId": "bb7f791f-d7a5-41f7-bd04-432628861780"
   },
   "outputs": [
    {
     "data": {
      "text/html": [
       "<style>#sk-container-id-13 {\n",
       "  /* Definition of color scheme common for light and dark mode */\n",
       "  --sklearn-color-text: #000;\n",
       "  --sklearn-color-text-muted: #666;\n",
       "  --sklearn-color-line: gray;\n",
       "  /* Definition of color scheme for unfitted estimators */\n",
       "  --sklearn-color-unfitted-level-0: #fff5e6;\n",
       "  --sklearn-color-unfitted-level-1: #f6e4d2;\n",
       "  --sklearn-color-unfitted-level-2: #ffe0b3;\n",
       "  --sklearn-color-unfitted-level-3: chocolate;\n",
       "  /* Definition of color scheme for fitted estimators */\n",
       "  --sklearn-color-fitted-level-0: #f0f8ff;\n",
       "  --sklearn-color-fitted-level-1: #d4ebff;\n",
       "  --sklearn-color-fitted-level-2: #b3dbfd;\n",
       "  --sklearn-color-fitted-level-3: cornflowerblue;\n",
       "\n",
       "  /* Specific color for light theme */\n",
       "  --sklearn-color-text-on-default-background: var(--sg-text-color, var(--theme-code-foreground, var(--jp-content-font-color1, black)));\n",
       "  --sklearn-color-background: var(--sg-background-color, var(--theme-background, var(--jp-layout-color0, white)));\n",
       "  --sklearn-color-border-box: var(--sg-text-color, var(--theme-code-foreground, var(--jp-content-font-color1, black)));\n",
       "  --sklearn-color-icon: #696969;\n",
       "\n",
       "  @media (prefers-color-scheme: dark) {\n",
       "    /* Redefinition of color scheme for dark theme */\n",
       "    --sklearn-color-text-on-default-background: var(--sg-text-color, var(--theme-code-foreground, var(--jp-content-font-color1, white)));\n",
       "    --sklearn-color-background: var(--sg-background-color, var(--theme-background, var(--jp-layout-color0, #111)));\n",
       "    --sklearn-color-border-box: var(--sg-text-color, var(--theme-code-foreground, var(--jp-content-font-color1, white)));\n",
       "    --sklearn-color-icon: #878787;\n",
       "  }\n",
       "}\n",
       "\n",
       "#sk-container-id-13 {\n",
       "  color: var(--sklearn-color-text);\n",
       "}\n",
       "\n",
       "#sk-container-id-13 pre {\n",
       "  padding: 0;\n",
       "}\n",
       "\n",
       "#sk-container-id-13 input.sk-hidden--visually {\n",
       "  border: 0;\n",
       "  clip: rect(1px 1px 1px 1px);\n",
       "  clip: rect(1px, 1px, 1px, 1px);\n",
       "  height: 1px;\n",
       "  margin: -1px;\n",
       "  overflow: hidden;\n",
       "  padding: 0;\n",
       "  position: absolute;\n",
       "  width: 1px;\n",
       "}\n",
       "\n",
       "#sk-container-id-13 div.sk-dashed-wrapped {\n",
       "  border: 1px dashed var(--sklearn-color-line);\n",
       "  margin: 0 0.4em 0.5em 0.4em;\n",
       "  box-sizing: border-box;\n",
       "  padding-bottom: 0.4em;\n",
       "  background-color: var(--sklearn-color-background);\n",
       "}\n",
       "\n",
       "#sk-container-id-13 div.sk-container {\n",
       "  /* jupyter's `normalize.less` sets `[hidden] { display: none; }`\n",
       "     but bootstrap.min.css set `[hidden] { display: none !important; }`\n",
       "     so we also need the `!important` here to be able to override the\n",
       "     default hidden behavior on the sphinx rendered scikit-learn.org.\n",
       "     See: https://github.com/scikit-learn/scikit-learn/issues/21755 */\n",
       "  display: inline-block !important;\n",
       "  position: relative;\n",
       "}\n",
       "\n",
       "#sk-container-id-13 div.sk-text-repr-fallback {\n",
       "  display: none;\n",
       "}\n",
       "\n",
       "div.sk-parallel-item,\n",
       "div.sk-serial,\n",
       "div.sk-item {\n",
       "  /* draw centered vertical line to link estimators */\n",
       "  background-image: linear-gradient(var(--sklearn-color-text-on-default-background), var(--sklearn-color-text-on-default-background));\n",
       "  background-size: 2px 100%;\n",
       "  background-repeat: no-repeat;\n",
       "  background-position: center center;\n",
       "}\n",
       "\n",
       "/* Parallel-specific style estimator block */\n",
       "\n",
       "#sk-container-id-13 div.sk-parallel-item::after {\n",
       "  content: \"\";\n",
       "  width: 100%;\n",
       "  border-bottom: 2px solid var(--sklearn-color-text-on-default-background);\n",
       "  flex-grow: 1;\n",
       "}\n",
       "\n",
       "#sk-container-id-13 div.sk-parallel {\n",
       "  display: flex;\n",
       "  align-items: stretch;\n",
       "  justify-content: center;\n",
       "  background-color: var(--sklearn-color-background);\n",
       "  position: relative;\n",
       "}\n",
       "\n",
       "#sk-container-id-13 div.sk-parallel-item {\n",
       "  display: flex;\n",
       "  flex-direction: column;\n",
       "}\n",
       "\n",
       "#sk-container-id-13 div.sk-parallel-item:first-child::after {\n",
       "  align-self: flex-end;\n",
       "  width: 50%;\n",
       "}\n",
       "\n",
       "#sk-container-id-13 div.sk-parallel-item:last-child::after {\n",
       "  align-self: flex-start;\n",
       "  width: 50%;\n",
       "}\n",
       "\n",
       "#sk-container-id-13 div.sk-parallel-item:only-child::after {\n",
       "  width: 0;\n",
       "}\n",
       "\n",
       "/* Serial-specific style estimator block */\n",
       "\n",
       "#sk-container-id-13 div.sk-serial {\n",
       "  display: flex;\n",
       "  flex-direction: column;\n",
       "  align-items: center;\n",
       "  background-color: var(--sklearn-color-background);\n",
       "  padding-right: 1em;\n",
       "  padding-left: 1em;\n",
       "}\n",
       "\n",
       "\n",
       "/* Toggleable style: style used for estimator/Pipeline/ColumnTransformer box that is\n",
       "clickable and can be expanded/collapsed.\n",
       "- Pipeline and ColumnTransformer use this feature and define the default style\n",
       "- Estimators will overwrite some part of the style using the `sk-estimator` class\n",
       "*/\n",
       "\n",
       "/* Pipeline and ColumnTransformer style (default) */\n",
       "\n",
       "#sk-container-id-13 div.sk-toggleable {\n",
       "  /* Default theme specific background. It is overwritten whether we have a\n",
       "  specific estimator or a Pipeline/ColumnTransformer */\n",
       "  background-color: var(--sklearn-color-background);\n",
       "}\n",
       "\n",
       "/* Toggleable label */\n",
       "#sk-container-id-13 label.sk-toggleable__label {\n",
       "  cursor: pointer;\n",
       "  display: flex;\n",
       "  width: 100%;\n",
       "  margin-bottom: 0;\n",
       "  padding: 0.5em;\n",
       "  box-sizing: border-box;\n",
       "  text-align: center;\n",
       "  align-items: start;\n",
       "  justify-content: space-between;\n",
       "  gap: 0.5em;\n",
       "}\n",
       "\n",
       "#sk-container-id-13 label.sk-toggleable__label .caption {\n",
       "  font-size: 0.6rem;\n",
       "  font-weight: lighter;\n",
       "  color: var(--sklearn-color-text-muted);\n",
       "}\n",
       "\n",
       "#sk-container-id-13 label.sk-toggleable__label-arrow:before {\n",
       "  /* Arrow on the left of the label */\n",
       "  content: \"▸\";\n",
       "  float: left;\n",
       "  margin-right: 0.25em;\n",
       "  color: var(--sklearn-color-icon);\n",
       "}\n",
       "\n",
       "#sk-container-id-13 label.sk-toggleable__label-arrow:hover:before {\n",
       "  color: var(--sklearn-color-text);\n",
       "}\n",
       "\n",
       "/* Toggleable content - dropdown */\n",
       "\n",
       "#sk-container-id-13 div.sk-toggleable__content {\n",
       "  max-height: 0;\n",
       "  max-width: 0;\n",
       "  overflow: hidden;\n",
       "  text-align: left;\n",
       "  /* unfitted */\n",
       "  background-color: var(--sklearn-color-unfitted-level-0);\n",
       "}\n",
       "\n",
       "#sk-container-id-13 div.sk-toggleable__content.fitted {\n",
       "  /* fitted */\n",
       "  background-color: var(--sklearn-color-fitted-level-0);\n",
       "}\n",
       "\n",
       "#sk-container-id-13 div.sk-toggleable__content pre {\n",
       "  margin: 0.2em;\n",
       "  border-radius: 0.25em;\n",
       "  color: var(--sklearn-color-text);\n",
       "  /* unfitted */\n",
       "  background-color: var(--sklearn-color-unfitted-level-0);\n",
       "}\n",
       "\n",
       "#sk-container-id-13 div.sk-toggleable__content.fitted pre {\n",
       "  /* unfitted */\n",
       "  background-color: var(--sklearn-color-fitted-level-0);\n",
       "}\n",
       "\n",
       "#sk-container-id-13 input.sk-toggleable__control:checked~div.sk-toggleable__content {\n",
       "  /* Expand drop-down */\n",
       "  max-height: 200px;\n",
       "  max-width: 100%;\n",
       "  overflow: auto;\n",
       "}\n",
       "\n",
       "#sk-container-id-13 input.sk-toggleable__control:checked~label.sk-toggleable__label-arrow:before {\n",
       "  content: \"▾\";\n",
       "}\n",
       "\n",
       "/* Pipeline/ColumnTransformer-specific style */\n",
       "\n",
       "#sk-container-id-13 div.sk-label input.sk-toggleable__control:checked~label.sk-toggleable__label {\n",
       "  color: var(--sklearn-color-text);\n",
       "  background-color: var(--sklearn-color-unfitted-level-2);\n",
       "}\n",
       "\n",
       "#sk-container-id-13 div.sk-label.fitted input.sk-toggleable__control:checked~label.sk-toggleable__label {\n",
       "  background-color: var(--sklearn-color-fitted-level-2);\n",
       "}\n",
       "\n",
       "/* Estimator-specific style */\n",
       "\n",
       "/* Colorize estimator box */\n",
       "#sk-container-id-13 div.sk-estimator input.sk-toggleable__control:checked~label.sk-toggleable__label {\n",
       "  /* unfitted */\n",
       "  background-color: var(--sklearn-color-unfitted-level-2);\n",
       "}\n",
       "\n",
       "#sk-container-id-13 div.sk-estimator.fitted input.sk-toggleable__control:checked~label.sk-toggleable__label {\n",
       "  /* fitted */\n",
       "  background-color: var(--sklearn-color-fitted-level-2);\n",
       "}\n",
       "\n",
       "#sk-container-id-13 div.sk-label label.sk-toggleable__label,\n",
       "#sk-container-id-13 div.sk-label label {\n",
       "  /* The background is the default theme color */\n",
       "  color: var(--sklearn-color-text-on-default-background);\n",
       "}\n",
       "\n",
       "/* On hover, darken the color of the background */\n",
       "#sk-container-id-13 div.sk-label:hover label.sk-toggleable__label {\n",
       "  color: var(--sklearn-color-text);\n",
       "  background-color: var(--sklearn-color-unfitted-level-2);\n",
       "}\n",
       "\n",
       "/* Label box, darken color on hover, fitted */\n",
       "#sk-container-id-13 div.sk-label.fitted:hover label.sk-toggleable__label.fitted {\n",
       "  color: var(--sklearn-color-text);\n",
       "  background-color: var(--sklearn-color-fitted-level-2);\n",
       "}\n",
       "\n",
       "/* Estimator label */\n",
       "\n",
       "#sk-container-id-13 div.sk-label label {\n",
       "  font-family: monospace;\n",
       "  font-weight: bold;\n",
       "  display: inline-block;\n",
       "  line-height: 1.2em;\n",
       "}\n",
       "\n",
       "#sk-container-id-13 div.sk-label-container {\n",
       "  text-align: center;\n",
       "}\n",
       "\n",
       "/* Estimator-specific */\n",
       "#sk-container-id-13 div.sk-estimator {\n",
       "  font-family: monospace;\n",
       "  border: 1px dotted var(--sklearn-color-border-box);\n",
       "  border-radius: 0.25em;\n",
       "  box-sizing: border-box;\n",
       "  margin-bottom: 0.5em;\n",
       "  /* unfitted */\n",
       "  background-color: var(--sklearn-color-unfitted-level-0);\n",
       "}\n",
       "\n",
       "#sk-container-id-13 div.sk-estimator.fitted {\n",
       "  /* fitted */\n",
       "  background-color: var(--sklearn-color-fitted-level-0);\n",
       "}\n",
       "\n",
       "/* on hover */\n",
       "#sk-container-id-13 div.sk-estimator:hover {\n",
       "  /* unfitted */\n",
       "  background-color: var(--sklearn-color-unfitted-level-2);\n",
       "}\n",
       "\n",
       "#sk-container-id-13 div.sk-estimator.fitted:hover {\n",
       "  /* fitted */\n",
       "  background-color: var(--sklearn-color-fitted-level-2);\n",
       "}\n",
       "\n",
       "/* Specification for estimator info (e.g. \"i\" and \"?\") */\n",
       "\n",
       "/* Common style for \"i\" and \"?\" */\n",
       "\n",
       ".sk-estimator-doc-link,\n",
       "a:link.sk-estimator-doc-link,\n",
       "a:visited.sk-estimator-doc-link {\n",
       "  float: right;\n",
       "  font-size: smaller;\n",
       "  line-height: 1em;\n",
       "  font-family: monospace;\n",
       "  background-color: var(--sklearn-color-background);\n",
       "  border-radius: 1em;\n",
       "  height: 1em;\n",
       "  width: 1em;\n",
       "  text-decoration: none !important;\n",
       "  margin-left: 0.5em;\n",
       "  text-align: center;\n",
       "  /* unfitted */\n",
       "  border: var(--sklearn-color-unfitted-level-1) 1pt solid;\n",
       "  color: var(--sklearn-color-unfitted-level-1);\n",
       "}\n",
       "\n",
       ".sk-estimator-doc-link.fitted,\n",
       "a:link.sk-estimator-doc-link.fitted,\n",
       "a:visited.sk-estimator-doc-link.fitted {\n",
       "  /* fitted */\n",
       "  border: var(--sklearn-color-fitted-level-1) 1pt solid;\n",
       "  color: var(--sklearn-color-fitted-level-1);\n",
       "}\n",
       "\n",
       "/* On hover */\n",
       "div.sk-estimator:hover .sk-estimator-doc-link:hover,\n",
       ".sk-estimator-doc-link:hover,\n",
       "div.sk-label-container:hover .sk-estimator-doc-link:hover,\n",
       ".sk-estimator-doc-link:hover {\n",
       "  /* unfitted */\n",
       "  background-color: var(--sklearn-color-unfitted-level-3);\n",
       "  color: var(--sklearn-color-background);\n",
       "  text-decoration: none;\n",
       "}\n",
       "\n",
       "div.sk-estimator.fitted:hover .sk-estimator-doc-link.fitted:hover,\n",
       ".sk-estimator-doc-link.fitted:hover,\n",
       "div.sk-label-container:hover .sk-estimator-doc-link.fitted:hover,\n",
       ".sk-estimator-doc-link.fitted:hover {\n",
       "  /* fitted */\n",
       "  background-color: var(--sklearn-color-fitted-level-3);\n",
       "  color: var(--sklearn-color-background);\n",
       "  text-decoration: none;\n",
       "}\n",
       "\n",
       "/* Span, style for the box shown on hovering the info icon */\n",
       ".sk-estimator-doc-link span {\n",
       "  display: none;\n",
       "  z-index: 9999;\n",
       "  position: relative;\n",
       "  font-weight: normal;\n",
       "  right: .2ex;\n",
       "  padding: .5ex;\n",
       "  margin: .5ex;\n",
       "  width: min-content;\n",
       "  min-width: 20ex;\n",
       "  max-width: 50ex;\n",
       "  color: var(--sklearn-color-text);\n",
       "  box-shadow: 2pt 2pt 4pt #999;\n",
       "  /* unfitted */\n",
       "  background: var(--sklearn-color-unfitted-level-0);\n",
       "  border: .5pt solid var(--sklearn-color-unfitted-level-3);\n",
       "}\n",
       "\n",
       ".sk-estimator-doc-link.fitted span {\n",
       "  /* fitted */\n",
       "  background: var(--sklearn-color-fitted-level-0);\n",
       "  border: var(--sklearn-color-fitted-level-3);\n",
       "}\n",
       "\n",
       ".sk-estimator-doc-link:hover span {\n",
       "  display: block;\n",
       "}\n",
       "\n",
       "/* \"?\"-specific style due to the `<a>` HTML tag */\n",
       "\n",
       "#sk-container-id-13 a.estimator_doc_link {\n",
       "  float: right;\n",
       "  font-size: 1rem;\n",
       "  line-height: 1em;\n",
       "  font-family: monospace;\n",
       "  background-color: var(--sklearn-color-background);\n",
       "  border-radius: 1rem;\n",
       "  height: 1rem;\n",
       "  width: 1rem;\n",
       "  text-decoration: none;\n",
       "  /* unfitted */\n",
       "  color: var(--sklearn-color-unfitted-level-1);\n",
       "  border: var(--sklearn-color-unfitted-level-1) 1pt solid;\n",
       "}\n",
       "\n",
       "#sk-container-id-13 a.estimator_doc_link.fitted {\n",
       "  /* fitted */\n",
       "  border: var(--sklearn-color-fitted-level-1) 1pt solid;\n",
       "  color: var(--sklearn-color-fitted-level-1);\n",
       "}\n",
       "\n",
       "/* On hover */\n",
       "#sk-container-id-13 a.estimator_doc_link:hover {\n",
       "  /* unfitted */\n",
       "  background-color: var(--sklearn-color-unfitted-level-3);\n",
       "  color: var(--sklearn-color-background);\n",
       "  text-decoration: none;\n",
       "}\n",
       "\n",
       "#sk-container-id-13 a.estimator_doc_link.fitted:hover {\n",
       "  /* fitted */\n",
       "  background-color: var(--sklearn-color-fitted-level-3);\n",
       "}\n",
       "</style><div id=\"sk-container-id-13\" class=\"sk-top-container\"><div class=\"sk-text-repr-fallback\"><pre>KMeans(n_clusters=3, random_state=42)</pre><b>In a Jupyter environment, please rerun this cell to show the HTML representation or trust the notebook. <br />On GitHub, the HTML representation is unable to render, please try loading this page with nbviewer.org.</b></div><div class=\"sk-container\" hidden><div class=\"sk-item\"><div class=\"sk-estimator fitted sk-toggleable\"><input class=\"sk-toggleable__control sk-hidden--visually\" id=\"sk-estimator-id-13\" type=\"checkbox\" checked><label for=\"sk-estimator-id-13\" class=\"sk-toggleable__label fitted sk-toggleable__label-arrow\"><div><div>KMeans</div></div><div><a class=\"sk-estimator-doc-link fitted\" rel=\"noreferrer\" target=\"_blank\" href=\"https://scikit-learn.org/1.6/modules/generated/sklearn.cluster.KMeans.html\">?<span>Documentation for KMeans</span></a><span class=\"sk-estimator-doc-link fitted\">i<span>Fitted</span></span></div></label><div class=\"sk-toggleable__content fitted\"><pre>KMeans(n_clusters=3, random_state=42)</pre></div> </div></div></div></div>"
      ],
      "text/plain": [
       "KMeans(n_clusters=3, random_state=42)"
      ]
     },
     "execution_count": 154,
     "metadata": {},
     "output_type": "execute_result"
    }
   ],
   "source": [
    "from sklearn.cluster import KMeans\n",
    "\n",
    "kmeans = KMeans(n_clusters=3, random_state=42)\n",
    "kmeans.fit(X_scaled)"
   ]
  },
  {
   "cell_type": "markdown",
   "metadata": {
    "id": "iCEMSjZrhPQJ"
   },
   "source": [
    "Effettuo quindi una predizione per vedere a che qualità corrisponde la mela data in input al modello."
   ]
  },
  {
   "cell_type": "code",
   "execution_count": null,
   "metadata": {
    "id": "lpz8e7VTqSzL"
   },
   "outputs": [],
   "source": [
    "# Impostazione valori per ciascuna feature della mela\n",
    "Size = -0.292024\n",
    "Weight = -1.351282\n",
    "Sweetness = -1.738429\n",
    "Crunchiness = -0.342616\n",
    "Juiciness = 2.838636\n",
    "Ripeness = -0.038033\n",
    "\n",
    "\n",
    "# Creazione di un DataFrame per le feature della nuova mela\n",
    "new_apple_features = pd.DataFrame(\n",
    "    [[Size, Weight, Sweetness, Crunchiness, Juiciness, Ripeness]],\n",
    "    columns=clustering_dataset.columns)\n",
    "\n",
    "new_apple_features_scaled = scaler.transform(new_apple_features)\n",
    "predicted_cluster = kmeans.predict(new_apple_features_scaled)[0]"
   ]
  },
  {
   "cell_type": "code",
   "execution_count": null,
   "metadata": {
    "colab": {
     "base_uri": "https://localhost:8080/"
    },
    "id": "pNgY61vxq-bP",
    "outputId": "e252d0ed-4ab4-4707-864c-314a5241868f"
   },
   "outputs": [
    {
     "name": "stdout",
     "output_type": "stream",
     "text": [
      "La qualità prevista della mela è: Qualità non buona\n",
      "Cluster assegnato alla mela: 0\n"
     ]
    }
   ],
   "source": [
    "quality_mapping = {0: 'Qualità non buona', 1: 'Qualità buona', 2: 'Qualità media'}\n",
    "predicted_quality = quality_mapping[predicted_cluster]\n",
    "print(f\"La qualità prevista della mela è: {predicted_quality}\")\n",
    "print(f\"Cluster assegnato alla mela: {predicted_cluster}\")"
   ]
  },
  {
   "cell_type": "markdown",
   "metadata": {
    "id": "qYebyMdPlDtB"
   },
   "source": [
    "Dopo aver addestrato il modello, esaminiamo le caratteristiche medie delle mele in ciascun cluster.\n",
    "Il cluster con i valori medi più alti identifica una tipologia di mela migliore come qualità."
   ]
  },
  {
   "cell_type": "code",
   "execution_count": null,
   "metadata": {
    "colab": {
     "base_uri": "https://localhost:8080/"
    },
    "id": "pf4E9KOEk5wc",
    "outputId": "552e2e79-7f99-4fed-bdf9-89b79ad6479e"
   },
   "outputs": [
    {
     "name": "stdout",
     "output_type": "stream",
     "text": [
      "Cluster 0:\n",
      "Size          -0.518401\n",
      "Weight        -1.008377\n",
      "Sweetness     -1.921323\n",
      "Crunchiness    0.247877\n",
      "Juiciness      0.519904\n",
      "Ripeness       2.138901\n",
      "dtype: float64\n",
      "Cluster 1:\n",
      "Size          -1.580861\n",
      "Weight        -0.730633\n",
      "Sweetness      1.097829\n",
      "Crunchiness    0.492247\n",
      "Juiciness      1.484287\n",
      "Ripeness      -0.294598\n",
      "dtype: float64\n",
      "Cluster 2:\n",
      "Size           0.631822\n",
      "Weight        -1.241601\n",
      "Sweetness     -0.777860\n",
      "Crunchiness    2.171189\n",
      "Juiciness     -0.505896\n",
      "Ripeness      -0.173788\n",
      "dtype: float64\n"
     ]
    }
   ],
   "source": [
    "for i in range(kmeans.n_clusters):\n",
    "       print(f\"Cluster {i}:\")\n",
    "       print(clustering_dataset[kmeans.labels_ == i].mean())"
   ]
  },
  {
   "cell_type": "markdown",
   "metadata": {
    "id": "z4IsvRNbmLCy"
   },
   "source": [
    " Il Cluster 1 sembra avere i valori medi più alti per la maggior parte delle feature desiderabili, come dolcezza, croccantezza e succosità.\n",
    "\n",
    "Pertanto, in base a questa analisi, il Cluster 1 potrebbe rappresentare in media le mele di qualità migliore."
   ]
  },
  {
   "cell_type": "markdown",
   "metadata": {
    "id": "KispV84h3NUh"
   },
   "source": [
    "# Time Series\n",
    "\n",
    "In questo scenario vogliamo provare a **capire come i gross income evolvono nel tempo**, quindi partendo dal dataset originale, ovvero *regression_raw_dataset* ed eliminando tutte le colonne, tenendo solo \"Date\" e \"gross income\". Il nuovo dataset si chiamerà *timeseries_dataset*."
   ]
  },
  {
   "cell_type": "code",
   "execution_count": null,
   "metadata": {
    "id": "XnCGs8AGwi7v"
   },
   "outputs": [],
   "source": [
    "# codice per costruire un nuovo dataset, partendo da regression_raw_dataset, con solo le colonne \"Date\" e \"gross income\""
   ]
  },
  {
   "cell_type": "code",
   "execution_count": null,
   "metadata": {
    "colab": {
     "base_uri": "https://localhost:8080/"
    },
    "id": "YfYC2D9mZBtX",
    "outputId": "19b2389b-61ba-421a-8ed0-06d2a149698f"
   },
   "outputs": [
    {
     "name": "stdout",
     "output_type": "stream",
     "text": [
      "<class 'pandas.core.frame.DataFrame'>\n",
      "RangeIndex: 1000 entries, 0 to 999\n",
      "Data columns (total 17 columns):\n",
      " #   Column                   Non-Null Count  Dtype  \n",
      "---  ------                   --------------  -----  \n",
      " 0   Invoice ID               1000 non-null   object \n",
      " 1   Branch                   1000 non-null   object \n",
      " 2   City                     1000 non-null   object \n",
      " 3   Customer type            1000 non-null   object \n",
      " 4   Gender                   1000 non-null   object \n",
      " 5   Product line             1000 non-null   object \n",
      " 6   Unit price               1000 non-null   float64\n",
      " 7   Quantity                 1000 non-null   int64  \n",
      " 8   Tax 5%                   1000 non-null   float64\n",
      " 9   Total                    1000 non-null   float64\n",
      " 10  Date                     1000 non-null   object \n",
      " 11  Time                     1000 non-null   object \n",
      " 12  Payment                  1000 non-null   object \n",
      " 13  cogs                     1000 non-null   float64\n",
      " 14  gross margin percentage  1000 non-null   float64\n",
      " 15  gross income             1000 non-null   float64\n",
      " 16  Rating                   1000 non-null   float64\n",
      "dtypes: float64(7), int64(1), object(9)\n",
      "memory usage: 132.9+ KB\n",
      "None\n"
     ]
    }
   ],
   "source": [
    "print(regression_raw_dataset.info())"
   ]
  },
  {
   "cell_type": "code",
   "execution_count": null,
   "metadata": {
    "id": "dZXxFfNtYhB-"
   },
   "outputs": [],
   "source": [
    "timeseries_dataset = regression_raw_dataset.drop(columns=['Invoice ID', 'Branch', 'City', 'Customer type', 'Gender', 'Product line', 'Unit price', 'Quantity', 'Tax 5%', 'Total', 'Time', 'Payment', 'cogs', 'gross margin percentage','Rating'])"
   ]
  },
  {
   "cell_type": "code",
   "execution_count": null,
   "metadata": {
    "colab": {
     "base_uri": "https://localhost:8080/",
     "height": 423
    },
    "id": "lCXDtizW3wzR",
    "outputId": "42ee8176-6914-4db1-ce13-a1048a3012fe"
   },
   "outputs": [
    {
     "data": {
      "application/vnd.google.colaboratory.intrinsic+json": {
       "summary": "{\n  \"name\": \"timeseries_dataset\",\n  \"rows\": 1000,\n  \"fields\": [\n    {\n      \"column\": \"Date\",\n      \"properties\": {\n        \"dtype\": \"object\",\n        \"num_unique_values\": 89,\n        \"samples\": [\n          \"2/14/2019\",\n          \"1/26/2019\",\n          \"2/2/2019\"\n        ],\n        \"semantic_type\": \"\",\n        \"description\": \"\"\n      }\n    },\n    {\n      \"column\": \"gross income\",\n      \"properties\": {\n        \"dtype\": \"number\",\n        \"std\": 11.708825480998659,\n        \"min\": 0.5085,\n        \"max\": 49.65,\n        \"num_unique_values\": 990,\n        \"samples\": [\n          0.914,\n          2.348,\n          4.4225\n        ],\n        \"semantic_type\": \"\",\n        \"description\": \"\"\n      }\n    }\n  ]\n}",
       "type": "dataframe",
       "variable_name": "timeseries_dataset"
      },
      "text/html": [
       "\n",
       "  <div id=\"df-b33a8a31-5194-4547-b64a-92f7856c4f0b\" class=\"colab-df-container\">\n",
       "    <div>\n",
       "<style scoped>\n",
       "    .dataframe tbody tr th:only-of-type {\n",
       "        vertical-align: middle;\n",
       "    }\n",
       "\n",
       "    .dataframe tbody tr th {\n",
       "        vertical-align: top;\n",
       "    }\n",
       "\n",
       "    .dataframe thead th {\n",
       "        text-align: right;\n",
       "    }\n",
       "</style>\n",
       "<table border=\"1\" class=\"dataframe\">\n",
       "  <thead>\n",
       "    <tr style=\"text-align: right;\">\n",
       "      <th></th>\n",
       "      <th>Date</th>\n",
       "      <th>gross income</th>\n",
       "    </tr>\n",
       "  </thead>\n",
       "  <tbody>\n",
       "    <tr>\n",
       "      <th>0</th>\n",
       "      <td>1/5/2019</td>\n",
       "      <td>26.1415</td>\n",
       "    </tr>\n",
       "    <tr>\n",
       "      <th>1</th>\n",
       "      <td>3/8/2019</td>\n",
       "      <td>3.8200</td>\n",
       "    </tr>\n",
       "    <tr>\n",
       "      <th>2</th>\n",
       "      <td>3/3/2019</td>\n",
       "      <td>16.2155</td>\n",
       "    </tr>\n",
       "    <tr>\n",
       "      <th>3</th>\n",
       "      <td>1/27/2019</td>\n",
       "      <td>23.2880</td>\n",
       "    </tr>\n",
       "    <tr>\n",
       "      <th>4</th>\n",
       "      <td>2/8/2019</td>\n",
       "      <td>30.2085</td>\n",
       "    </tr>\n",
       "    <tr>\n",
       "      <th>...</th>\n",
       "      <td>...</td>\n",
       "      <td>...</td>\n",
       "    </tr>\n",
       "    <tr>\n",
       "      <th>95</th>\n",
       "      <td>3/8/2019</td>\n",
       "      <td>4.8580</td>\n",
       "    </tr>\n",
       "    <tr>\n",
       "      <th>96</th>\n",
       "      <td>3/29/2019</td>\n",
       "      <td>43.9350</td>\n",
       "    </tr>\n",
       "    <tr>\n",
       "      <th>97</th>\n",
       "      <td>2/9/2019</td>\n",
       "      <td>3.7350</td>\n",
       "    </tr>\n",
       "    <tr>\n",
       "      <th>98</th>\n",
       "      <td>3/23/2019</td>\n",
       "      <td>7.9125</td>\n",
       "    </tr>\n",
       "    <tr>\n",
       "      <th>99</th>\n",
       "      <td>3/5/2019</td>\n",
       "      <td>24.8100</td>\n",
       "    </tr>\n",
       "  </tbody>\n",
       "</table>\n",
       "<p>100 rows × 2 columns</p>\n",
       "</div>\n",
       "    <div class=\"colab-df-buttons\">\n",
       "\n",
       "  <div class=\"colab-df-container\">\n",
       "    <button class=\"colab-df-convert\" onclick=\"convertToInteractive('df-b33a8a31-5194-4547-b64a-92f7856c4f0b')\"\n",
       "            title=\"Convert this dataframe to an interactive table.\"\n",
       "            style=\"display:none;\">\n",
       "\n",
       "  <svg xmlns=\"http://www.w3.org/2000/svg\" height=\"24px\" viewBox=\"0 -960 960 960\">\n",
       "    <path d=\"M120-120v-720h720v720H120Zm60-500h600v-160H180v160Zm220 220h160v-160H400v160Zm0 220h160v-160H400v160ZM180-400h160v-160H180v160Zm440 0h160v-160H620v160ZM180-180h160v-160H180v160Zm440 0h160v-160H620v160Z\"/>\n",
       "  </svg>\n",
       "    </button>\n",
       "\n",
       "  <style>\n",
       "    .colab-df-container {\n",
       "      display:flex;\n",
       "      gap: 12px;\n",
       "    }\n",
       "\n",
       "    .colab-df-convert {\n",
       "      background-color: #E8F0FE;\n",
       "      border: none;\n",
       "      border-radius: 50%;\n",
       "      cursor: pointer;\n",
       "      display: none;\n",
       "      fill: #1967D2;\n",
       "      height: 32px;\n",
       "      padding: 0 0 0 0;\n",
       "      width: 32px;\n",
       "    }\n",
       "\n",
       "    .colab-df-convert:hover {\n",
       "      background-color: #E2EBFA;\n",
       "      box-shadow: 0px 1px 2px rgba(60, 64, 67, 0.3), 0px 1px 3px 1px rgba(60, 64, 67, 0.15);\n",
       "      fill: #174EA6;\n",
       "    }\n",
       "\n",
       "    .colab-df-buttons div {\n",
       "      margin-bottom: 4px;\n",
       "    }\n",
       "\n",
       "    [theme=dark] .colab-df-convert {\n",
       "      background-color: #3B4455;\n",
       "      fill: #D2E3FC;\n",
       "    }\n",
       "\n",
       "    [theme=dark] .colab-df-convert:hover {\n",
       "      background-color: #434B5C;\n",
       "      box-shadow: 0px 1px 3px 1px rgba(0, 0, 0, 0.15);\n",
       "      filter: drop-shadow(0px 1px 2px rgba(0, 0, 0, 0.3));\n",
       "      fill: #FFFFFF;\n",
       "    }\n",
       "  </style>\n",
       "\n",
       "    <script>\n",
       "      const buttonEl =\n",
       "        document.querySelector('#df-b33a8a31-5194-4547-b64a-92f7856c4f0b button.colab-df-convert');\n",
       "      buttonEl.style.display =\n",
       "        google.colab.kernel.accessAllowed ? 'block' : 'none';\n",
       "\n",
       "      async function convertToInteractive(key) {\n",
       "        const element = document.querySelector('#df-b33a8a31-5194-4547-b64a-92f7856c4f0b');\n",
       "        const dataTable =\n",
       "          await google.colab.kernel.invokeFunction('convertToInteractive',\n",
       "                                                    [key], {});\n",
       "        if (!dataTable) return;\n",
       "\n",
       "        const docLinkHtml = 'Like what you see? Visit the ' +\n",
       "          '<a target=\"_blank\" href=https://colab.research.google.com/notebooks/data_table.ipynb>data table notebook</a>'\n",
       "          + ' to learn more about interactive tables.';\n",
       "        element.innerHTML = '';\n",
       "        dataTable['output_type'] = 'display_data';\n",
       "        await google.colab.output.renderOutput(dataTable, element);\n",
       "        const docLink = document.createElement('div');\n",
       "        docLink.innerHTML = docLinkHtml;\n",
       "        element.appendChild(docLink);\n",
       "      }\n",
       "    </script>\n",
       "  </div>\n",
       "\n",
       "\n",
       "<div id=\"df-87a28f59-2ffa-434c-8c74-ba65dc2c0586\">\n",
       "  <button class=\"colab-df-quickchart\" onclick=\"quickchart('df-87a28f59-2ffa-434c-8c74-ba65dc2c0586')\"\n",
       "            title=\"Suggest charts\"\n",
       "            style=\"display:none;\">\n",
       "\n",
       "<svg xmlns=\"http://www.w3.org/2000/svg\" height=\"24px\"viewBox=\"0 0 24 24\"\n",
       "     width=\"24px\">\n",
       "    <g>\n",
       "        <path d=\"M19 3H5c-1.1 0-2 .9-2 2v14c0 1.1.9 2 2 2h14c1.1 0 2-.9 2-2V5c0-1.1-.9-2-2-2zM9 17H7v-7h2v7zm4 0h-2V7h2v10zm4 0h-2v-4h2v4z\"/>\n",
       "    </g>\n",
       "</svg>\n",
       "  </button>\n",
       "\n",
       "<style>\n",
       "  .colab-df-quickchart {\n",
       "      --bg-color: #E8F0FE;\n",
       "      --fill-color: #1967D2;\n",
       "      --hover-bg-color: #E2EBFA;\n",
       "      --hover-fill-color: #174EA6;\n",
       "      --disabled-fill-color: #AAA;\n",
       "      --disabled-bg-color: #DDD;\n",
       "  }\n",
       "\n",
       "  [theme=dark] .colab-df-quickchart {\n",
       "      --bg-color: #3B4455;\n",
       "      --fill-color: #D2E3FC;\n",
       "      --hover-bg-color: #434B5C;\n",
       "      --hover-fill-color: #FFFFFF;\n",
       "      --disabled-bg-color: #3B4455;\n",
       "      --disabled-fill-color: #666;\n",
       "  }\n",
       "\n",
       "  .colab-df-quickchart {\n",
       "    background-color: var(--bg-color);\n",
       "    border: none;\n",
       "    border-radius: 50%;\n",
       "    cursor: pointer;\n",
       "    display: none;\n",
       "    fill: var(--fill-color);\n",
       "    height: 32px;\n",
       "    padding: 0;\n",
       "    width: 32px;\n",
       "  }\n",
       "\n",
       "  .colab-df-quickchart:hover {\n",
       "    background-color: var(--hover-bg-color);\n",
       "    box-shadow: 0 1px 2px rgba(60, 64, 67, 0.3), 0 1px 3px 1px rgba(60, 64, 67, 0.15);\n",
       "    fill: var(--button-hover-fill-color);\n",
       "  }\n",
       "\n",
       "  .colab-df-quickchart-complete:disabled,\n",
       "  .colab-df-quickchart-complete:disabled:hover {\n",
       "    background-color: var(--disabled-bg-color);\n",
       "    fill: var(--disabled-fill-color);\n",
       "    box-shadow: none;\n",
       "  }\n",
       "\n",
       "  .colab-df-spinner {\n",
       "    border: 2px solid var(--fill-color);\n",
       "    border-color: transparent;\n",
       "    border-bottom-color: var(--fill-color);\n",
       "    animation:\n",
       "      spin 1s steps(1) infinite;\n",
       "  }\n",
       "\n",
       "  @keyframes spin {\n",
       "    0% {\n",
       "      border-color: transparent;\n",
       "      border-bottom-color: var(--fill-color);\n",
       "      border-left-color: var(--fill-color);\n",
       "    }\n",
       "    20% {\n",
       "      border-color: transparent;\n",
       "      border-left-color: var(--fill-color);\n",
       "      border-top-color: var(--fill-color);\n",
       "    }\n",
       "    30% {\n",
       "      border-color: transparent;\n",
       "      border-left-color: var(--fill-color);\n",
       "      border-top-color: var(--fill-color);\n",
       "      border-right-color: var(--fill-color);\n",
       "    }\n",
       "    40% {\n",
       "      border-color: transparent;\n",
       "      border-right-color: var(--fill-color);\n",
       "      border-top-color: var(--fill-color);\n",
       "    }\n",
       "    60% {\n",
       "      border-color: transparent;\n",
       "      border-right-color: var(--fill-color);\n",
       "    }\n",
       "    80% {\n",
       "      border-color: transparent;\n",
       "      border-right-color: var(--fill-color);\n",
       "      border-bottom-color: var(--fill-color);\n",
       "    }\n",
       "    90% {\n",
       "      border-color: transparent;\n",
       "      border-bottom-color: var(--fill-color);\n",
       "    }\n",
       "  }\n",
       "</style>\n",
       "\n",
       "  <script>\n",
       "    async function quickchart(key) {\n",
       "      const quickchartButtonEl =\n",
       "        document.querySelector('#' + key + ' button');\n",
       "      quickchartButtonEl.disabled = true;  // To prevent multiple clicks.\n",
       "      quickchartButtonEl.classList.add('colab-df-spinner');\n",
       "      try {\n",
       "        const charts = await google.colab.kernel.invokeFunction(\n",
       "            'suggestCharts', [key], {});\n",
       "      } catch (error) {\n",
       "        console.error('Error during call to suggestCharts:', error);\n",
       "      }\n",
       "      quickchartButtonEl.classList.remove('colab-df-spinner');\n",
       "      quickchartButtonEl.classList.add('colab-df-quickchart-complete');\n",
       "    }\n",
       "    (() => {\n",
       "      let quickchartButtonEl =\n",
       "        document.querySelector('#df-87a28f59-2ffa-434c-8c74-ba65dc2c0586 button');\n",
       "      quickchartButtonEl.style.display =\n",
       "        google.colab.kernel.accessAllowed ? 'block' : 'none';\n",
       "    })();\n",
       "  </script>\n",
       "</div>\n",
       "\n",
       "    </div>\n",
       "  </div>\n"
      ],
      "text/plain": [
       "         Date  gross income\n",
       "0    1/5/2019       26.1415\n",
       "1    3/8/2019        3.8200\n",
       "2    3/3/2019       16.2155\n",
       "3   1/27/2019       23.2880\n",
       "4    2/8/2019       30.2085\n",
       "..        ...           ...\n",
       "95   3/8/2019        4.8580\n",
       "96  3/29/2019       43.9350\n",
       "97   2/9/2019        3.7350\n",
       "98  3/23/2019        7.9125\n",
       "99   3/5/2019       24.8100\n",
       "\n",
       "[100 rows x 2 columns]"
      ]
     },
     "execution_count": 85,
     "metadata": {},
     "output_type": "execute_result"
    }
   ],
   "source": [
    "timeseries_dataset.head(100)"
   ]
  },
  {
   "cell_type": "markdown",
   "metadata": {
    "id": "nH3b-S1w0iDL"
   },
   "source": [
    "A questo punto proviamo a utilizzare la **linear regression** su questa serie temporale, nello stesso modo di quanto già fatto in precedenza:"
   ]
  },
  {
   "cell_type": "code",
   "execution_count": null,
   "metadata": {
    "id": "A_pURy772ZYq"
   },
   "outputs": [],
   "source": [
    "# training della time series con la linear regression"
   ]
  },
  {
   "cell_type": "code",
   "execution_count": null,
   "metadata": {
    "colab": {
     "base_uri": "https://localhost:8080/",
     "height": 80
    },
    "id": "1uzCq_KUctcd",
    "outputId": "c5b48ceb-600c-4d2e-b19c-f58379c5f7e8"
   },
   "outputs": [
    {
     "data": {
      "text/html": [
       "<style>#sk-container-id-9 {\n",
       "  /* Definition of color scheme common for light and dark mode */\n",
       "  --sklearn-color-text: #000;\n",
       "  --sklearn-color-text-muted: #666;\n",
       "  --sklearn-color-line: gray;\n",
       "  /* Definition of color scheme for unfitted estimators */\n",
       "  --sklearn-color-unfitted-level-0: #fff5e6;\n",
       "  --sklearn-color-unfitted-level-1: #f6e4d2;\n",
       "  --sklearn-color-unfitted-level-2: #ffe0b3;\n",
       "  --sklearn-color-unfitted-level-3: chocolate;\n",
       "  /* Definition of color scheme for fitted estimators */\n",
       "  --sklearn-color-fitted-level-0: #f0f8ff;\n",
       "  --sklearn-color-fitted-level-1: #d4ebff;\n",
       "  --sklearn-color-fitted-level-2: #b3dbfd;\n",
       "  --sklearn-color-fitted-level-3: cornflowerblue;\n",
       "\n",
       "  /* Specific color for light theme */\n",
       "  --sklearn-color-text-on-default-background: var(--sg-text-color, var(--theme-code-foreground, var(--jp-content-font-color1, black)));\n",
       "  --sklearn-color-background: var(--sg-background-color, var(--theme-background, var(--jp-layout-color0, white)));\n",
       "  --sklearn-color-border-box: var(--sg-text-color, var(--theme-code-foreground, var(--jp-content-font-color1, black)));\n",
       "  --sklearn-color-icon: #696969;\n",
       "\n",
       "  @media (prefers-color-scheme: dark) {\n",
       "    /* Redefinition of color scheme for dark theme */\n",
       "    --sklearn-color-text-on-default-background: var(--sg-text-color, var(--theme-code-foreground, var(--jp-content-font-color1, white)));\n",
       "    --sklearn-color-background: var(--sg-background-color, var(--theme-background, var(--jp-layout-color0, #111)));\n",
       "    --sklearn-color-border-box: var(--sg-text-color, var(--theme-code-foreground, var(--jp-content-font-color1, white)));\n",
       "    --sklearn-color-icon: #878787;\n",
       "  }\n",
       "}\n",
       "\n",
       "#sk-container-id-9 {\n",
       "  color: var(--sklearn-color-text);\n",
       "}\n",
       "\n",
       "#sk-container-id-9 pre {\n",
       "  padding: 0;\n",
       "}\n",
       "\n",
       "#sk-container-id-9 input.sk-hidden--visually {\n",
       "  border: 0;\n",
       "  clip: rect(1px 1px 1px 1px);\n",
       "  clip: rect(1px, 1px, 1px, 1px);\n",
       "  height: 1px;\n",
       "  margin: -1px;\n",
       "  overflow: hidden;\n",
       "  padding: 0;\n",
       "  position: absolute;\n",
       "  width: 1px;\n",
       "}\n",
       "\n",
       "#sk-container-id-9 div.sk-dashed-wrapped {\n",
       "  border: 1px dashed var(--sklearn-color-line);\n",
       "  margin: 0 0.4em 0.5em 0.4em;\n",
       "  box-sizing: border-box;\n",
       "  padding-bottom: 0.4em;\n",
       "  background-color: var(--sklearn-color-background);\n",
       "}\n",
       "\n",
       "#sk-container-id-9 div.sk-container {\n",
       "  /* jupyter's `normalize.less` sets `[hidden] { display: none; }`\n",
       "     but bootstrap.min.css set `[hidden] { display: none !important; }`\n",
       "     so we also need the `!important` here to be able to override the\n",
       "     default hidden behavior on the sphinx rendered scikit-learn.org.\n",
       "     See: https://github.com/scikit-learn/scikit-learn/issues/21755 */\n",
       "  display: inline-block !important;\n",
       "  position: relative;\n",
       "}\n",
       "\n",
       "#sk-container-id-9 div.sk-text-repr-fallback {\n",
       "  display: none;\n",
       "}\n",
       "\n",
       "div.sk-parallel-item,\n",
       "div.sk-serial,\n",
       "div.sk-item {\n",
       "  /* draw centered vertical line to link estimators */\n",
       "  background-image: linear-gradient(var(--sklearn-color-text-on-default-background), var(--sklearn-color-text-on-default-background));\n",
       "  background-size: 2px 100%;\n",
       "  background-repeat: no-repeat;\n",
       "  background-position: center center;\n",
       "}\n",
       "\n",
       "/* Parallel-specific style estimator block */\n",
       "\n",
       "#sk-container-id-9 div.sk-parallel-item::after {\n",
       "  content: \"\";\n",
       "  width: 100%;\n",
       "  border-bottom: 2px solid var(--sklearn-color-text-on-default-background);\n",
       "  flex-grow: 1;\n",
       "}\n",
       "\n",
       "#sk-container-id-9 div.sk-parallel {\n",
       "  display: flex;\n",
       "  align-items: stretch;\n",
       "  justify-content: center;\n",
       "  background-color: var(--sklearn-color-background);\n",
       "  position: relative;\n",
       "}\n",
       "\n",
       "#sk-container-id-9 div.sk-parallel-item {\n",
       "  display: flex;\n",
       "  flex-direction: column;\n",
       "}\n",
       "\n",
       "#sk-container-id-9 div.sk-parallel-item:first-child::after {\n",
       "  align-self: flex-end;\n",
       "  width: 50%;\n",
       "}\n",
       "\n",
       "#sk-container-id-9 div.sk-parallel-item:last-child::after {\n",
       "  align-self: flex-start;\n",
       "  width: 50%;\n",
       "}\n",
       "\n",
       "#sk-container-id-9 div.sk-parallel-item:only-child::after {\n",
       "  width: 0;\n",
       "}\n",
       "\n",
       "/* Serial-specific style estimator block */\n",
       "\n",
       "#sk-container-id-9 div.sk-serial {\n",
       "  display: flex;\n",
       "  flex-direction: column;\n",
       "  align-items: center;\n",
       "  background-color: var(--sklearn-color-background);\n",
       "  padding-right: 1em;\n",
       "  padding-left: 1em;\n",
       "}\n",
       "\n",
       "\n",
       "/* Toggleable style: style used for estimator/Pipeline/ColumnTransformer box that is\n",
       "clickable and can be expanded/collapsed.\n",
       "- Pipeline and ColumnTransformer use this feature and define the default style\n",
       "- Estimators will overwrite some part of the style using the `sk-estimator` class\n",
       "*/\n",
       "\n",
       "/* Pipeline and ColumnTransformer style (default) */\n",
       "\n",
       "#sk-container-id-9 div.sk-toggleable {\n",
       "  /* Default theme specific background. It is overwritten whether we have a\n",
       "  specific estimator or a Pipeline/ColumnTransformer */\n",
       "  background-color: var(--sklearn-color-background);\n",
       "}\n",
       "\n",
       "/* Toggleable label */\n",
       "#sk-container-id-9 label.sk-toggleable__label {\n",
       "  cursor: pointer;\n",
       "  display: flex;\n",
       "  width: 100%;\n",
       "  margin-bottom: 0;\n",
       "  padding: 0.5em;\n",
       "  box-sizing: border-box;\n",
       "  text-align: center;\n",
       "  align-items: start;\n",
       "  justify-content: space-between;\n",
       "  gap: 0.5em;\n",
       "}\n",
       "\n",
       "#sk-container-id-9 label.sk-toggleable__label .caption {\n",
       "  font-size: 0.6rem;\n",
       "  font-weight: lighter;\n",
       "  color: var(--sklearn-color-text-muted);\n",
       "}\n",
       "\n",
       "#sk-container-id-9 label.sk-toggleable__label-arrow:before {\n",
       "  /* Arrow on the left of the label */\n",
       "  content: \"▸\";\n",
       "  float: left;\n",
       "  margin-right: 0.25em;\n",
       "  color: var(--sklearn-color-icon);\n",
       "}\n",
       "\n",
       "#sk-container-id-9 label.sk-toggleable__label-arrow:hover:before {\n",
       "  color: var(--sklearn-color-text);\n",
       "}\n",
       "\n",
       "/* Toggleable content - dropdown */\n",
       "\n",
       "#sk-container-id-9 div.sk-toggleable__content {\n",
       "  max-height: 0;\n",
       "  max-width: 0;\n",
       "  overflow: hidden;\n",
       "  text-align: left;\n",
       "  /* unfitted */\n",
       "  background-color: var(--sklearn-color-unfitted-level-0);\n",
       "}\n",
       "\n",
       "#sk-container-id-9 div.sk-toggleable__content.fitted {\n",
       "  /* fitted */\n",
       "  background-color: var(--sklearn-color-fitted-level-0);\n",
       "}\n",
       "\n",
       "#sk-container-id-9 div.sk-toggleable__content pre {\n",
       "  margin: 0.2em;\n",
       "  border-radius: 0.25em;\n",
       "  color: var(--sklearn-color-text);\n",
       "  /* unfitted */\n",
       "  background-color: var(--sklearn-color-unfitted-level-0);\n",
       "}\n",
       "\n",
       "#sk-container-id-9 div.sk-toggleable__content.fitted pre {\n",
       "  /* unfitted */\n",
       "  background-color: var(--sklearn-color-fitted-level-0);\n",
       "}\n",
       "\n",
       "#sk-container-id-9 input.sk-toggleable__control:checked~div.sk-toggleable__content {\n",
       "  /* Expand drop-down */\n",
       "  max-height: 200px;\n",
       "  max-width: 100%;\n",
       "  overflow: auto;\n",
       "}\n",
       "\n",
       "#sk-container-id-9 input.sk-toggleable__control:checked~label.sk-toggleable__label-arrow:before {\n",
       "  content: \"▾\";\n",
       "}\n",
       "\n",
       "/* Pipeline/ColumnTransformer-specific style */\n",
       "\n",
       "#sk-container-id-9 div.sk-label input.sk-toggleable__control:checked~label.sk-toggleable__label {\n",
       "  color: var(--sklearn-color-text);\n",
       "  background-color: var(--sklearn-color-unfitted-level-2);\n",
       "}\n",
       "\n",
       "#sk-container-id-9 div.sk-label.fitted input.sk-toggleable__control:checked~label.sk-toggleable__label {\n",
       "  background-color: var(--sklearn-color-fitted-level-2);\n",
       "}\n",
       "\n",
       "/* Estimator-specific style */\n",
       "\n",
       "/* Colorize estimator box */\n",
       "#sk-container-id-9 div.sk-estimator input.sk-toggleable__control:checked~label.sk-toggleable__label {\n",
       "  /* unfitted */\n",
       "  background-color: var(--sklearn-color-unfitted-level-2);\n",
       "}\n",
       "\n",
       "#sk-container-id-9 div.sk-estimator.fitted input.sk-toggleable__control:checked~label.sk-toggleable__label {\n",
       "  /* fitted */\n",
       "  background-color: var(--sklearn-color-fitted-level-2);\n",
       "}\n",
       "\n",
       "#sk-container-id-9 div.sk-label label.sk-toggleable__label,\n",
       "#sk-container-id-9 div.sk-label label {\n",
       "  /* The background is the default theme color */\n",
       "  color: var(--sklearn-color-text-on-default-background);\n",
       "}\n",
       "\n",
       "/* On hover, darken the color of the background */\n",
       "#sk-container-id-9 div.sk-label:hover label.sk-toggleable__label {\n",
       "  color: var(--sklearn-color-text);\n",
       "  background-color: var(--sklearn-color-unfitted-level-2);\n",
       "}\n",
       "\n",
       "/* Label box, darken color on hover, fitted */\n",
       "#sk-container-id-9 div.sk-label.fitted:hover label.sk-toggleable__label.fitted {\n",
       "  color: var(--sklearn-color-text);\n",
       "  background-color: var(--sklearn-color-fitted-level-2);\n",
       "}\n",
       "\n",
       "/* Estimator label */\n",
       "\n",
       "#sk-container-id-9 div.sk-label label {\n",
       "  font-family: monospace;\n",
       "  font-weight: bold;\n",
       "  display: inline-block;\n",
       "  line-height: 1.2em;\n",
       "}\n",
       "\n",
       "#sk-container-id-9 div.sk-label-container {\n",
       "  text-align: center;\n",
       "}\n",
       "\n",
       "/* Estimator-specific */\n",
       "#sk-container-id-9 div.sk-estimator {\n",
       "  font-family: monospace;\n",
       "  border: 1px dotted var(--sklearn-color-border-box);\n",
       "  border-radius: 0.25em;\n",
       "  box-sizing: border-box;\n",
       "  margin-bottom: 0.5em;\n",
       "  /* unfitted */\n",
       "  background-color: var(--sklearn-color-unfitted-level-0);\n",
       "}\n",
       "\n",
       "#sk-container-id-9 div.sk-estimator.fitted {\n",
       "  /* fitted */\n",
       "  background-color: var(--sklearn-color-fitted-level-0);\n",
       "}\n",
       "\n",
       "/* on hover */\n",
       "#sk-container-id-9 div.sk-estimator:hover {\n",
       "  /* unfitted */\n",
       "  background-color: var(--sklearn-color-unfitted-level-2);\n",
       "}\n",
       "\n",
       "#sk-container-id-9 div.sk-estimator.fitted:hover {\n",
       "  /* fitted */\n",
       "  background-color: var(--sklearn-color-fitted-level-2);\n",
       "}\n",
       "\n",
       "/* Specification for estimator info (e.g. \"i\" and \"?\") */\n",
       "\n",
       "/* Common style for \"i\" and \"?\" */\n",
       "\n",
       ".sk-estimator-doc-link,\n",
       "a:link.sk-estimator-doc-link,\n",
       "a:visited.sk-estimator-doc-link {\n",
       "  float: right;\n",
       "  font-size: smaller;\n",
       "  line-height: 1em;\n",
       "  font-family: monospace;\n",
       "  background-color: var(--sklearn-color-background);\n",
       "  border-radius: 1em;\n",
       "  height: 1em;\n",
       "  width: 1em;\n",
       "  text-decoration: none !important;\n",
       "  margin-left: 0.5em;\n",
       "  text-align: center;\n",
       "  /* unfitted */\n",
       "  border: var(--sklearn-color-unfitted-level-1) 1pt solid;\n",
       "  color: var(--sklearn-color-unfitted-level-1);\n",
       "}\n",
       "\n",
       ".sk-estimator-doc-link.fitted,\n",
       "a:link.sk-estimator-doc-link.fitted,\n",
       "a:visited.sk-estimator-doc-link.fitted {\n",
       "  /* fitted */\n",
       "  border: var(--sklearn-color-fitted-level-1) 1pt solid;\n",
       "  color: var(--sklearn-color-fitted-level-1);\n",
       "}\n",
       "\n",
       "/* On hover */\n",
       "div.sk-estimator:hover .sk-estimator-doc-link:hover,\n",
       ".sk-estimator-doc-link:hover,\n",
       "div.sk-label-container:hover .sk-estimator-doc-link:hover,\n",
       ".sk-estimator-doc-link:hover {\n",
       "  /* unfitted */\n",
       "  background-color: var(--sklearn-color-unfitted-level-3);\n",
       "  color: var(--sklearn-color-background);\n",
       "  text-decoration: none;\n",
       "}\n",
       "\n",
       "div.sk-estimator.fitted:hover .sk-estimator-doc-link.fitted:hover,\n",
       ".sk-estimator-doc-link.fitted:hover,\n",
       "div.sk-label-container:hover .sk-estimator-doc-link.fitted:hover,\n",
       ".sk-estimator-doc-link.fitted:hover {\n",
       "  /* fitted */\n",
       "  background-color: var(--sklearn-color-fitted-level-3);\n",
       "  color: var(--sklearn-color-background);\n",
       "  text-decoration: none;\n",
       "}\n",
       "\n",
       "/* Span, style for the box shown on hovering the info icon */\n",
       ".sk-estimator-doc-link span {\n",
       "  display: none;\n",
       "  z-index: 9999;\n",
       "  position: relative;\n",
       "  font-weight: normal;\n",
       "  right: .2ex;\n",
       "  padding: .5ex;\n",
       "  margin: .5ex;\n",
       "  width: min-content;\n",
       "  min-width: 20ex;\n",
       "  max-width: 50ex;\n",
       "  color: var(--sklearn-color-text);\n",
       "  box-shadow: 2pt 2pt 4pt #999;\n",
       "  /* unfitted */\n",
       "  background: var(--sklearn-color-unfitted-level-0);\n",
       "  border: .5pt solid var(--sklearn-color-unfitted-level-3);\n",
       "}\n",
       "\n",
       ".sk-estimator-doc-link.fitted span {\n",
       "  /* fitted */\n",
       "  background: var(--sklearn-color-fitted-level-0);\n",
       "  border: var(--sklearn-color-fitted-level-3);\n",
       "}\n",
       "\n",
       ".sk-estimator-doc-link:hover span {\n",
       "  display: block;\n",
       "}\n",
       "\n",
       "/* \"?\"-specific style due to the `<a>` HTML tag */\n",
       "\n",
       "#sk-container-id-9 a.estimator_doc_link {\n",
       "  float: right;\n",
       "  font-size: 1rem;\n",
       "  line-height: 1em;\n",
       "  font-family: monospace;\n",
       "  background-color: var(--sklearn-color-background);\n",
       "  border-radius: 1rem;\n",
       "  height: 1rem;\n",
       "  width: 1rem;\n",
       "  text-decoration: none;\n",
       "  /* unfitted */\n",
       "  color: var(--sklearn-color-unfitted-level-1);\n",
       "  border: var(--sklearn-color-unfitted-level-1) 1pt solid;\n",
       "}\n",
       "\n",
       "#sk-container-id-9 a.estimator_doc_link.fitted {\n",
       "  /* fitted */\n",
       "  border: var(--sklearn-color-fitted-level-1) 1pt solid;\n",
       "  color: var(--sklearn-color-fitted-level-1);\n",
       "}\n",
       "\n",
       "/* On hover */\n",
       "#sk-container-id-9 a.estimator_doc_link:hover {\n",
       "  /* unfitted */\n",
       "  background-color: var(--sklearn-color-unfitted-level-3);\n",
       "  color: var(--sklearn-color-background);\n",
       "  text-decoration: none;\n",
       "}\n",
       "\n",
       "#sk-container-id-9 a.estimator_doc_link.fitted:hover {\n",
       "  /* fitted */\n",
       "  background-color: var(--sklearn-color-fitted-level-3);\n",
       "}\n",
       "</style><div id=\"sk-container-id-9\" class=\"sk-top-container\"><div class=\"sk-text-repr-fallback\"><pre>LinearRegression()</pre><b>In a Jupyter environment, please rerun this cell to show the HTML representation or trust the notebook. <br />On GitHub, the HTML representation is unable to render, please try loading this page with nbviewer.org.</b></div><div class=\"sk-container\" hidden><div class=\"sk-item\"><div class=\"sk-estimator fitted sk-toggleable\"><input class=\"sk-toggleable__control sk-hidden--visually\" id=\"sk-estimator-id-9\" type=\"checkbox\" checked><label for=\"sk-estimator-id-9\" class=\"sk-toggleable__label fitted sk-toggleable__label-arrow\"><div><div>LinearRegression</div></div><div><a class=\"sk-estimator-doc-link fitted\" rel=\"noreferrer\" target=\"_blank\" href=\"https://scikit-learn.org/1.6/modules/generated/sklearn.linear_model.LinearRegression.html\">?<span>Documentation for LinearRegression</span></a><span class=\"sk-estimator-doc-link fitted\">i<span>Fitted</span></span></div></label><div class=\"sk-toggleable__content fitted\"><pre>LinearRegression()</pre></div> </div></div></div></div>"
      ],
      "text/plain": [
       "LinearRegression()"
      ]
     },
     "execution_count": 86,
     "metadata": {},
     "output_type": "execute_result"
    }
   ],
   "source": [
    "from sklearn.linear_model import LinearRegression\n",
    "# Create a linear regression model\n",
    "linear_regressor = LinearRegression()\n",
    "# Train the model on the training data\n",
    "linear_regressor.fit(X_train, y_train)"
   ]
  },
  {
   "cell_type": "code",
   "execution_count": null,
   "metadata": {
    "colab": {
     "base_uri": "https://localhost:8080/"
    },
    "id": "WxOAOpnF1XbQ",
    "outputId": "8704bd58-5a7c-4c29-9e99-126c8312fb48"
   },
   "outputs": [
    {
     "name": "stdout",
     "output_type": "stream",
     "text": [
      "MSE = 0.1803298856039157 \n",
      "MAE = 0.3730669505394964\n"
     ]
    }
   ],
   "source": [
    "from sklearn.metrics import mean_squared_error, mean_absolute_error\n",
    "y_pred = linear_regressor.predict(X_test)\n",
    "MSE = mean_squared_error(y_test, y_pred)\n",
    "MAE = mean_absolute_error(y_test, y_pred)\n",
    "\n",
    "print('MSE =', MSE, '\\nMAE =', MAE)"
   ]
  },
  {
   "cell_type": "markdown",
   "metadata": {
    "id": "CmL31BGc1baL"
   },
   "source": [
    "Le metriche MSE e MAE non sono così elevati come in precedenza, questo perché la regressione lineare sulle time series spesso fallisce e c'è bisogno di altri modelli più perfomanti."
   ]
  },
  {
   "cell_type": "markdown",
   "metadata": {
    "id": "qqjVErWi15Un"
   },
   "source": [
    "# Time Series con XGBoost\n",
    "\n",
    "Un modello più performante è XGBoost."
   ]
  },
  {
   "cell_type": "code",
   "execution_count": null,
   "metadata": {
    "id": "mAfL0Rce2Mds"
   },
   "outputs": [],
   "source": [
    "# training e performance evalutation della time series con XGBoost"
   ]
  },
  {
   "cell_type": "code",
   "execution_count": null,
   "metadata": {
    "colab": {
     "base_uri": "https://localhost:8080/",
     "height": 559
    },
    "id": "QClkCAkUZZCZ",
    "outputId": "d7330bf5-ac8a-41c9-b505-06eb1c6ad870"
   },
   "outputs": [
    {
     "name": "stdout",
     "output_type": "stream",
     "text": [
      "MSE = 209.16244780350354 \n",
      "MAE = 11.626365137748719\n"
     ]
    },
    {
     "data": {
      "image/png": "[encoded data removed]",
      "text/plain": [
       "<Figure size 640x480 with 1 Axes>"
      ]
     },
     "metadata": {},
     "output_type": "display_data"
    }
   ],
   "source": [
    "import pandas as pd\n",
    "import xgboost as xgb\n",
    "from sklearn.model_selection import train_test_split\n",
    "from sklearn.metrics import mean_squared_error\n",
    "import matplotlib.pyplot as plt\n",
    "\n",
    "# 1. Prepara i dati:\n",
    "\n",
    "# Crea un nuovo dataset con \"Date\" e \"gross income\"\n",
    "timeseries_dataset = regression_raw_dataset[['Date', 'gross income']].copy()\n",
    "timeseries_dataset['Date'] = pd.to_datetime(timeseries_dataset['Date'])  # Converti \"Date\" in datetime\n",
    "timeseries_dataset.set_index('Date', inplace=True)  # Imposta \"Date\" come indice\n",
    "\n",
    "# Crea feature temporali (ad esempio, mese, giorno della settimana)\n",
    "timeseries_dataset['Month'] = timeseries_dataset.index.month\n",
    "timeseries_dataset['DayOfWeek'] = timeseries_dataset.index.dayofweek\n",
    "\n",
    "# Crea la feature target (utili futuri) - ad esempio, utili del giorno successivo\n",
    "timeseries_dataset['FutureGrossIncome'] = timeseries_dataset['gross income'].shift(-1)\n",
    "timeseries_dataset.dropna(inplace=True)\n",
    "\n",
    "# Seleziona le feature e il target\n",
    "features = ['gross income', 'Month', 'DayOfWeek']\n",
    "target = 'FutureGrossIncome'\n",
    "X = timeseries_dataset[features]\n",
    "y = timeseries_dataset[target]\n",
    "\n",
    "# Dividi i dati in training set e test set\n",
    "X_train, X_test, y_train, y_test = train_test_split(X, y, test_size=0.2, random_state=42)\n",
    "\n",
    "\n",
    "# 2. Addestra il modello XGBoost:\n",
    "\n",
    "model = xgb.XGBRegressor(objective='reg:squarederror')\n",
    "model.fit(X_train, y_train)\n",
    "\n",
    "\n",
    "# 3. Fai previsioni e valuta il modello:\n",
    "\n",
    "y_pred = model.predict(X_test)\n",
    "MSE = mean_squared_error(y_test, y_pred)\n",
    "MAE = mean_absolute_error(y_test, y_pred)\n",
    "\n",
    "print('MSE =', MSE, '\\nMAE =', MAE)\n",
    "\n",
    "\n",
    "# 4. Analizza il trend:\n",
    "\n",
    "# Fai previsioni sull'intero dataset\n",
    "timeseries_dataset['PredictedGrossIncome'] = model.predict(timeseries_dataset[features])\n",
    "\n",
    "# Aggrega i dati per mese\n",
    "monthly_data = timeseries_dataset.resample('ME').sum()  # 'M' per mensile, 'W' per settimanale\n",
    "\n",
    "# Visualizza il trend mensile\n",
    "plt.plot(monthly_data.index, monthly_data['gross income'], label='Utili reali')\n",
    "plt.plot(monthly_data.index, monthly_data['PredictedGrossIncome'], label='Utili previsti')\n",
    "\n",
    "# Visualizza il trend\n",
    "plt.title('Trend degli utili nel tempo')\n",
    "plt.xlabel('Data')\n",
    "plt.ylabel('Utili')\n",
    "plt.legend()\n",
    "plt.xticks(rotation=45, ha='right')  # Ruota di 45 gradi e allinea a destra\n",
    "plt.show()"
   ]
  },
  {
   "cell_type": "markdown",
   "metadata": {
    "id": "BvcxW_IPdYam"
   },
   "source": [
    "Il modello XGBoost ha appreso dai dati storici e ha cercato di identificare pattern e relazioni tra gli utili passati e gli utili futuri.Tuttavia, poiché le previsioni sono superiori agli utili reali, significa che il modello non sta catturando completamente la complessità del fenomeno."
   ]
  }
 ],
 "metadata": {
  "colab": {
   "provenance": []
  },
  "kernelspec": {
   "display_name": "Python 3 (ipykernel)",
   "language": "python",
   "name": "python3"
  },
  "language_info": {
   "codemirror_mode": {
    "name": "ipython",
    "version": 3
   },
   "file_extension": ".py",
   "mimetype": "text/x-python",
   "name": "python",
   "nbconvert_exporter": "python",
   "pygments_lexer": "ipython3",
   "version": "3.12.4"
  }
 },
 "nbformat": 4,
 "nbformat_minor": 4
}
