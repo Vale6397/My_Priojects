{
 "cells": [
  {
   "cell_type": "markdown",
   "id": "392897d3-cb9c-4513-b9ae-7be9c1f62c10",
   "metadata": {},
   "source": [
    "# NEGOZIO \"LA PERLA\": PROGRAMMA DI GESTIONE MAGAZZINO"
   ]
  },
  {
   "cell_type": "markdown",
   "id": "b13023c1-e313-48f7-8815-eab20c9e05bf",
   "metadata": {},
   "source": [
    "### Questo programma permette agli utenti di gestire il magazzino del negozio tramite le opzioni presentate nel menu"
   ]
  },
  {
   "cell_type": "markdown",
   "id": "4ef8bce0-56d3-4736-8a2b-4a6cea8a3a06",
   "metadata": {},
   "source": [
    "*Inventario del negozio.*"
   ]
  },
  {
   "cell_type": "code",
   "execution_count": 70,
   "id": "dd811b7b-c592-4c6d-842a-f37e81cd4f6c",
   "metadata": {},
   "outputs": [],
   "source": [
    "inventory = {\"jeans\":\n",
    "   {\"disponibilita\":20,\n",
    "     \"costo\":50,\n",
    "     \"materiale\":\"cotone\",\n",
    "     \"marca\": \"calvin klein\",\n",
    "     \"colore\": \"blue\"\n",
    "     },\n",
    "   \"tshirt\":\n",
    "    {\"disponibilita\": 40,\n",
    "     \"costo\": 10,\n",
    "     \"materiale\":\"cotone\",\n",
    "     \"marca\": \"dolce e gabbana\",\n",
    "     \"colore\": \"rosso\"\n",
    "     },\n",
    "   \"giacca\":\n",
    "      {\"disponibilita\":2,\n",
    "        \"costo\":20,\n",
    "        \"materiale\":\"lana\",\n",
    "        \"marca\": \"dolce e gabbana\",\n",
    "        \"colore\": \"marrone\"\n",
    "        },\n",
    "   \"felpa\":\n",
    "   {\"disponibilita\":4,\n",
    "      \"costo\":53,\n",
    "      \"materiale\":\"cotone\",\n",
    "      \"marca\": \"calvin klein\",\n",
    "      \"colore\": \"nero\"\n",
    "      },\n",
    "   \"cappello\":\n",
    "    {\"disponibilita\":4,\n",
    "       \"costo\":5,\n",
    "       \"materiale\":\"lana\",\n",
    "       \"marca\": \"calvin klein\",\n",
    "       \"colore\": \"verde\"\n",
    "       }\n",
    "}"
   ]
  },
  {
   "cell_type": "markdown",
   "id": "10b2fc8a-92ef-4736-98fa-6e20ccb19ba1",
   "metadata": {},
   "source": [
    "*Opzione 1: la funzione permette di visualizzare tutti gli elementi presenti nell'inventario.*"
   ]
  },
  {
   "cell_type": "code",
   "execution_count": 4,
   "id": "9c485a86-eda7-4ed9-aa78-0a66cb6cb4c4",
   "metadata": {},
   "outputs": [],
   "source": [
    "def display_inventory(inventory):\n",
    "  if inventory:\n",
    "    for item_name, item_data in inventory.items():\n",
    "      print(f\"Nome Prodotto: {item_name}\")\n",
    "      print(f\"Disponibilità: {item_data['disponibilita']}\")\n",
    "      print(f\"Costo: €{item_data['costo']}\")\n",
    "      print(f\"Materiale: {item_data['materiale']}\")\n",
    "      print(f\"Marca: {item_data['marca']}\")\n",
    "      print(f\"Colore: {item_data['colore']}\")\n",
    "      print(\"-\" * 20) #separatore\n",
    "  else:\n",
    "    print(\"L'inventario è vuoto.\")\n"
   ]
  },
  {
   "cell_type": "markdown",
   "id": "139d3c16-6385-4e04-8406-10a55f023c6f",
   "metadata": {},
   "source": [
    "*Opzione 2: la funzione permette di verificare se il prodotto inserito già esistente in magazzino e ne incrementa la quantità.*"
   ]
  },
  {
   "cell_type": "code",
   "execution_count": 49,
   "id": "f95379e2-e63c-480e-b29a-c6d7e56b9768",
   "metadata": {},
   "outputs": [],
   "source": [
    "def add_item(inventory, item_name):\n",
    "  if item_name in inventory:\n",
    "    inventory[item_name]['disponibilita'] += 1\n",
    "    print(f\"Quantità di {item_name} incrementata.\")\n",
    "  else:\n",
    "    # Se l'elemento non esiste, lo aggiungo all'inventario\n",
    "    inventory[item_name] = {\"disponibilita\": 1}\n",
    "    print(f\"{item_name} aggiunto all'inventario\")\n",
    "    # chiedo all'utente di inserire le caratteristiche del nuovo elemento e le aggiungo al dizionario\n",
    "    print(f\"Inserisci le caratteristiche per {item_name}:\")\n",
    "    costo = input(\"Costo:\")\n",
    "    materiale = input(\"Materiale:\")\n",
    "    marca = input(\"Brand:\")\n",
    "    colore = input(\"Colore:\")\n",
    "    inventory[item_name] = {\"disponibilita\": 1, \"costo\": costo, \"materiale\": materiale, \"marca\": marca, \"colore\": colore}\n"
   ]
  },
  {
   "cell_type": "markdown",
   "id": "99746f6f-93d0-407b-87b2-44ee6989a612",
   "metadata": {},
   "source": [
    "*Opzione 3: la funzione permette di rimuovere di un'unità un prodotto nell'inventario. Se la quantità è pari a 0 cancella il prodotto dall'inventario.*"
   ]
  },
  {
   "cell_type": "code",
   "execution_count": 51,
   "id": "361d836e-e0f5-4fcb-b336-4d5894dbe7cc",
   "metadata": {},
   "outputs": [],
   "source": [
    "def remove_item(inventory, item_name):\n",
    "  if item_name in inventory:\n",
    "    if 'disponibilita' in inventory[item_name]:\n",
    "      inventory[item_name]['disponibilita'] -= 1 #decremento quantità di 1\n",
    "\n",
    "    if inventory[item_name]['disponibilita'] == 0: #rimuovo il prodotto se disponibilita =0\n",
    "      del inventory[item_name]\n",
    "    print(f\"{item_name} rimosso dall'inventario\")\n",
    "  else: \n",
    "    print(\"Prodotto non trovato nell'inventario\")"
   ]
  },
  {
   "cell_type": "markdown",
   "id": "10a7a1fb-00ae-4c5d-8bb4-df717fc599f1",
   "metadata": {},
   "source": [
    "*Opzione 4: la funzione permette di cercare i prodotto in base al materiale, al brand o al colore.*"
   ]
  },
  {
   "cell_type": "code",
   "execution_count": null,
   "id": "754b1a2e-3b83-452f-bc2c-6e6d0a5ad526",
   "metadata": {},
   "outputs": [],
   "source": [
    "def search_items(inventory, search_item):\n",
    "  found_items = []\n",
    "  for item_name, item_data in inventory.items():\n",
    "    if search_item in item_data['materiale'] or search_item in item_data['marca'] or search_item in item_data['colore']:\n",
    "      found_items.append((item_name, item_data))\n",
    "  if found_items:\n",
    "    print(f\"Prodotti trovati per '{search_item}': \")\n",
    "    for item_name, item_data in found_items:\n",
    "      print(f\"Nome prodotto: {item_name}\")\n",
    "      print(f\"Disponibilita: {item_data['disponibilita']}\")\n",
    "      print(f\"Costo: {item_data['costo']}\")\n",
    "      print(f\"Materiale: {item_data['materiale']}\")\n",
    "      print(f\"Marca: {item_data['marca']}\")\n",
    "      print(f\"Colore: {item_data['colore']}\")\n",
    "      print(\"-\" * 20)\n",
    "  else:\n",
    "    print(f\"Nessun prodotto trovato per ' {search_item} '\")"
   ]
  },
  {
   "cell_type": "markdown",
   "id": "941737a0-1a46-4eb5-af90-b7b8ea030b0c",
   "metadata": {},
   "source": [
    "*Opzione 5: la funzione permette di calcolare la somma delle quantità dei prodotti presenti nell'inventario.*"
   ]
  },
  {
   "cell_type": "code",
   "execution_count": 12,
   "id": "d99ffb3d-8a43-4ca5-aa32-48573ea057aa",
   "metadata": {},
   "outputs": [],
   "source": [
    "def total_quantity(inventory):\n",
    "  total = 0\n",
    "  for item_data in inventory.values():\n",
    "    total += item_data['disponibilita']\n",
    "  return total"
   ]
  },
  {
   "cell_type": "markdown",
   "id": "c6572791-f29d-4abb-9bc1-c86812126ec2",
   "metadata": {},
   "source": [
    "*Opzione 6: la funzione permette di verificare per ciascun prodotto se la quantità presente nell'inventario è inferiore a 3 e, nel caso, chiede di effettuare un riordino.*"
   ]
  },
  {
   "cell_type": "code",
   "execution_count": 14,
   "id": "a04bbb24-671f-48e0-877e-44da04ce51d0",
   "metadata": {},
   "outputs": [],
   "source": [
    "def check_stock(inventory):\n",
    "  for item, quantity in inventory.items():\n",
    "    if quantity['disponibilita'] < 3:\n",
    "      print(f\"Richiedi riordino per {item}: Quantità disponibile inferiore a 3 unità\")"
   ]
  },
  {
   "cell_type": "markdown",
   "id": "6cc329fe-c9c0-448f-b1c2-779a68a77bc5",
   "metadata": {},
   "source": [
    "*Opzione 7: la funzione permette di visualizzare il prezzo minimo e massimo fra tutti i prodotti dell'inventario.*"
   ]
  },
  {
   "cell_type": "code",
   "execution_count": 16,
   "id": "09921011-ebdc-4db0-b94e-85754f3ceb34",
   "metadata": {},
   "outputs": [],
   "source": [
    "def display_min_max_price(inventory):\n",
    "  min_price = float('inf')\n",
    "  max_price = float('-inf')\n",
    "  for item, data in inventory.items():\n",
    "    price = data['costo']\n",
    "    if price < min_price:\n",
    "      min_price = price\n",
    "    if price > max_price:\n",
    "      max_price = price\n",
    "\n",
    "  print(f\"Prezzo minimo: €{min_price}\")\n",
    "  print(f\"Prezzo massimo: €{max_price}\")"
   ]
  },
  {
   "cell_type": "markdown",
   "id": "f539fb4e-9555-45fc-aaaa-980396205dc5",
   "metadata": {},
   "source": [
    "*Opzione 8: la funzione permette di visualizzare il totale dei prodotti in magazzino in base al brand.*"
   ]
  },
  {
   "cell_type": "code",
   "execution_count": 18,
   "id": "598d9fe3-f11c-4069-b510-40603a0218a6",
   "metadata": {},
   "outputs": [],
   "source": [
    "def display_total_item_by_brand(inventory):\n",
    "  brand_totals = {}\n",
    "  for item, data in inventory.items():\n",
    "    brand = data['marca']\n",
    "    if brand in brand_totals:\n",
    "      brand_totals[brand] += data['disponibilita']\n",
    "    else:\n",
    "      brand_totals[brand] = data['disponibilita']\n",
    "  print(\"Totale prodotti per brand:\")\n",
    "  for brand, total in brand_totals.items():\n",
    "    print(f\"{brand}: {total} prodotti\")"
   ]
  },
  {
   "cell_type": "markdown",
   "id": "0605c706-6412-48d8-b80a-580b0fb77a1f",
   "metadata": {},
   "source": [
    "*Opzione 9: la funzione permette di visualizzare il totale dei prodotti in magazzino in base al materiale.*"
   ]
  },
  {
   "cell_type": "code",
   "execution_count": 61,
   "id": "5bfe756b-4381-430e-83ae-437c15841db6",
   "metadata": {},
   "outputs": [],
   "source": [
    "def display_total_item_by_category(inventory):\n",
    "  category_totals = {}\n",
    "  for item, data in inventory.items():\n",
    "    category = data['materiale']\n",
    "    if category in category_totals:\n",
    "      category_totals[category] += data['disponibilita']\n",
    "    else:\n",
    "      category_totals[category] = data['disponibilita']\n",
    "  print(\"Totale prodotti per materiale:\")\n",
    "  for category, total in category_totals.items():\n",
    "    print(f\"{category}: {total} prodotti\")"
   ]
  },
  {
   "cell_type": "markdown",
   "id": "0c74ec3a-3bb7-454e-81f6-87d91891a6cc",
   "metadata": {},
   "source": [
    "*Menu principale*"
   ]
  },
  {
   "cell_type": "code",
   "execution_count": null,
   "id": "6dd75de5-8627-4189-89f5-6a9ec7ccc9d2",
   "metadata": {},
   "outputs": [
    {
     "name": "stdout",
     "output_type": "stream",
     "text": [
      "\n",
      "Menu principale: \n",
      "1. Visualizza inventario\n",
      "2. Aggiungi prodotto\n",
      "3. Rimuovi prodotto\n",
      "4. Ricerca un prodotto\n",
      "5. Totale prodotti in magazzino\n",
      "6. Controlla lo stock da riordinare\n",
      "7. Visualizza il prezzo min e max\n",
      "8. Visualizza il totale prodotti per brand\n",
      "9. Visualizza il totale prodotti per materiale\n",
      "10. Esci\n"
     ]
    }
   ],
   "source": [
    "while True:\n",
    "  print(\"\\nMenu principale: \")\n",
    "  print(\"1. Visualizza inventario\")\n",
    "  print(\"2. Aggiungi prodotto\")\n",
    "  print(\"3. Rimuovi prodotto\")\n",
    "  print(\"4. Ricerca un prodotto\")\n",
    "  print(\"5. Totale prodotti in magazzino\")\n",
    "  print(\"6. Controlla lo stock da riordinare\")\n",
    "  print(\"7. Visualizza il prezzo min e max\")\n",
    "  print(\"8. Visualizza il totale prodotti per brand\")\n",
    "  print(\"9. Visualizza il totale prodotti per materiale\")\n",
    "  print(\"10. Esci\")\n",
    "  choice = input(\"Scegli un'opzione: \")\n",
    "  if choice == \"1\":\n",
    "    display_inventory(inventory)\n",
    "  elif choice == \"2\":\n",
    "    item_name = input(\"Inserisci il nome del prodotto: \")\n",
    "    add_item(inventory,item_name)\n",
    "  elif choice == \"3\":\n",
    "    item_name = input(\"Inserisci il nome del prodotto: \")\n",
    "    remove_item(inventory, item_name)\n",
    "  elif choice ==\"4\":\n",
    "    search_item = input('Inserisci il colore, brand o materiale del prodotto da cercare: ')\n",
    "    search_items(inventory,search_item)\n",
    "  elif choice == \"5\":\n",
    "    item_name = total_quantity(inventory)\n",
    "    print(\"La quantità totale in magazzino è: \", item_name)\n",
    "  elif choice == \"6\":\n",
    "    item_name = check_stock(inventory)\n",
    "  elif choice == \"7\":\n",
    "    display_min_max_price(inventory)\n",
    "  elif choice == \"8\":\n",
    "    display_total_item_by_brand(inventory)\n",
    "  elif choice == \"9\":\n",
    "    display_total_item_by_category(inventory)\n",
    "  elif choice == \"10\":\n",
    "    break\n",
    "  else:\n",
    "      print(\"Opzione non valida. Riprova\")"
   ]
  },
  {
   "cell_type": "code",
   "execution_count": null,
   "id": "640028de-9e7b-4a70-8b23-12b8dba9f57d",
   "metadata": {},
   "outputs": [],
   "source": []
  },
  {
   "cell_type": "code",
   "execution_count": null,
   "id": "4ec594eb-3b81-4dd1-8f61-f2898123d0a6",
   "metadata": {},
   "outputs": [],
   "source": []
  }
 ],
 "metadata": {
  "kernelspec": {
   "display_name": "Python 3 (ipykernel)",
   "language": "python",
   "name": "python3"
  },
  "language_info": {
   "codemirror_mode": {
    "name": "ipython",
    "version": 3
   },
   "file_extension": ".py",
   "mimetype": "text/x-python",
   "name": "python",
   "nbconvert_exporter": "python",
   "pygments_lexer": "ipython3",
   "version": "3.12.4"
  }
 },
 "nbformat": 4,
 "nbformat_minor": 5
}
